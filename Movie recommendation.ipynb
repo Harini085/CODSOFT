{
  "nbformat": 4,
  "nbformat_minor": 0,
  "metadata": {
    "colab": {
      "provenance": [],
      "toc_visible": true,
      "authorship_tag": "ABX9TyOaUoUUY/5CKL6rKVh0S4VI",
      "include_colab_link": true
    },
    "kernelspec": {
      "name": "python3",
      "display_name": "Python 3"
    },
    "language_info": {
      "name": "python"
    }
  },
  "cells": [
    {
      "cell_type": "markdown",
      "metadata": {
        "id": "view-in-github",
        "colab_type": "text"
      },
      "source": [
        "<a href=\"https://colab.research.google.com/github/Harini085/CODSOFT/blob/main/Movie%20recommendation.ipynb\" target=\"_parent\"><img src=\"https://colab.research.google.com/assets/colab-badge.svg\" alt=\"Open In Colab\"/></a>"
      ]
    },
    {
      "cell_type": "markdown",
      "source": [
        "**Import Library**"
      ],
      "metadata": {
        "id": "Xi8w23Z9v-WR"
      }
    },
    {
      "cell_type": "code",
      "execution_count": null,
      "metadata": {
        "id": "lATE9Tgfv831"
      },
      "outputs": [],
      "source": [
        "import pandas as pd\n",
        "import numpy as np\n",
        "import matplotlib.pyplot as plt\n",
        "import seaborn as sns"
      ]
    },
    {
      "cell_type": "markdown",
      "source": [
        "Import Dataset"
      ],
      "metadata": {
        "id": "6VreRtbEwaW6"
      }
    },
    {
      "cell_type": "code",
      "source": [
        "df = pd.read_csv('https://raw.githubusercontent.com/YBI-Foundation/Dataset/main/Movies%20Recommendation.csv ')"
      ],
      "metadata": {
        "id": "MOhaOaa_wdEk"
      },
      "execution_count": null,
      "outputs": []
    },
    {
      "cell_type": "code",
      "source": [
        "df.head()"
      ],
      "metadata": {
        "colab": {
          "base_uri": "https://localhost:8080/",
          "height": 672
        },
        "id": "Vl3FITVfkfSq",
        "outputId": "9b0f3c53-2046-404b-e807-e2a5e07e907c"
      },
      "execution_count": null,
      "outputs": [
        {
          "output_type": "execute_result",
          "data": {
            "text/plain": [
              "   Movie_ID      Movie_Title                       Movie_Genre Movie_Language  \\\n",
              "0         1       Four Rooms                      Crime Comedy             en   \n",
              "1         2        Star Wars  Adventure Action Science Fiction             en   \n",
              "2         3     Finding Nemo                  Animation Family             en   \n",
              "3         4     Forrest Gump              Comedy Drama Romance             en   \n",
              "4         5  American Beauty                             Drama             en   \n",
              "\n",
              "   Movie_Budget  Movie_Popularity Movie_Release_Date  Movie_Revenue  \\\n",
              "0       4000000         22.876230         09-12-1995        4300000   \n",
              "1      11000000        126.393695         25-05-1977      775398007   \n",
              "2      94000000         85.688789         30-05-2003      940335536   \n",
              "3      55000000        138.133331         06-07-1994      677945399   \n",
              "4      15000000         80.878605         15-09-1999      356296601   \n",
              "\n",
              "   Movie_Runtime  Movie_Vote  ...  \\\n",
              "0           98.0         6.5  ...   \n",
              "1          121.0         8.1  ...   \n",
              "2          100.0         7.6  ...   \n",
              "3          142.0         8.2  ...   \n",
              "4          122.0         7.9  ...   \n",
              "\n",
              "                                      Movie_Homepage  \\\n",
              "0                                                NaN   \n",
              "1  http://www.starwars.com/films/star-wars-episod...   \n",
              "2              http://movies.disney.com/finding-nemo   \n",
              "3                                                NaN   \n",
              "4                      http://www.dreamworks.com/ab/   \n",
              "\n",
              "                                      Movie_Keywords  \\\n",
              "0          hotel new year's eve witch bet hotel room   \n",
              "1        android galaxy hermit death star lightsaber   \n",
              "2  father son relationship harbor underwater fish...   \n",
              "3  vietnam veteran hippie mentally disabled runni...   \n",
              "4  male nudity female nudity adultery midlife cri...   \n",
              "\n",
              "                                      Movie_Overview  \\\n",
              "0  It's Ted the Bellhop's first night on the job....   \n",
              "1  Princess Leia is captured and held hostage by ...   \n",
              "2  Nemo, an adventurous young clownfish, is unexp...   \n",
              "3  A man with a low IQ has accomplished great thi...   \n",
              "4  Lester Burnham, a depressed suburban father in...   \n",
              "\n",
              "                              Movie_Production_House  \\\n",
              "0  [{\"name\": \"Miramax Films\", \"id\": 14}, {\"name\":...   \n",
              "1  [{\"name\": \"Lucasfilm\", \"id\": 1}, {\"name\": \"Twe...   \n",
              "2     [{\"name\": \"Pixar Animation Studios\", \"id\": 3}]   \n",
              "3          [{\"name\": \"Paramount Pictures\", \"id\": 4}]   \n",
              "4  [{\"name\": \"DreamWorks SKG\", \"id\": 27}, {\"name\"...   \n",
              "\n",
              "                            Movie_Production_Country  \\\n",
              "0  [{\"iso_3166_1\": \"US\", \"name\": \"United States o...   \n",
              "1  [{\"iso_3166_1\": \"US\", \"name\": \"United States o...   \n",
              "2  [{\"iso_3166_1\": \"US\", \"name\": \"United States o...   \n",
              "3  [{\"iso_3166_1\": \"US\", \"name\": \"United States o...   \n",
              "4  [{\"iso_3166_1\": \"US\", \"name\": \"United States o...   \n",
              "\n",
              "                      Movie_Spoken_Language  \\\n",
              "0  [{\"iso_639_1\": \"en\", \"name\": \"English\"}]   \n",
              "1  [{\"iso_639_1\": \"en\", \"name\": \"English\"}]   \n",
              "2  [{\"iso_639_1\": \"en\", \"name\": \"English\"}]   \n",
              "3  [{\"iso_639_1\": \"en\", \"name\": \"English\"}]   \n",
              "4  [{\"iso_639_1\": \"en\", \"name\": \"English\"}]   \n",
              "\n",
              "                                       Movie_Tagline  \\\n",
              "0  Twelve outrageous guests. Four scandalous requ...   \n",
              "1       A long time ago in a galaxy far, far away...   \n",
              "2  There are 3.7 trillion fish in the ocean, they...   \n",
              "3  The world will never be the same, once you've ...   \n",
              "4                                       Look closer.   \n",
              "\n",
              "                                          Movie_Cast  \\\n",
              "0  Tim Roth Antonio Banderas Jennifer Beals Madon...   \n",
              "1  Mark Hamill Harrison Ford Carrie Fisher Peter ...   \n",
              "2  Albert Brooks Ellen DeGeneres Alexander Gould ...   \n",
              "3  Tom Hanks Robin Wright Gary Sinise Mykelti Wil...   \n",
              "4  Kevin Spacey Annette Bening Thora Birch Wes Be...   \n",
              "\n",
              "                                          Movie_Crew   Movie_Director  \n",
              "0  [{'name': 'Allison Anders', 'gender': 1, 'depa...   Allison Anders  \n",
              "1  [{'name': 'George Lucas', 'gender': 2, 'depart...     George Lucas  \n",
              "2  [{'name': 'Andrew Stanton', 'gender': 2, 'depa...   Andrew Stanton  \n",
              "3  [{'name': 'Alan Silvestri', 'gender': 2, 'depa...  Robert Zemeckis  \n",
              "4  [{'name': 'Thomas Newman', 'gender': 2, 'depar...       Sam Mendes  \n",
              "\n",
              "[5 rows x 21 columns]"
            ],
            "text/html": [
              "\n",
              "  <div id=\"df-22720cf1-d9b1-4f0b-974c-2f9f76886b9a\" class=\"colab-df-container\">\n",
              "    <div>\n",
              "<style scoped>\n",
              "    .dataframe tbody tr th:only-of-type {\n",
              "        vertical-align: middle;\n",
              "    }\n",
              "\n",
              "    .dataframe tbody tr th {\n",
              "        vertical-align: top;\n",
              "    }\n",
              "\n",
              "    .dataframe thead th {\n",
              "        text-align: right;\n",
              "    }\n",
              "</style>\n",
              "<table border=\"1\" class=\"dataframe\">\n",
              "  <thead>\n",
              "    <tr style=\"text-align: right;\">\n",
              "      <th></th>\n",
              "      <th>Movie_ID</th>\n",
              "      <th>Movie_Title</th>\n",
              "      <th>Movie_Genre</th>\n",
              "      <th>Movie_Language</th>\n",
              "      <th>Movie_Budget</th>\n",
              "      <th>Movie_Popularity</th>\n",
              "      <th>Movie_Release_Date</th>\n",
              "      <th>Movie_Revenue</th>\n",
              "      <th>Movie_Runtime</th>\n",
              "      <th>Movie_Vote</th>\n",
              "      <th>...</th>\n",
              "      <th>Movie_Homepage</th>\n",
              "      <th>Movie_Keywords</th>\n",
              "      <th>Movie_Overview</th>\n",
              "      <th>Movie_Production_House</th>\n",
              "      <th>Movie_Production_Country</th>\n",
              "      <th>Movie_Spoken_Language</th>\n",
              "      <th>Movie_Tagline</th>\n",
              "      <th>Movie_Cast</th>\n",
              "      <th>Movie_Crew</th>\n",
              "      <th>Movie_Director</th>\n",
              "    </tr>\n",
              "  </thead>\n",
              "  <tbody>\n",
              "    <tr>\n",
              "      <th>0</th>\n",
              "      <td>1</td>\n",
              "      <td>Four Rooms</td>\n",
              "      <td>Crime Comedy</td>\n",
              "      <td>en</td>\n",
              "      <td>4000000</td>\n",
              "      <td>22.876230</td>\n",
              "      <td>09-12-1995</td>\n",
              "      <td>4300000</td>\n",
              "      <td>98.0</td>\n",
              "      <td>6.5</td>\n",
              "      <td>...</td>\n",
              "      <td>NaN</td>\n",
              "      <td>hotel new year's eve witch bet hotel room</td>\n",
              "      <td>It's Ted the Bellhop's first night on the job....</td>\n",
              "      <td>[{\"name\": \"Miramax Films\", \"id\": 14}, {\"name\":...</td>\n",
              "      <td>[{\"iso_3166_1\": \"US\", \"name\": \"United States o...</td>\n",
              "      <td>[{\"iso_639_1\": \"en\", \"name\": \"English\"}]</td>\n",
              "      <td>Twelve outrageous guests. Four scandalous requ...</td>\n",
              "      <td>Tim Roth Antonio Banderas Jennifer Beals Madon...</td>\n",
              "      <td>[{'name': 'Allison Anders', 'gender': 1, 'depa...</td>\n",
              "      <td>Allison Anders</td>\n",
              "    </tr>\n",
              "    <tr>\n",
              "      <th>1</th>\n",
              "      <td>2</td>\n",
              "      <td>Star Wars</td>\n",
              "      <td>Adventure Action Science Fiction</td>\n",
              "      <td>en</td>\n",
              "      <td>11000000</td>\n",
              "      <td>126.393695</td>\n",
              "      <td>25-05-1977</td>\n",
              "      <td>775398007</td>\n",
              "      <td>121.0</td>\n",
              "      <td>8.1</td>\n",
              "      <td>...</td>\n",
              "      <td>http://www.starwars.com/films/star-wars-episod...</td>\n",
              "      <td>android galaxy hermit death star lightsaber</td>\n",
              "      <td>Princess Leia is captured and held hostage by ...</td>\n",
              "      <td>[{\"name\": \"Lucasfilm\", \"id\": 1}, {\"name\": \"Twe...</td>\n",
              "      <td>[{\"iso_3166_1\": \"US\", \"name\": \"United States o...</td>\n",
              "      <td>[{\"iso_639_1\": \"en\", \"name\": \"English\"}]</td>\n",
              "      <td>A long time ago in a galaxy far, far away...</td>\n",
              "      <td>Mark Hamill Harrison Ford Carrie Fisher Peter ...</td>\n",
              "      <td>[{'name': 'George Lucas', 'gender': 2, 'depart...</td>\n",
              "      <td>George Lucas</td>\n",
              "    </tr>\n",
              "    <tr>\n",
              "      <th>2</th>\n",
              "      <td>3</td>\n",
              "      <td>Finding Nemo</td>\n",
              "      <td>Animation Family</td>\n",
              "      <td>en</td>\n",
              "      <td>94000000</td>\n",
              "      <td>85.688789</td>\n",
              "      <td>30-05-2003</td>\n",
              "      <td>940335536</td>\n",
              "      <td>100.0</td>\n",
              "      <td>7.6</td>\n",
              "      <td>...</td>\n",
              "      <td>http://movies.disney.com/finding-nemo</td>\n",
              "      <td>father son relationship harbor underwater fish...</td>\n",
              "      <td>Nemo, an adventurous young clownfish, is unexp...</td>\n",
              "      <td>[{\"name\": \"Pixar Animation Studios\", \"id\": 3}]</td>\n",
              "      <td>[{\"iso_3166_1\": \"US\", \"name\": \"United States o...</td>\n",
              "      <td>[{\"iso_639_1\": \"en\", \"name\": \"English\"}]</td>\n",
              "      <td>There are 3.7 trillion fish in the ocean, they...</td>\n",
              "      <td>Albert Brooks Ellen DeGeneres Alexander Gould ...</td>\n",
              "      <td>[{'name': 'Andrew Stanton', 'gender': 2, 'depa...</td>\n",
              "      <td>Andrew Stanton</td>\n",
              "    </tr>\n",
              "    <tr>\n",
              "      <th>3</th>\n",
              "      <td>4</td>\n",
              "      <td>Forrest Gump</td>\n",
              "      <td>Comedy Drama Romance</td>\n",
              "      <td>en</td>\n",
              "      <td>55000000</td>\n",
              "      <td>138.133331</td>\n",
              "      <td>06-07-1994</td>\n",
              "      <td>677945399</td>\n",
              "      <td>142.0</td>\n",
              "      <td>8.2</td>\n",
              "      <td>...</td>\n",
              "      <td>NaN</td>\n",
              "      <td>vietnam veteran hippie mentally disabled runni...</td>\n",
              "      <td>A man with a low IQ has accomplished great thi...</td>\n",
              "      <td>[{\"name\": \"Paramount Pictures\", \"id\": 4}]</td>\n",
              "      <td>[{\"iso_3166_1\": \"US\", \"name\": \"United States o...</td>\n",
              "      <td>[{\"iso_639_1\": \"en\", \"name\": \"English\"}]</td>\n",
              "      <td>The world will never be the same, once you've ...</td>\n",
              "      <td>Tom Hanks Robin Wright Gary Sinise Mykelti Wil...</td>\n",
              "      <td>[{'name': 'Alan Silvestri', 'gender': 2, 'depa...</td>\n",
              "      <td>Robert Zemeckis</td>\n",
              "    </tr>\n",
              "    <tr>\n",
              "      <th>4</th>\n",
              "      <td>5</td>\n",
              "      <td>American Beauty</td>\n",
              "      <td>Drama</td>\n",
              "      <td>en</td>\n",
              "      <td>15000000</td>\n",
              "      <td>80.878605</td>\n",
              "      <td>15-09-1999</td>\n",
              "      <td>356296601</td>\n",
              "      <td>122.0</td>\n",
              "      <td>7.9</td>\n",
              "      <td>...</td>\n",
              "      <td>http://www.dreamworks.com/ab/</td>\n",
              "      <td>male nudity female nudity adultery midlife cri...</td>\n",
              "      <td>Lester Burnham, a depressed suburban father in...</td>\n",
              "      <td>[{\"name\": \"DreamWorks SKG\", \"id\": 27}, {\"name\"...</td>\n",
              "      <td>[{\"iso_3166_1\": \"US\", \"name\": \"United States o...</td>\n",
              "      <td>[{\"iso_639_1\": \"en\", \"name\": \"English\"}]</td>\n",
              "      <td>Look closer.</td>\n",
              "      <td>Kevin Spacey Annette Bening Thora Birch Wes Be...</td>\n",
              "      <td>[{'name': 'Thomas Newman', 'gender': 2, 'depar...</td>\n",
              "      <td>Sam Mendes</td>\n",
              "    </tr>\n",
              "  </tbody>\n",
              "</table>\n",
              "<p>5 rows × 21 columns</p>\n",
              "</div>\n",
              "    <div class=\"colab-df-buttons\">\n",
              "\n",
              "  <div class=\"colab-df-container\">\n",
              "    <button class=\"colab-df-convert\" onclick=\"convertToInteractive('df-22720cf1-d9b1-4f0b-974c-2f9f76886b9a')\"\n",
              "            title=\"Convert this dataframe to an interactive table.\"\n",
              "            style=\"display:none;\">\n",
              "\n",
              "  <svg xmlns=\"http://www.w3.org/2000/svg\" height=\"24px\" viewBox=\"0 -960 960 960\">\n",
              "    <path d=\"M120-120v-720h720v720H120Zm60-500h600v-160H180v160Zm220 220h160v-160H400v160Zm0 220h160v-160H400v160ZM180-400h160v-160H180v160Zm440 0h160v-160H620v160ZM180-180h160v-160H180v160Zm440 0h160v-160H620v160Z\"/>\n",
              "  </svg>\n",
              "    </button>\n",
              "\n",
              "  <style>\n",
              "    .colab-df-container {\n",
              "      display:flex;\n",
              "      gap: 12px;\n",
              "    }\n",
              "\n",
              "    .colab-df-convert {\n",
              "      background-color: #E8F0FE;\n",
              "      border: none;\n",
              "      border-radius: 50%;\n",
              "      cursor: pointer;\n",
              "      display: none;\n",
              "      fill: #1967D2;\n",
              "      height: 32px;\n",
              "      padding: 0 0 0 0;\n",
              "      width: 32px;\n",
              "    }\n",
              "\n",
              "    .colab-df-convert:hover {\n",
              "      background-color: #E2EBFA;\n",
              "      box-shadow: 0px 1px 2px rgba(60, 64, 67, 0.3), 0px 1px 3px 1px rgba(60, 64, 67, 0.15);\n",
              "      fill: #174EA6;\n",
              "    }\n",
              "\n",
              "    .colab-df-buttons div {\n",
              "      margin-bottom: 4px;\n",
              "    }\n",
              "\n",
              "    [theme=dark] .colab-df-convert {\n",
              "      background-color: #3B4455;\n",
              "      fill: #D2E3FC;\n",
              "    }\n",
              "\n",
              "    [theme=dark] .colab-df-convert:hover {\n",
              "      background-color: #434B5C;\n",
              "      box-shadow: 0px 1px 3px 1px rgba(0, 0, 0, 0.15);\n",
              "      filter: drop-shadow(0px 1px 2px rgba(0, 0, 0, 0.3));\n",
              "      fill: #FFFFFF;\n",
              "    }\n",
              "  </style>\n",
              "\n",
              "    <script>\n",
              "      const buttonEl =\n",
              "        document.querySelector('#df-22720cf1-d9b1-4f0b-974c-2f9f76886b9a button.colab-df-convert');\n",
              "      buttonEl.style.display =\n",
              "        google.colab.kernel.accessAllowed ? 'block' : 'none';\n",
              "\n",
              "      async function convertToInteractive(key) {\n",
              "        const element = document.querySelector('#df-22720cf1-d9b1-4f0b-974c-2f9f76886b9a');\n",
              "        const dataTable =\n",
              "          await google.colab.kernel.invokeFunction('convertToInteractive',\n",
              "                                                    [key], {});\n",
              "        if (!dataTable) return;\n",
              "\n",
              "        const docLinkHtml = 'Like what you see? Visit the ' +\n",
              "          '<a target=\"_blank\" href=https://colab.research.google.com/notebooks/data_table.ipynb>data table notebook</a>'\n",
              "          + ' to learn more about interactive tables.';\n",
              "        element.innerHTML = '';\n",
              "        dataTable['output_type'] = 'display_data';\n",
              "        await google.colab.output.renderOutput(dataTable, element);\n",
              "        const docLink = document.createElement('div');\n",
              "        docLink.innerHTML = docLinkHtml;\n",
              "        element.appendChild(docLink);\n",
              "      }\n",
              "    </script>\n",
              "  </div>\n",
              "\n",
              "\n",
              "<div id=\"df-be69d8d3-449a-4116-aafb-4a9be74a3e21\">\n",
              "  <button class=\"colab-df-quickchart\" onclick=\"quickchart('df-be69d8d3-449a-4116-aafb-4a9be74a3e21')\"\n",
              "            title=\"Suggest charts\"\n",
              "            style=\"display:none;\">\n",
              "\n",
              "<svg xmlns=\"http://www.w3.org/2000/svg\" height=\"24px\"viewBox=\"0 0 24 24\"\n",
              "     width=\"24px\">\n",
              "    <g>\n",
              "        <path d=\"M19 3H5c-1.1 0-2 .9-2 2v14c0 1.1.9 2 2 2h14c1.1 0 2-.9 2-2V5c0-1.1-.9-2-2-2zM9 17H7v-7h2v7zm4 0h-2V7h2v10zm4 0h-2v-4h2v4z\"/>\n",
              "    </g>\n",
              "</svg>\n",
              "  </button>\n",
              "\n",
              "<style>\n",
              "  .colab-df-quickchart {\n",
              "      --bg-color: #E8F0FE;\n",
              "      --fill-color: #1967D2;\n",
              "      --hover-bg-color: #E2EBFA;\n",
              "      --hover-fill-color: #174EA6;\n",
              "      --disabled-fill-color: #AAA;\n",
              "      --disabled-bg-color: #DDD;\n",
              "  }\n",
              "\n",
              "  [theme=dark] .colab-df-quickchart {\n",
              "      --bg-color: #3B4455;\n",
              "      --fill-color: #D2E3FC;\n",
              "      --hover-bg-color: #434B5C;\n",
              "      --hover-fill-color: #FFFFFF;\n",
              "      --disabled-bg-color: #3B4455;\n",
              "      --disabled-fill-color: #666;\n",
              "  }\n",
              "\n",
              "  .colab-df-quickchart {\n",
              "    background-color: var(--bg-color);\n",
              "    border: none;\n",
              "    border-radius: 50%;\n",
              "    cursor: pointer;\n",
              "    display: none;\n",
              "    fill: var(--fill-color);\n",
              "    height: 32px;\n",
              "    padding: 0;\n",
              "    width: 32px;\n",
              "  }\n",
              "\n",
              "  .colab-df-quickchart:hover {\n",
              "    background-color: var(--hover-bg-color);\n",
              "    box-shadow: 0 1px 2px rgba(60, 64, 67, 0.3), 0 1px 3px 1px rgba(60, 64, 67, 0.15);\n",
              "    fill: var(--button-hover-fill-color);\n",
              "  }\n",
              "\n",
              "  .colab-df-quickchart-complete:disabled,\n",
              "  .colab-df-quickchart-complete:disabled:hover {\n",
              "    background-color: var(--disabled-bg-color);\n",
              "    fill: var(--disabled-fill-color);\n",
              "    box-shadow: none;\n",
              "  }\n",
              "\n",
              "  .colab-df-spinner {\n",
              "    border: 2px solid var(--fill-color);\n",
              "    border-color: transparent;\n",
              "    border-bottom-color: var(--fill-color);\n",
              "    animation:\n",
              "      spin 1s steps(1) infinite;\n",
              "  }\n",
              "\n",
              "  @keyframes spin {\n",
              "    0% {\n",
              "      border-color: transparent;\n",
              "      border-bottom-color: var(--fill-color);\n",
              "      border-left-color: var(--fill-color);\n",
              "    }\n",
              "    20% {\n",
              "      border-color: transparent;\n",
              "      border-left-color: var(--fill-color);\n",
              "      border-top-color: var(--fill-color);\n",
              "    }\n",
              "    30% {\n",
              "      border-color: transparent;\n",
              "      border-left-color: var(--fill-color);\n",
              "      border-top-color: var(--fill-color);\n",
              "      border-right-color: var(--fill-color);\n",
              "    }\n",
              "    40% {\n",
              "      border-color: transparent;\n",
              "      border-right-color: var(--fill-color);\n",
              "      border-top-color: var(--fill-color);\n",
              "    }\n",
              "    60% {\n",
              "      border-color: transparent;\n",
              "      border-right-color: var(--fill-color);\n",
              "    }\n",
              "    80% {\n",
              "      border-color: transparent;\n",
              "      border-right-color: var(--fill-color);\n",
              "      border-bottom-color: var(--fill-color);\n",
              "    }\n",
              "    90% {\n",
              "      border-color: transparent;\n",
              "      border-bottom-color: var(--fill-color);\n",
              "    }\n",
              "  }\n",
              "</style>\n",
              "\n",
              "  <script>\n",
              "    async function quickchart(key) {\n",
              "      const quickchartButtonEl =\n",
              "        document.querySelector('#' + key + ' button');\n",
              "      quickchartButtonEl.disabled = true;  // To prevent multiple clicks.\n",
              "      quickchartButtonEl.classList.add('colab-df-spinner');\n",
              "      try {\n",
              "        const charts = await google.colab.kernel.invokeFunction(\n",
              "            'suggestCharts', [key], {});\n",
              "      } catch (error) {\n",
              "        console.error('Error during call to suggestCharts:', error);\n",
              "      }\n",
              "      quickchartButtonEl.classList.remove('colab-df-spinner');\n",
              "      quickchartButtonEl.classList.add('colab-df-quickchart-complete');\n",
              "    }\n",
              "    (() => {\n",
              "      let quickchartButtonEl =\n",
              "        document.querySelector('#df-be69d8d3-449a-4116-aafb-4a9be74a3e21 button');\n",
              "      quickchartButtonEl.style.display =\n",
              "        google.colab.kernel.accessAllowed ? 'block' : 'none';\n",
              "    })();\n",
              "  </script>\n",
              "</div>\n",
              "\n",
              "    </div>\n",
              "  </div>\n"
            ],
            "application/vnd.google.colaboratory.intrinsic+json": {
              "type": "dataframe",
              "variable_name": "df"
            }
          },
          "metadata": {},
          "execution_count": 3
        }
      ]
    },
    {
      "cell_type": "code",
      "source": [
        "df.info()"
      ],
      "metadata": {
        "colab": {
          "base_uri": "https://localhost:8080/"
        },
        "id": "89Mfd_o1ko7i",
        "outputId": "0c4ad47c-f7cd-4201-ec7e-2a9357876757"
      },
      "execution_count": null,
      "outputs": [
        {
          "output_type": "stream",
          "name": "stdout",
          "text": [
            "<class 'pandas.core.frame.DataFrame'>\n",
            "RangeIndex: 4760 entries, 0 to 4759\n",
            "Data columns (total 21 columns):\n",
            " #   Column                    Non-Null Count  Dtype  \n",
            "---  ------                    --------------  -----  \n",
            " 0   Movie_ID                  4760 non-null   int64  \n",
            " 1   Movie_Title               4760 non-null   object \n",
            " 2   Movie_Genre               4760 non-null   object \n",
            " 3   Movie_Language            4760 non-null   object \n",
            " 4   Movie_Budget              4760 non-null   int64  \n",
            " 5   Movie_Popularity          4760 non-null   float64\n",
            " 6   Movie_Release_Date        4760 non-null   object \n",
            " 7   Movie_Revenue             4760 non-null   int64  \n",
            " 8   Movie_Runtime             4758 non-null   float64\n",
            " 9   Movie_Vote                4760 non-null   float64\n",
            " 10  Movie_Vote_Count          4760 non-null   int64  \n",
            " 11  Movie_Homepage            1699 non-null   object \n",
            " 12  Movie_Keywords            4373 non-null   object \n",
            " 13  Movie_Overview            4757 non-null   object \n",
            " 14  Movie_Production_House    4760 non-null   object \n",
            " 15  Movie_Production_Country  4760 non-null   object \n",
            " 16  Movie_Spoken_Language     4760 non-null   object \n",
            " 17  Movie_Tagline             3942 non-null   object \n",
            " 18  Movie_Cast                4733 non-null   object \n",
            " 19  Movie_Crew                4760 non-null   object \n",
            " 20  Movie_Director            4738 non-null   object \n",
            "dtypes: float64(3), int64(4), object(14)\n",
            "memory usage: 781.1+ KB\n"
          ]
        }
      ]
    },
    {
      "cell_type": "code",
      "source": [
        "df.shape"
      ],
      "metadata": {
        "colab": {
          "base_uri": "https://localhost:8080/"
        },
        "id": "AlswkRcplB4O",
        "outputId": "21eebd0a-b53b-464f-eac4-8fc586f137ad"
      },
      "execution_count": null,
      "outputs": [
        {
          "output_type": "execute_result",
          "data": {
            "text/plain": [
              "(4760, 21)"
            ]
          },
          "metadata": {},
          "execution_count": 7
        }
      ]
    },
    {
      "cell_type": "code",
      "source": [
        "df.columns"
      ],
      "metadata": {
        "colab": {
          "base_uri": "https://localhost:8080/"
        },
        "id": "6IQFygYqlZnt",
        "outputId": "306c7e2a-93d9-4530-cae0-fffd04d2d6fa"
      },
      "execution_count": null,
      "outputs": [
        {
          "output_type": "execute_result",
          "data": {
            "text/plain": [
              "Index(['Movie_ID', 'Movie_Title', 'Movie_Genre', 'Movie_Language',\n",
              "       'Movie_Budget', 'Movie_Popularity', 'Movie_Release_Date',\n",
              "       'Movie_Revenue', 'Movie_Runtime', 'Movie_Vote', 'Movie_Vote_Count',\n",
              "       'Movie_Homepage', 'Movie_Keywords', 'Movie_Overview',\n",
              "       'Movie_Production_House', 'Movie_Production_Country',\n",
              "       'Movie_Spoken_Language', 'Movie_Tagline', 'Movie_Cast', 'Movie_Crew',\n",
              "       'Movie_Director'],\n",
              "      dtype='object')"
            ]
          },
          "metadata": {},
          "execution_count": 8
        }
      ]
    },
    {
      "cell_type": "markdown",
      "source": [
        "**Get feature Selection**"
      ],
      "metadata": {
        "id": "7Y313tb_lnVS"
      }
    },
    {
      "cell_type": "code",
      "source": [
        "df_features = df[['Movie_Genre','Movie_Keywords','Movie_Tagline','Movie_Cast','Movie_Director']].fillna('')"
      ],
      "metadata": {
        "id": "a1fHRJgHltIv"
      },
      "execution_count": null,
      "outputs": []
    },
    {
      "cell_type": "code",
      "source": [
        "df_features.shape"
      ],
      "metadata": {
        "colab": {
          "base_uri": "https://localhost:8080/"
        },
        "id": "5jTqtc3ZnQMB",
        "outputId": "c9306de0-9e10-41c8-dba3-1aed7494f40d"
      },
      "execution_count": null,
      "outputs": [
        {
          "output_type": "execute_result",
          "data": {
            "text/plain": [
              "(4760, 5)"
            ]
          },
          "metadata": {},
          "execution_count": 13
        }
      ]
    },
    {
      "cell_type": "code",
      "source": [
        "df_features"
      ],
      "metadata": {
        "colab": {
          "base_uri": "https://localhost:8080/",
          "height": 718
        },
        "id": "_Msb3EqfnspE",
        "outputId": "2f120974-914a-4cf6-d392-b7e40be56c17"
      },
      "execution_count": null,
      "outputs": [
        {
          "output_type": "execute_result",
          "data": {
            "text/plain": [
              "                           Movie_Genre  \\\n",
              "0                         Crime Comedy   \n",
              "1     Adventure Action Science Fiction   \n",
              "2                     Animation Family   \n",
              "3                 Comedy Drama Romance   \n",
              "4                                Drama   \n",
              "...                                ...   \n",
              "4755                            Horror   \n",
              "4756               Comedy Family Drama   \n",
              "4757                    Thriller Drama   \n",
              "4758                            Family   \n",
              "4759                       Documentary   \n",
              "\n",
              "                                         Movie_Keywords  \\\n",
              "0             hotel new year's eve witch bet hotel room   \n",
              "1           android galaxy hermit death star lightsaber   \n",
              "2     father son relationship harbor underwater fish...   \n",
              "3     vietnam veteran hippie mentally disabled runni...   \n",
              "4     male nudity female nudity adultery midlife cri...   \n",
              "...                                                 ...   \n",
              "4755                                                      \n",
              "4756                                                      \n",
              "4757                     christian film sex trafficking   \n",
              "4758                                                      \n",
              "4759  music actors legendary perfomer classic hollyw...   \n",
              "\n",
              "                                          Movie_Tagline  \\\n",
              "0     Twelve outrageous guests. Four scandalous requ...   \n",
              "1          A long time ago in a galaxy far, far away...   \n",
              "2     There are 3.7 trillion fish in the ocean, they...   \n",
              "3     The world will never be the same, once you've ...   \n",
              "4                                          Look closer.   \n",
              "...                                                 ...   \n",
              "4755                The hot spot where Satan's waitin'.   \n",
              "4756           It’s better to stand out than to fit in.   \n",
              "4757           She never knew it could happen to her...   \n",
              "4758                                                      \n",
              "4759                                                      \n",
              "\n",
              "                                             Movie_Cast     Movie_Director  \n",
              "0     Tim Roth Antonio Banderas Jennifer Beals Madon...     Allison Anders  \n",
              "1     Mark Hamill Harrison Ford Carrie Fisher Peter ...       George Lucas  \n",
              "2     Albert Brooks Ellen DeGeneres Alexander Gould ...     Andrew Stanton  \n",
              "3     Tom Hanks Robin Wright Gary Sinise Mykelti Wil...    Robert Zemeckis  \n",
              "4     Kevin Spacey Annette Bening Thora Birch Wes Be...         Sam Mendes  \n",
              "...                                                 ...                ...  \n",
              "4755  Lisa Hart Carroll Michael Des Barres Paul Drak...         Pece Dingo  \n",
              "4756  Roni Akurati Brighton Sharbino Jason Lee Anjul...       Frank Lotito  \n",
              "4757  Nicole Smolen Kim Baldwin Ariana Stephens Brys...       Jaco Booyens  \n",
              "4758                                                                        \n",
              "4759                                    Tony Oppedisano  Simon Napier-Bell  \n",
              "\n",
              "[4760 rows x 5 columns]"
            ],
            "text/html": [
              "\n",
              "  <div id=\"df-589e53bf-b8d0-41e0-8473-12a91e10a36d\" class=\"colab-df-container\">\n",
              "    <div>\n",
              "<style scoped>\n",
              "    .dataframe tbody tr th:only-of-type {\n",
              "        vertical-align: middle;\n",
              "    }\n",
              "\n",
              "    .dataframe tbody tr th {\n",
              "        vertical-align: top;\n",
              "    }\n",
              "\n",
              "    .dataframe thead th {\n",
              "        text-align: right;\n",
              "    }\n",
              "</style>\n",
              "<table border=\"1\" class=\"dataframe\">\n",
              "  <thead>\n",
              "    <tr style=\"text-align: right;\">\n",
              "      <th></th>\n",
              "      <th>Movie_Genre</th>\n",
              "      <th>Movie_Keywords</th>\n",
              "      <th>Movie_Tagline</th>\n",
              "      <th>Movie_Cast</th>\n",
              "      <th>Movie_Director</th>\n",
              "    </tr>\n",
              "  </thead>\n",
              "  <tbody>\n",
              "    <tr>\n",
              "      <th>0</th>\n",
              "      <td>Crime Comedy</td>\n",
              "      <td>hotel new year's eve witch bet hotel room</td>\n",
              "      <td>Twelve outrageous guests. Four scandalous requ...</td>\n",
              "      <td>Tim Roth Antonio Banderas Jennifer Beals Madon...</td>\n",
              "      <td>Allison Anders</td>\n",
              "    </tr>\n",
              "    <tr>\n",
              "      <th>1</th>\n",
              "      <td>Adventure Action Science Fiction</td>\n",
              "      <td>android galaxy hermit death star lightsaber</td>\n",
              "      <td>A long time ago in a galaxy far, far away...</td>\n",
              "      <td>Mark Hamill Harrison Ford Carrie Fisher Peter ...</td>\n",
              "      <td>George Lucas</td>\n",
              "    </tr>\n",
              "    <tr>\n",
              "      <th>2</th>\n",
              "      <td>Animation Family</td>\n",
              "      <td>father son relationship harbor underwater fish...</td>\n",
              "      <td>There are 3.7 trillion fish in the ocean, they...</td>\n",
              "      <td>Albert Brooks Ellen DeGeneres Alexander Gould ...</td>\n",
              "      <td>Andrew Stanton</td>\n",
              "    </tr>\n",
              "    <tr>\n",
              "      <th>3</th>\n",
              "      <td>Comedy Drama Romance</td>\n",
              "      <td>vietnam veteran hippie mentally disabled runni...</td>\n",
              "      <td>The world will never be the same, once you've ...</td>\n",
              "      <td>Tom Hanks Robin Wright Gary Sinise Mykelti Wil...</td>\n",
              "      <td>Robert Zemeckis</td>\n",
              "    </tr>\n",
              "    <tr>\n",
              "      <th>4</th>\n",
              "      <td>Drama</td>\n",
              "      <td>male nudity female nudity adultery midlife cri...</td>\n",
              "      <td>Look closer.</td>\n",
              "      <td>Kevin Spacey Annette Bening Thora Birch Wes Be...</td>\n",
              "      <td>Sam Mendes</td>\n",
              "    </tr>\n",
              "    <tr>\n",
              "      <th>...</th>\n",
              "      <td>...</td>\n",
              "      <td>...</td>\n",
              "      <td>...</td>\n",
              "      <td>...</td>\n",
              "      <td>...</td>\n",
              "    </tr>\n",
              "    <tr>\n",
              "      <th>4755</th>\n",
              "      <td>Horror</td>\n",
              "      <td></td>\n",
              "      <td>The hot spot where Satan's waitin'.</td>\n",
              "      <td>Lisa Hart Carroll Michael Des Barres Paul Drak...</td>\n",
              "      <td>Pece Dingo</td>\n",
              "    </tr>\n",
              "    <tr>\n",
              "      <th>4756</th>\n",
              "      <td>Comedy Family Drama</td>\n",
              "      <td></td>\n",
              "      <td>It’s better to stand out than to fit in.</td>\n",
              "      <td>Roni Akurati Brighton Sharbino Jason Lee Anjul...</td>\n",
              "      <td>Frank Lotito</td>\n",
              "    </tr>\n",
              "    <tr>\n",
              "      <th>4757</th>\n",
              "      <td>Thriller Drama</td>\n",
              "      <td>christian film sex trafficking</td>\n",
              "      <td>She never knew it could happen to her...</td>\n",
              "      <td>Nicole Smolen Kim Baldwin Ariana Stephens Brys...</td>\n",
              "      <td>Jaco Booyens</td>\n",
              "    </tr>\n",
              "    <tr>\n",
              "      <th>4758</th>\n",
              "      <td>Family</td>\n",
              "      <td></td>\n",
              "      <td></td>\n",
              "      <td></td>\n",
              "      <td></td>\n",
              "    </tr>\n",
              "    <tr>\n",
              "      <th>4759</th>\n",
              "      <td>Documentary</td>\n",
              "      <td>music actors legendary perfomer classic hollyw...</td>\n",
              "      <td></td>\n",
              "      <td>Tony Oppedisano</td>\n",
              "      <td>Simon Napier-Bell</td>\n",
              "    </tr>\n",
              "  </tbody>\n",
              "</table>\n",
              "<p>4760 rows × 5 columns</p>\n",
              "</div>\n",
              "    <div class=\"colab-df-buttons\">\n",
              "\n",
              "  <div class=\"colab-df-container\">\n",
              "    <button class=\"colab-df-convert\" onclick=\"convertToInteractive('df-589e53bf-b8d0-41e0-8473-12a91e10a36d')\"\n",
              "            title=\"Convert this dataframe to an interactive table.\"\n",
              "            style=\"display:none;\">\n",
              "\n",
              "  <svg xmlns=\"http://www.w3.org/2000/svg\" height=\"24px\" viewBox=\"0 -960 960 960\">\n",
              "    <path d=\"M120-120v-720h720v720H120Zm60-500h600v-160H180v160Zm220 220h160v-160H400v160Zm0 220h160v-160H400v160ZM180-400h160v-160H180v160Zm440 0h160v-160H620v160ZM180-180h160v-160H180v160Zm440 0h160v-160H620v160Z\"/>\n",
              "  </svg>\n",
              "    </button>\n",
              "\n",
              "  <style>\n",
              "    .colab-df-container {\n",
              "      display:flex;\n",
              "      gap: 12px;\n",
              "    }\n",
              "\n",
              "    .colab-df-convert {\n",
              "      background-color: #E8F0FE;\n",
              "      border: none;\n",
              "      border-radius: 50%;\n",
              "      cursor: pointer;\n",
              "      display: none;\n",
              "      fill: #1967D2;\n",
              "      height: 32px;\n",
              "      padding: 0 0 0 0;\n",
              "      width: 32px;\n",
              "    }\n",
              "\n",
              "    .colab-df-convert:hover {\n",
              "      background-color: #E2EBFA;\n",
              "      box-shadow: 0px 1px 2px rgba(60, 64, 67, 0.3), 0px 1px 3px 1px rgba(60, 64, 67, 0.15);\n",
              "      fill: #174EA6;\n",
              "    }\n",
              "\n",
              "    .colab-df-buttons div {\n",
              "      margin-bottom: 4px;\n",
              "    }\n",
              "\n",
              "    [theme=dark] .colab-df-convert {\n",
              "      background-color: #3B4455;\n",
              "      fill: #D2E3FC;\n",
              "    }\n",
              "\n",
              "    [theme=dark] .colab-df-convert:hover {\n",
              "      background-color: #434B5C;\n",
              "      box-shadow: 0px 1px 3px 1px rgba(0, 0, 0, 0.15);\n",
              "      filter: drop-shadow(0px 1px 2px rgba(0, 0, 0, 0.3));\n",
              "      fill: #FFFFFF;\n",
              "    }\n",
              "  </style>\n",
              "\n",
              "    <script>\n",
              "      const buttonEl =\n",
              "        document.querySelector('#df-589e53bf-b8d0-41e0-8473-12a91e10a36d button.colab-df-convert');\n",
              "      buttonEl.style.display =\n",
              "        google.colab.kernel.accessAllowed ? 'block' : 'none';\n",
              "\n",
              "      async function convertToInteractive(key) {\n",
              "        const element = document.querySelector('#df-589e53bf-b8d0-41e0-8473-12a91e10a36d');\n",
              "        const dataTable =\n",
              "          await google.colab.kernel.invokeFunction('convertToInteractive',\n",
              "                                                    [key], {});\n",
              "        if (!dataTable) return;\n",
              "\n",
              "        const docLinkHtml = 'Like what you see? Visit the ' +\n",
              "          '<a target=\"_blank\" href=https://colab.research.google.com/notebooks/data_table.ipynb>data table notebook</a>'\n",
              "          + ' to learn more about interactive tables.';\n",
              "        element.innerHTML = '';\n",
              "        dataTable['output_type'] = 'display_data';\n",
              "        await google.colab.output.renderOutput(dataTable, element);\n",
              "        const docLink = document.createElement('div');\n",
              "        docLink.innerHTML = docLinkHtml;\n",
              "        element.appendChild(docLink);\n",
              "      }\n",
              "    </script>\n",
              "  </div>\n",
              "\n",
              "\n",
              "<div id=\"df-3e59937f-d523-40d6-acd4-7007e6a5df9b\">\n",
              "  <button class=\"colab-df-quickchart\" onclick=\"quickchart('df-3e59937f-d523-40d6-acd4-7007e6a5df9b')\"\n",
              "            title=\"Suggest charts\"\n",
              "            style=\"display:none;\">\n",
              "\n",
              "<svg xmlns=\"http://www.w3.org/2000/svg\" height=\"24px\"viewBox=\"0 0 24 24\"\n",
              "     width=\"24px\">\n",
              "    <g>\n",
              "        <path d=\"M19 3H5c-1.1 0-2 .9-2 2v14c0 1.1.9 2 2 2h14c1.1 0 2-.9 2-2V5c0-1.1-.9-2-2-2zM9 17H7v-7h2v7zm4 0h-2V7h2v10zm4 0h-2v-4h2v4z\"/>\n",
              "    </g>\n",
              "</svg>\n",
              "  </button>\n",
              "\n",
              "<style>\n",
              "  .colab-df-quickchart {\n",
              "      --bg-color: #E8F0FE;\n",
              "      --fill-color: #1967D2;\n",
              "      --hover-bg-color: #E2EBFA;\n",
              "      --hover-fill-color: #174EA6;\n",
              "      --disabled-fill-color: #AAA;\n",
              "      --disabled-bg-color: #DDD;\n",
              "  }\n",
              "\n",
              "  [theme=dark] .colab-df-quickchart {\n",
              "      --bg-color: #3B4455;\n",
              "      --fill-color: #D2E3FC;\n",
              "      --hover-bg-color: #434B5C;\n",
              "      --hover-fill-color: #FFFFFF;\n",
              "      --disabled-bg-color: #3B4455;\n",
              "      --disabled-fill-color: #666;\n",
              "  }\n",
              "\n",
              "  .colab-df-quickchart {\n",
              "    background-color: var(--bg-color);\n",
              "    border: none;\n",
              "    border-radius: 50%;\n",
              "    cursor: pointer;\n",
              "    display: none;\n",
              "    fill: var(--fill-color);\n",
              "    height: 32px;\n",
              "    padding: 0;\n",
              "    width: 32px;\n",
              "  }\n",
              "\n",
              "  .colab-df-quickchart:hover {\n",
              "    background-color: var(--hover-bg-color);\n",
              "    box-shadow: 0 1px 2px rgba(60, 64, 67, 0.3), 0 1px 3px 1px rgba(60, 64, 67, 0.15);\n",
              "    fill: var(--button-hover-fill-color);\n",
              "  }\n",
              "\n",
              "  .colab-df-quickchart-complete:disabled,\n",
              "  .colab-df-quickchart-complete:disabled:hover {\n",
              "    background-color: var(--disabled-bg-color);\n",
              "    fill: var(--disabled-fill-color);\n",
              "    box-shadow: none;\n",
              "  }\n",
              "\n",
              "  .colab-df-spinner {\n",
              "    border: 2px solid var(--fill-color);\n",
              "    border-color: transparent;\n",
              "    border-bottom-color: var(--fill-color);\n",
              "    animation:\n",
              "      spin 1s steps(1) infinite;\n",
              "  }\n",
              "\n",
              "  @keyframes spin {\n",
              "    0% {\n",
              "      border-color: transparent;\n",
              "      border-bottom-color: var(--fill-color);\n",
              "      border-left-color: var(--fill-color);\n",
              "    }\n",
              "    20% {\n",
              "      border-color: transparent;\n",
              "      border-left-color: var(--fill-color);\n",
              "      border-top-color: var(--fill-color);\n",
              "    }\n",
              "    30% {\n",
              "      border-color: transparent;\n",
              "      border-left-color: var(--fill-color);\n",
              "      border-top-color: var(--fill-color);\n",
              "      border-right-color: var(--fill-color);\n",
              "    }\n",
              "    40% {\n",
              "      border-color: transparent;\n",
              "      border-right-color: var(--fill-color);\n",
              "      border-top-color: var(--fill-color);\n",
              "    }\n",
              "    60% {\n",
              "      border-color: transparent;\n",
              "      border-right-color: var(--fill-color);\n",
              "    }\n",
              "    80% {\n",
              "      border-color: transparent;\n",
              "      border-right-color: var(--fill-color);\n",
              "      border-bottom-color: var(--fill-color);\n",
              "    }\n",
              "    90% {\n",
              "      border-color: transparent;\n",
              "      border-bottom-color: var(--fill-color);\n",
              "    }\n",
              "  }\n",
              "</style>\n",
              "\n",
              "  <script>\n",
              "    async function quickchart(key) {\n",
              "      const quickchartButtonEl =\n",
              "        document.querySelector('#' + key + ' button');\n",
              "      quickchartButtonEl.disabled = true;  // To prevent multiple clicks.\n",
              "      quickchartButtonEl.classList.add('colab-df-spinner');\n",
              "      try {\n",
              "        const charts = await google.colab.kernel.invokeFunction(\n",
              "            'suggestCharts', [key], {});\n",
              "      } catch (error) {\n",
              "        console.error('Error during call to suggestCharts:', error);\n",
              "      }\n",
              "      quickchartButtonEl.classList.remove('colab-df-spinner');\n",
              "      quickchartButtonEl.classList.add('colab-df-quickchart-complete');\n",
              "    }\n",
              "    (() => {\n",
              "      let quickchartButtonEl =\n",
              "        document.querySelector('#df-3e59937f-d523-40d6-acd4-7007e6a5df9b button');\n",
              "      quickchartButtonEl.style.display =\n",
              "        google.colab.kernel.accessAllowed ? 'block' : 'none';\n",
              "    })();\n",
              "  </script>\n",
              "</div>\n",
              "\n",
              "  <div id=\"id_56ac5866-2d92-4112-9e7d-8252b199b5bd\">\n",
              "    <style>\n",
              "      .colab-df-generate {\n",
              "        background-color: #E8F0FE;\n",
              "        border: none;\n",
              "        border-radius: 50%;\n",
              "        cursor: pointer;\n",
              "        display: none;\n",
              "        fill: #1967D2;\n",
              "        height: 32px;\n",
              "        padding: 0 0 0 0;\n",
              "        width: 32px;\n",
              "      }\n",
              "\n",
              "      .colab-df-generate:hover {\n",
              "        background-color: #E2EBFA;\n",
              "        box-shadow: 0px 1px 2px rgba(60, 64, 67, 0.3), 0px 1px 3px 1px rgba(60, 64, 67, 0.15);\n",
              "        fill: #174EA6;\n",
              "      }\n",
              "\n",
              "      [theme=dark] .colab-df-generate {\n",
              "        background-color: #3B4455;\n",
              "        fill: #D2E3FC;\n",
              "      }\n",
              "\n",
              "      [theme=dark] .colab-df-generate:hover {\n",
              "        background-color: #434B5C;\n",
              "        box-shadow: 0px 1px 3px 1px rgba(0, 0, 0, 0.15);\n",
              "        filter: drop-shadow(0px 1px 2px rgba(0, 0, 0, 0.3));\n",
              "        fill: #FFFFFF;\n",
              "      }\n",
              "    </style>\n",
              "    <button class=\"colab-df-generate\" onclick=\"generateWithVariable('df_features')\"\n",
              "            title=\"Generate code using this dataframe.\"\n",
              "            style=\"display:none;\">\n",
              "\n",
              "  <svg xmlns=\"http://www.w3.org/2000/svg\" height=\"24px\"viewBox=\"0 0 24 24\"\n",
              "       width=\"24px\">\n",
              "    <path d=\"M7,19H8.4L18.45,9,17,7.55,7,17.6ZM5,21V16.75L18.45,3.32a2,2,0,0,1,2.83,0l1.4,1.43a1.91,1.91,0,0,1,.58,1.4,1.91,1.91,0,0,1-.58,1.4L9.25,21ZM18.45,9,17,7.55Zm-12,3A5.31,5.31,0,0,0,4.9,8.1,5.31,5.31,0,0,0,1,6.5,5.31,5.31,0,0,0,4.9,4.9,5.31,5.31,0,0,0,6.5,1,5.31,5.31,0,0,0,8.1,4.9,5.31,5.31,0,0,0,12,6.5,5.46,5.46,0,0,0,6.5,12Z\"/>\n",
              "  </svg>\n",
              "    </button>\n",
              "    <script>\n",
              "      (() => {\n",
              "      const buttonEl =\n",
              "        document.querySelector('#id_56ac5866-2d92-4112-9e7d-8252b199b5bd button.colab-df-generate');\n",
              "      buttonEl.style.display =\n",
              "        google.colab.kernel.accessAllowed ? 'block' : 'none';\n",
              "\n",
              "      buttonEl.onclick = () => {\n",
              "        google.colab.notebook.generateWithVariable('df_features');\n",
              "      }\n",
              "      })();\n",
              "    </script>\n",
              "  </div>\n",
              "\n",
              "    </div>\n",
              "  </div>\n"
            ],
            "application/vnd.google.colaboratory.intrinsic+json": {
              "type": "dataframe",
              "variable_name": "df_features",
              "summary": "{\n  \"name\": \"df_features\",\n  \"rows\": 4760,\n  \"fields\": [\n    {\n      \"column\": \"Movie_Genre\",\n      \"properties\": {\n        \"dtype\": \"category\",\n        \"num_unique_values\": 1164,\n        \"samples\": [\n          \"Family Animation Adventure\",\n          \"Adventure Science Fiction Action\",\n          \"Action Crime Drama Romance Thriller\"\n        ],\n        \"semantic_type\": \"\",\n        \"description\": \"\"\n      }\n    },\n    {\n      \"column\": \"Movie_Keywords\",\n      \"properties\": {\n        \"dtype\": \"string\",\n        \"num_unique_values\": 4203,\n        \"samples\": [\n          \"canada nazis sequel spin off ancient evil\",\n          \"sex professor wedding woman director columbia university\",\n          \"prophecy sea beach gold small town\"\n        ],\n        \"semantic_type\": \"\",\n        \"description\": \"\"\n      }\n    },\n    {\n      \"column\": \"Movie_Tagline\",\n      \"properties\": {\n        \"dtype\": \"string\",\n        \"num_unique_values\": 3928,\n        \"samples\": [\n          \"The messenger must be silenced.\",\n          \"It's not the house that's haunted.\",\n          \"The final hunt begins.\"\n        ],\n        \"semantic_type\": \"\",\n        \"description\": \"\"\n      }\n    },\n    {\n      \"column\": \"Movie_Cast\",\n      \"properties\": {\n        \"dtype\": \"string\",\n        \"num_unique_values\": 4715,\n        \"samples\": [\n          \"Robin Tunney Fairuza Balk Neve Campbell Rachel True Skeet Ulrich\",\n          \"Peter Sellers Christopher Plummer Herbert Lom Catherine Schell Peter Arne\",\n          \"John Wayne Laraine Day Cedric Hardwicke Judith Anderson Anthony Quinn\"\n        ],\n        \"semantic_type\": \"\",\n        \"description\": \"\"\n      }\n    },\n    {\n      \"column\": \"Movie_Director\",\n      \"properties\": {\n        \"dtype\": \"category\",\n        \"num_unique_values\": 2332,\n        \"samples\": [\n          \"Rob McKittrick\",\n          \"Terron R. Parsons\",\n          \"Cyrus Nowrasteh\"\n        ],\n        \"semantic_type\": \"\",\n        \"description\": \"\"\n      }\n    }\n  ]\n}"
            }
          },
          "metadata": {},
          "execution_count": 16
        }
      ]
    },
    {
      "cell_type": "code",
      "source": [
        "x = df_features['Movie_Genre'] + ' '+df_features['Movie_Keywords'] + ' ' + df_features['Movie_Tagline'] + ' ' + df_features['Movie_Cast'] + ' '+df_features['Movie_Director']"
      ],
      "metadata": {
        "id": "DrxHZTV0n3cH"
      },
      "execution_count": null,
      "outputs": []
    },
    {
      "cell_type": "code",
      "source": [
        "x"
      ],
      "metadata": {
        "colab": {
          "base_uri": "https://localhost:8080/"
        },
        "id": "4BEOAMzSoll0",
        "outputId": "615d703a-1605-4aa7-9df2-5be805c30442"
      },
      "execution_count": null,
      "outputs": [
        {
          "output_type": "execute_result",
          "data": {
            "text/plain": [
              "0       Crime Comedy hotel new year's eve witch bet ho...\n",
              "1       Adventure Action Science Fiction android galax...\n",
              "2       Animation Family father son relationship harbo...\n",
              "3       Comedy Drama Romance vietnam veteran hippie me...\n",
              "4       Drama male nudity female nudity adultery midli...\n",
              "                              ...                        \n",
              "4755    Horror  The hot spot where Satan's waitin'. Li...\n",
              "4756    Comedy Family Drama  It’s better to stand out ...\n",
              "4757    Thriller Drama christian film sex trafficking ...\n",
              "4758                                           Family    \n",
              "4759    Documentary music actors legendary perfomer cl...\n",
              "Length: 4760, dtype: object"
            ]
          },
          "metadata": {},
          "execution_count": 18
        }
      ]
    },
    {
      "cell_type": "code",
      "source": [
        "x.shape"
      ],
      "metadata": {
        "colab": {
          "base_uri": "https://localhost:8080/"
        },
        "id": "_gfc27TEoogq",
        "outputId": "414f932b-b16c-422e-b22a-c5f1d042d871"
      },
      "execution_count": null,
      "outputs": [
        {
          "output_type": "execute_result",
          "data": {
            "text/plain": [
              "(4760,)"
            ]
          },
          "metadata": {},
          "execution_count": 19
        }
      ]
    },
    {
      "cell_type": "markdown",
      "source": [
        "**get feature text conversion to tokens**"
      ],
      "metadata": {
        "id": "_pPSqSxQotKr"
      }
    },
    {
      "cell_type": "code",
      "source": [
        "from sklearn.feature_extraction.text import TfidfVectorizer"
      ],
      "metadata": {
        "id": "V0tVod0Po1OL"
      },
      "execution_count": null,
      "outputs": []
    },
    {
      "cell_type": "code",
      "source": [
        "tfidf = TfidfVectorizer()"
      ],
      "metadata": {
        "id": "5X62E23fpCMG"
      },
      "execution_count": null,
      "outputs": []
    },
    {
      "cell_type": "code",
      "source": [
        "x = tfidf.fit_transform(x)"
      ],
      "metadata": {
        "id": "BP1V1x6dpMxp"
      },
      "execution_count": null,
      "outputs": []
    },
    {
      "cell_type": "code",
      "source": [
        "print(x)"
      ],
      "metadata": {
        "colab": {
          "base_uri": "https://localhost:8080/"
        },
        "id": "gz_rcD79pc81",
        "outputId": "570f6588-664d-4bcc-893e-ec5dc297d58c"
      },
      "execution_count": null,
      "outputs": [
        {
          "output_type": "stream",
          "name": "stdout",
          "text": [
            "  (0, 617)\t0.1633382144407513\n",
            "  (0, 492)\t0.1432591540388685\n",
            "  (0, 15413)\t0.1465525095337543\n",
            "  (0, 9675)\t0.14226057295252661\n",
            "  (0, 9465)\t0.1659841367820977\n",
            "  (0, 1390)\t0.16898383612799558\n",
            "  (0, 7825)\t0.09799561597509843\n",
            "  (0, 1214)\t0.13865857545144072\n",
            "  (0, 729)\t0.13415063359531618\n",
            "  (0, 13093)\t0.1432591540388685\n",
            "  (0, 15355)\t0.10477815972666779\n",
            "  (0, 9048)\t0.0866842116160778\n",
            "  (0, 11161)\t0.06250380151644369\n",
            "  (0, 16773)\t0.17654247479915475\n",
            "  (0, 5612)\t0.08603537588547631\n",
            "  (0, 16735)\t0.10690083751525419\n",
            "  (0, 7904)\t0.13348000542112332\n",
            "  (0, 15219)\t0.09800472886453934\n",
            "  (0, 11242)\t0.07277788238484746\n",
            "  (0, 3878)\t0.11998399582562203\n",
            "  (0, 5499)\t0.11454057510303811\n",
            "  (0, 7071)\t0.19822417598406614\n",
            "  (0, 7454)\t0.14745635785412262\n",
            "  (0, 1495)\t0.19712637387361423\n",
            "  (0, 9206)\t0.15186283580984414\n",
            "  :\t:\n",
            "  (4757, 5455)\t0.12491480594769522\n",
            "  (4757, 2967)\t0.16273475835631626\n",
            "  (4757, 8464)\t0.23522565554066333\n",
            "  (4757, 6938)\t0.17088173678136628\n",
            "  (4757, 8379)\t0.17480603856721913\n",
            "  (4757, 15303)\t0.07654356007668191\n",
            "  (4757, 15384)\t0.09754322497537371\n",
            "  (4757, 7649)\t0.11479421494340192\n",
            "  (4757, 10896)\t0.14546473055066447\n",
            "  (4757, 4494)\t0.05675298448720501\n",
            "  (4758, 5238)\t1.0\n",
            "  (4759, 11264)\t0.33947721804318337\n",
            "  (4759, 11708)\t0.33947721804318337\n",
            "  (4759, 205)\t0.3237911628497312\n",
            "  (4759, 8902)\t0.3040290704566037\n",
            "  (4759, 14062)\t0.3237911628497312\n",
            "  (4759, 3058)\t0.2812896191863103\n",
            "  (4759, 7130)\t0.26419662449963793\n",
            "  (4759, 10761)\t0.3126617295732147\n",
            "  (4759, 4358)\t0.18306542312175342\n",
            "  (4759, 14051)\t0.20084315377640435\n",
            "  (4759, 5690)\t0.19534291014627303\n",
            "  (4759, 15431)\t0.19628653185946862\n",
            "  (4759, 1490)\t0.21197258705292082\n",
            "  (4759, 10666)\t0.15888268987343043\n"
          ]
        }
      ]
    },
    {
      "cell_type": "markdown",
      "source": [
        "**Get Similarity Score using Cosine Similarity**"
      ],
      "metadata": {
        "id": "EP9Pq9PRpxcX"
      }
    },
    {
      "cell_type": "code",
      "source": [
        "from sklearn.metrics.pairwise import cosine_similarity"
      ],
      "metadata": {
        "id": "2A8wab9Tpgbn"
      },
      "execution_count": null,
      "outputs": []
    },
    {
      "cell_type": "code",
      "source": [
        "Similarity_Score = cosine_similarity(x)"
      ],
      "metadata": {
        "id": "KsmyBvOZqQWB"
      },
      "execution_count": null,
      "outputs": []
    },
    {
      "cell_type": "code",
      "source": [
        "Similarity_Score"
      ],
      "metadata": {
        "colab": {
          "base_uri": "https://localhost:8080/"
        },
        "id": "RnF4UpIdqdEe",
        "outputId": "801d97e4-a6b8-4d7e-ed9e-51df91db690f"
      },
      "execution_count": null,
      "outputs": [
        {
          "output_type": "execute_result",
          "data": {
            "text/plain": [
              "array([[1.        , 0.01351235, 0.03570468, ..., 0.        , 0.        ,\n",
              "        0.        ],\n",
              "       [0.01351235, 1.        , 0.00806674, ..., 0.        , 0.        ,\n",
              "        0.        ],\n",
              "       [0.03570468, 0.00806674, 1.        , ..., 0.        , 0.08014876,\n",
              "        0.        ],\n",
              "       ...,\n",
              "       [0.        , 0.        , 0.        , ..., 1.        , 0.        ,\n",
              "        0.        ],\n",
              "       [0.        , 0.        , 0.08014876, ..., 0.        , 1.        ,\n",
              "        0.        ],\n",
              "       [0.        , 0.        , 0.        , ..., 0.        , 0.        ,\n",
              "        1.        ]])"
            ]
          },
          "metadata": {},
          "execution_count": 28
        }
      ]
    },
    {
      "cell_type": "code",
      "source": [
        "Similarity_Score.shape"
      ],
      "metadata": {
        "colab": {
          "base_uri": "https://localhost:8080/"
        },
        "id": "2zW7vgKaqj2W",
        "outputId": "5dc8c7f5-fc93-4648-d037-c8da3d3d636e"
      },
      "execution_count": null,
      "outputs": [
        {
          "output_type": "execute_result",
          "data": {
            "text/plain": [
              "(4760, 4760)"
            ]
          },
          "metadata": {},
          "execution_count": 29
        }
      ]
    },
    {
      "cell_type": "markdown",
      "source": [
        "**Get Movie name as input from user and validate for closest spelling**"
      ],
      "metadata": {
        "id": "LN8aCTepqsUF"
      }
    },
    {
      "cell_type": "code",
      "source": [
        "Favourite_Movie_Name = input('Enter your favorite name : ')\n"
      ],
      "metadata": {
        "colab": {
          "base_uri": "https://localhost:8080/"
        },
        "id": "frJexeMiq02F",
        "outputId": "81e96734-32da-4706-f9b7-b494ec19d3fc"
      },
      "execution_count": null,
      "outputs": [
        {
          "name": "stdout",
          "output_type": "stream",
          "text": [
            "Enter your favorite name : Neemo\n"
          ]
        }
      ]
    },
    {
      "cell_type": "code",
      "source": [
        "All_Movies_Title_List = df['Movie_Title'].tolist()"
      ],
      "metadata": {
        "id": "tVaLUQugvb58"
      },
      "execution_count": null,
      "outputs": []
    },
    {
      "cell_type": "code",
      "source": [
        "import difflib"
      ],
      "metadata": {
        "id": "C9BU6swdsSXs"
      },
      "execution_count": null,
      "outputs": []
    },
    {
      "cell_type": "code",
      "source": [
        "Movie_Recommendation = difflib.get_close_matches(Favourite_Movie_Name,All_Movies_Title_List)"
      ],
      "metadata": {
        "id": "_siYjtIJsVU-"
      },
      "execution_count": null,
      "outputs": []
    },
    {
      "cell_type": "code",
      "source": [
        "Close_Match = Movie_Recommendation[0]\n",
        "print(Close_Match)"
      ],
      "metadata": {
        "colab": {
          "base_uri": "https://localhost:8080/"
        },
        "id": "tdW29RN2sqoi",
        "outputId": "6cbe485a-794f-4a95-ef79-0459ff333de3"
      },
      "execution_count": null,
      "outputs": [
        {
          "output_type": "stream",
          "name": "stdout",
          "text": [
            "Nerve\n"
          ]
        }
      ]
    },
    {
      "cell_type": "code",
      "source": [
        "Index_of_Close_Match_Movie = df[df.Movie_Title == Close_Match]['Movie_ID'].values[0]\n",
        "print(Index_of_Close_Match_Movie)"
      ],
      "metadata": {
        "colab": {
          "base_uri": "https://localhost:8080/"
        },
        "id": "8z95qITBtbgA",
        "outputId": "d91c217f-16e5-4025-faf4-d3c12ee34fb6"
      },
      "execution_count": null,
      "outputs": [
        {
          "output_type": "stream",
          "name": "stdout",
          "text": [
            "4685\n"
          ]
        }
      ]
    },
    {
      "cell_type": "code",
      "source": [
        "#get list of similar movie\n",
        "Recommendation_Score = list(enumerate(Similarity_Score[Index_of_Close_Match_Movie]))\n",
        "print(Recommendation_Score)"
      ],
      "metadata": {
        "colab": {
          "base_uri": "https://localhost:8080/"
        },
        "id": "czk8v3iwuEL7",
        "outputId": "9d524276-82e4-4bd2-887f-53f223781355"
      },
      "execution_count": null,
      "outputs": [
        {
          "output_type": "stream",
          "name": "stdout",
          "text": [
            "[(0, 0.011898074085976502), (1, 0.0), (2, 0.003916791046665959), (3, 0.021088473244135902), (4, 0.0030254566730943005), (5, 0.0028759465994353884), (6, 0.0), (7, 0.011897328693331608), (8, 0.003114058610507181), (9, 0.011097000261868238), (10, 0.004864574964853905), (11, 0.0076963295032983145), (12, 0.007936696021447658), (13, 0.0), (14, 0.004177028815315889), (15, 0.025381022546381075), (16, 0.0023899546651702003), (17, 0.0), (18, 0.0071266371087858795), (19, 0.009932056016926373), (20, 0.0029992159364189723), (21, 0.0030663724014360267), (22, 0.0073741592062042055), (23, 0.002988090942437465), (24, 0.0018727858809425338), (25, 0.012291291117207127), (26, 0.0028056146550921135), (27, 0.0), (28, 0.004634653801405392), (29, 0.01414996306460979), (30, 0.0), (31, 0.0026967209154847888), (32, 0.009027356433775564), (33, 0.006568160368313906), (34, 0.0029837429801103195), (35, 0.019488968030511686), (36, 0.0), (37, 0.012501332732597107), (38, 0.005216658942716974), (39, 0.009167022909259255), (40, 0.008330963893345084), (41, 0.0031906317768671606), (42, 0.0), (43, 0.009448753333035334), (44, 0.00856914391287312), (45, 0.004332305000054767), (46, 0.0), (47, 0.0), (48, 0.008189159974953184), (49, 0.0), (50, 0.0), (51, 0.05223898595814169), (52, 0.0027416637207498466), (53, 0.0), (54, 0.0), (55, 0.0), (56, 0.01685664158933389), (57, 0.023544205329539658), (58, 0.0038275073270229018), (59, 0.0), (60, 0.01271073211304471), (61, 0.0028309462506839276), (62, 0.019564842902389593), (63, 0.021900097316129786), (64, 0.0038231818626975897), (65, 0.004526699100443146), (66, 0.002861821679491577), (67, 0.025886928324473438), (68, 0.003041040768835531), (69, 0.0), (70, 0.0), (71, 0.002937570852326742), (72, 0.004427059083480104), (73, 0.0), (74, 0.012759209395724228), (75, 0.015336055401650778), (76, 0.0), (77, 0.0), (78, 0.010079888217133192), (79, 0.014812596481034546), (80, 0.0041825650534091765), (81, 0.0), (82, 0.020375548352574824), (83, 0.012151645682466081), (84, 0.004469467249236709), (85, 0.009903097930987597), (86, 0.010312795114985986), (87, 0.0027680520892544485), (88, 0.0037649904038425694), (89, 0.0), (90, 0.0), (91, 0.004041180186039464), (92, 0.002523436707431404), (93, 0.0), (94, 0.00419194134491571), (95, 0.0), (96, 0.00687867528438609), (97, 0.006522253523190701), (98, 0.002807750853946869), (99, 0.0), (100, 0.0), (101, 0.010122612129028593), (102, 0.004987076486147541), (103, 0.0024835928026243283), (104, 0.014952734467426145), (105, 0.024452315723971635), (106, 0.017155171267825), (107, 0.00325211846979461), (108, 0.06067402350897543), (109, 0.010262964754345807), (110, 0.004665306679790108), (111, 0.0026636694475506073), (112, 0.007155223882347671), (113, 0.008465178383059446), (114, 0.0028701421241608457), (115, 0.002931993776873958), (116, 0.00270627751662193), (117, 0.0), (118, 0.0), (119, 0.0562961345800245), (120, 0.0029572430298686132), (121, 0.0026353964714366713), (122, 0.008409961721598885), (123, 0.008131386466142157), (124, 0.024517485978537625), (125, 0.008502215386580839), (126, 0.0027054256539668733), (127, 0.002791978210989954), (128, 0.0), (129, 0.0020023149410629834), (130, 0.025916788351594767), (131, 0.029598531213592277), (132, 0.002542165590566184), (133, 0.0), (134, 0.0), (135, 0.00912169810410725), (136, 0.002647933611791121), (137, 0.012345913881255062), (138, 0.004382977255164656), (139, 0.0), (140, 0.002685990530845817), (141, 0.04285333098872715), (142, 0.008516961767840617), (143, 0.0), (144, 0.007057742089044959), (145, 0.0), (146, 0.02613554744705219), (147, 0.008906110806457763), (148, 0.004142369887953143), (149, 0.002367871813987257), (150, 0.004468449448986707), (151, 0.0), (152, 0.004432950995962963), (153, 0.005365056005710391), (154, 0.0026915255385664074), (155, 0.005541941697923002), (156, 0.012070754279646469), (157, 0.0027309038653381534), (158, 0.032953828092107514), (159, 0.015201964488005393), (160, 0.0), (161, 0.015928474453809432), (162, 0.015040988684583924), (163, 0.0), (164, 0.009795301684435256), (165, 0.010370913178887439), (166, 0.006563776429287623), (167, 0.0027700914305500367), (168, 0.009424471882046804), (169, 0.007302084519135211), (170, 0.008271907994133116), (171, 0.004333043930460037), (172, 0.02718276712120718), (173, 0.01078880435631048), (174, 0.010168047128263035), (175, 0.02709023929738269), (176, 0.002946387629795048), (177, 0.014113940391923922), (178, 0.003016410101780432), (179, 0.004387669246258542), (180, 0.0), (181, 0.0), (182, 0.01957858877134641), (183, 0.009440924828318284), (184, 0.006544664347211609), (185, 0.007021238716855188), (186, 0.0038173625354024463), (187, 0.021252790522704235), (188, 0.0), (189, 0.004727012676049604), (190, 0.0024469414445084806), (191, 0.008145604285330116), (192, 0.008038428868483436), (193, 0.010883913839749695), (194, 0.0023005965408076563), (195, 0.006246995674180091), (196, 0.016874874011325376), (197, 0.009719844697808904), (198, 0.002909332101422006), (199, 0.04399657150169918), (200, 0.0025336657214768588), (201, 0.004762572372592074), (202, 0.007872078253593972), (203, 0.0027131349914894937), (204, 0.0029956644100887033), (205, 0.0), (206, 0.003041704470538158), (207, 0.0), (208, 0.010928922159102229), (209, 0.014993531502615006), (210, 0.003090353144388973), (211, 0.00776849693027892), (212, 0.01977117162990794), (213, 0.0026687666348748115), (214, 0.02787934030016131), (215, 0.06278065529360444), (216, 0.007705220823009224), (217, 0.0), (218, 0.0026178172797293032), (219, 0.0), (220, 0.009651972163802551), (221, 0.011406526566707318), (222, 0.02765042778666236), (223, 0.004395648941061177), (224, 0.00219385606839313), (225, 0.005249815997080457), (226, 0.002867021842230639), (227, 0.003064448403685167), (228, 0.009085945945649938), (229, 0.0026732718235062797), (230, 0.007232523139096355), (231, 0.015575737200435152), (232, 0.012910966396047205), (233, 0.0), (234, 0.003928668891548998), (235, 0.003236469277326742), (236, 0.002693407910685606), (237, 0.003703303793155364), (238, 0.002924560733585525), (239, 0.004841844883806141), (240, 0.004225164782037289), (241, 0.0), (242, 0.008912718125311483), (243, 0.013674879832466309), (244, 0.0), (245, 0.0), (246, 0.0030494220385637815), (247, 0.0028351566028807684), (248, 0.006870561477164419), (249, 0.014524562117295615), (250, 0.005107945596002443), (251, 0.016648094012085828), (252, 0.015696880386230266), (253, 0.0031350068340211547), (254, 0.0031604794010492983), (255, 0.0030026591773863838), (256, 0.002142205840228438), (257, 0.0), (258, 0.0), (259, 0.009077275544205574), (260, 0.00432964823802722), (261, 0.00440413359897631), (262, 0.021105741992922908), (263, 0.01998740710850555), (264, 0.004571057696600892), (265, 0.0), (266, 0.03170955096058051), (267, 0.0024299690515893163), (268, 0.0025574523356306244), (269, 0.039701670383679874), (270, 0.0029988538105571658), (271, 0.007889227576639006), (272, 0.004563410403450469), (273, 0.007206974204776903), (274, 0.03111264842496306), (275, 0.0), (276, 0.0027036533936509025), (277, 0.04707481590738416), (278, 0.0024695997044817905), (279, 0.006957709606245609), (280, 0.03199818670168781), (281, 0.0032370197081265754), (282, 0.010141353175052888), (283, 0.03460820789002132), (284, 0.004353332703662058), (285, 0.0025969520697542276), (286, 0.0024605830308353526), (287, 0.02250883492889949), (288, 0.014060248909309181), (289, 0.0), (290, 0.0), (291, 0.004160829153527281), (292, 0.01441636246085362), (293, 0.005284487303974288), (294, 0.0036345743661951604), (295, 0.0), (296, 0.013281431115239248), (297, 0.009658610970720847), (298, 0.004768407214070907), (299, 0.0045640383932861244), (300, 0.007075473149411113), (301, 0.012684753179840913), (302, 0.0), (303, 0.0), (304, 0.0), (305, 0.0045603448479579626), (306, 0.008411571143778787), (307, 0.00965586344951826), (308, 0.0032064355504118165), (309, 0.015449077298170223), (310, 0.008771503998358363), (311, 0.0), (312, 0.0), (313, 0.007696702251318946), (314, 0.0), (315, 0.0), (316, 0.0), (317, 0.015516824601679136), (318, 0.0031336043133616625), (319, 0.007480461389707444), (320, 0.0), (321, 0.007208449249104183), (322, 0.007313205264406481), (323, 0.0), (324, 0.006850126851209334), (325, 0.0027096119491403976), (326, 0.0035115846428924527), (327, 0.010757075809844497), (328, 0.023292658394381188), (329, 0.053081183372046384), (330, 0.028815721900450147), (331, 0.0), (332, 0.011121789856962279), (333, 0.0), (334, 0.006682753855644935), (335, 0.004220055785334374), (336, 0.011873956948887179), (337, 0.0041430765903012175), (338, 0.00832934450900324), (339, 0.0), (340, 0.007979559576611105), (341, 0.01782672207105069), (342, 0.016186729469990575), (343, 0.022454670609113894), (344, 0.004800981258477658), (345, 0.0044241343268571764), (346, 0.014764798457631808), (347, 0.004580231511444996), (348, 0.007357239325799178), (349, 0.0027810298588195875), (350, 0.0031216411183460123), (351, 0.00218766065014976), (352, 0.004148834889624503), (353, 0.015091117587210486), (354, 0.010973790596538384), (355, 0.002644029409897453), (356, 0.014173279764485184), (357, 0.01035263170767146), (358, 0.017234818183992678), (359, 0.002631443155580371), (360, 0.0), (361, 0.004845583798020626), (362, 0.0), (363, 0.03459146839402538), (364, 0.0024668520038034114), (365, 0.0), (366, 0.0), (367, 0.0), (368, 0.005479279266753941), (369, 0.003493535717897911), (370, 0.002862770219280575), (371, 0.027130473074534724), (372, 0.01117810444412113), (373, 0.002717511072749738), (374, 0.017483898395266304), (375, 0.0), (376, 0.0), (377, 0.002954418202878227), (378, 0.0028796955076690555), (379, 0.0), (380, 0.005244034194756539), (381, 0.0037283022849752), (382, 0.0), (383, 0.0), (384, 0.0), (385, 0.0), (386, 0.007733323660844977), (387, 0.007009431104068297), (388, 0.007016131764079765), (389, 0.0), (390, 0.0), (391, 0.0), (392, 0.004848879879931075), (393, 0.0), (394, 0.0), (395, 0.003076445321529811), (396, 0.00275548823948588), (397, 0.0), (398, 0.0), (399, 0.0026569601703658875), (400, 0.002841087916652027), (401, 0.0), (402, 0.012549195725264846), (403, 0.016463349034060687), (404, 0.0), (405, 0.0), (406, 0.010502778532773597), (407, 0.0390257898634176), (408, 0.0070267894328231014), (409, 0.004202615769161152), (410, 0.006914474667377858), (411, 0.004189860419912626), (412, 0.015868661118996694), (413, 0.007930462582590336), (414, 0.023772128523234813), (415, 0.0), (416, 0.006810658989196645), (417, 0.004240084435502289), (418, 0.009656812372306317), (419, 0.0032294639548750242), (420, 0.0049085143935019586), (421, 0.003530342376302413), (422, 0.10395859645990096), (423, 0.0), (424, 0.005182999226590119), (425, 0.005178502398303307), (426, 0.0042696117237837825), (427, 0.004378452774668697), (428, 0.017536391417836236), (429, 0.0030051280524779696), (430, 0.0030862774723043693), (431, 0.0033816128866942484), (432, 0.031253323548859485), (433, 0.09727801001564204), (434, 0.002712718966067712), (435, 0.0), (436, 0.0032081452004555505), (437, 0.016814692952334506), (438, 0.0), (439, 0.004537910739922674), (440, 0.0), (441, 0.016051064199844145), (442, 0.006162570877404522), (443, 0.0033165522924318474), (444, 0.0031949252692758993), (445, 0.008812512150525155), (446, 0.010042026072651216), (447, 0.0029774398203426342), (448, 0.008578581399185487), (449, 0.009310149786248915), (450, 0.0031463810358701746), (451, 0.0), (452, 0.023660951015381203), (453, 0.002192618258391581), (454, 0.00423652824560072), (455, 0.0020347234010793026), (456, 0.003037986497937617), (457, 0.0026317424107321344), (458, 0.0031994780900788476), (459, 0.0), (460, 0.009087114251956973), (461, 0.0), (462, 0.0), (463, 0.009540323867523973), (464, 0.010175267259426642), (465, 0.016178346466871645), (466, 0.0028348577569792793), (467, 0.0), (468, 0.006949672305832063), (469, 0.007544783620540952), (470, 0.061436545512546945), (471, 0.0026777515986949694), (472, 0.015297311862637093), (473, 0.0025941736803288522), (474, 0.0), (475, 0.003598729562710679), (476, 0.003147580329511962), (477, 0.013206524730637478), (478, 0.0032451809027207947), (479, 0.0028640290931420957), (480, 0.002516150628812346), (481, 0.003118335206455287), (482, 0.010744737449829914), (483, 0.00784715769697632), (484, 0.006085274599601591), (485, 0.0030728672126660284), (486, 0.004383651291892639), (487, 0.002744914421434328), (488, 0.0027735111939285735), (489, 0.14887701965083538), (490, 0.04203882052897582), (491, 0.07135530254898853), (492, 0.0042618538935333475), (493, 0.003044451726238461), (494, 0.0), (495, 0.006573490650667873), (496, 0.026820734297887512), (497, 0.004062144665250371), (498, 0.004351811401960328), (499, 0.0031205137267233786), (500, 0.008901852232924818), (501, 0.0), (502, 0.003001864306727613), (503, 0.0), (504, 0.06428989210524928), (505, 0.002723988775305325), (506, 0.0), (507, 0.006978618382804726), (508, 0.008545749256642879), (509, 0.002940590727176869), (510, 0.005940835903794531), (511, 0.017684940276799344), (512, 0.0054254885709911485), (513, 0.0), (514, 0.0), (515, 0.0025846516153290697), (516, 0.0), (517, 0.0), (518, 0.003361555244339046), (519, 0.05143267123488404), (520, 0.0), (521, 0.01154543642362231), (522, 0.0027833997159814237), (523, 0.03550894770875838), (524, 0.011005711851590756), (525, 0.00454033579577098), (526, 0.003605726799136756), (527, 0.014029008184679921), (528, 0.0), (529, 0.004592988518236779), (530, 0.008986927736251933), (531, 0.0), (532, 0.0), (533, 0.003225120967946306), (534, 0.002832040560653218), (535, 0.0), (536, 0.0), (537, 0.008453761879325816), (538, 0.0197834592078453), (539, 0.0), (540, 0.008425972072562963), (541, 0.0027735126509651794), (542, 0.019001560756046223), (543, 0.0029864508143097614), (544, 0.020387713234548327), (545, 0.00400999092265856), (546, 0.0), (547, 0.012527702102392268), (548, 0.004280591953909385), (549, 0.004235216447042487), (550, 0.0), (551, 0.07016795337043395), (552, 0.0), (553, 0.027618692500680612), (554, 0.0), (555, 0.027235460597775665), (556, 0.0), (557, 0.0), (558, 0.002644094761281343), (559, 0.0), (560, 0.004578580076978455), (561, 0.02230692062363122), (562, 0.0056384306740028135), (563, 0.0025856083240487332), (564, 0.00300404446728157), (565, 0.0), (566, 0.02635614183945808), (567, 0.0), (568, 0.046769073256883766), (569, 0.008365116259346942), (570, 0.0), (571, 0.0022108215156120565), (572, 0.0), (573, 0.0), (574, 0.0), (575, 0.0038294306495546653), (576, 0.0032323938513674918), (577, 0.004088298833638674), (578, 0.002706252145581478), (579, 0.0029066990499031146), (580, 0.002996332904847227), (581, 0.0025839999982766194), (582, 0.008749302642757958), (583, 0.010870964894007563), (584, 0.0029669774171265425), (585, 0.004391260818848728), (586, 0.0), (587, 0.0031535309913303484), (588, 0.007722987407526987), (589, 0.0026574374031083712), (590, 0.00684997909485183), (591, 0.0), (592, 0.0), (593, 0.0029246719686655386), (594, 0.010723092540430697), (595, 0.0), (596, 0.003212798669937694), (597, 0.021563769365103857), (598, 0.0026716348509509096), (599, 0.004802331434338394), (600, 0.012617958494924936), (601, 0.0), (602, 0.0), (603, 0.004855195440862146), (604, 0.002637135724742273), (605, 0.002523090035066381), (606, 0.0029609600085006476), (607, 0.0022095268684300716), (608, 0.002599231186888237), (609, 0.04583507336140666), (610, 0.004538545827361527), (611, 0.004606915888572709), (612, 0.003044410024771875), (613, 0.004499385174010972), (614, 0.008527353374283096), (615, 0.08882366216083044), (616, 0.008578571158661123), (617, 0.0024209305692829202), (618, 0.01170670651895388), (619, 0.0), (620, 0.017020295238881895), (621, 0.0), (622, 0.0030468721434036526), (623, 0.0030454221242147616), (624, 0.04648774720546372), (625, 0.0), (626, 0.0024300043447558588), (627, 0.0038827178492904547), (628, 0.002890992102568095), (629, 0.006413095191915088), (630, 0.0), (631, 0.015277785090250547), (632, 0.0), (633, 0.0), (634, 0.0), (635, 0.03687963240113187), (636, 0.00289586093327086), (637, 0.0029693339308561775), (638, 0.0026427858788183145), (639, 0.003854578293767092), (640, 0.007642843405264962), (641, 0.007371624539591134), (642, 0.0024767692733502337), (643, 0.014398700369260557), (644, 0.007060262357710206), (645, 0.0023419373911223954), (646, 0.002757456783080085), (647, 0.00251587284814663), (648, 0.013881420096162665), (649, 0.0), (650, 0.0), (651, 0.009938504491548025), (652, 0.002932925328877194), (653, 0.014409598617966245), (654, 0.00481112582091148), (655, 0.0026776732137776408), (656, 0.0), (657, 0.021302263145142164), (658, 0.0), (659, 0.002670972888053756), (660, 0.03897713747132092), (661, 0.004282171130995141), (662, 0.0), (663, 0.0), (664, 0.010749082399021042), (665, 0.0), (666, 0.005136657908663667), (667, 0.0), (668, 0.0036113688983564663), (669, 0.02951911533468587), (670, 0.03810837912453723), (671, 0.00766873537265504), (672, 0.0025568769155474187), (673, 0.0031290999851859), (674, 0.0), (675, 0.008105070991059445), (676, 0.002779891890235525), (677, 0.005002625593509132), (678, 0.0), (679, 0.0), (680, 0.007904006860498263), (681, 0.0051680136716913076), (682, 0.0), (683, 0.008390396500085974), (684, 0.01760241333998311), (685, 0.009378399218200783), (686, 0.0), (687, 0.005064452705062244), (688, 0.003176436907060896), (689, 0.014777431381874352), (690, 0.00424709591030595), (691, 0.029618750415640525), (692, 0.014309516152864602), (693, 0.002790833781345235), (694, 0.0026964371461866313), (695, 0.03496127491835674), (696, 0.002886213255250418), (697, 0.010337186795733476), (698, 0.002712933237871106), (699, 0.008210069694814871), (700, 0.0315913327752955), (701, 0.008296380023798722), (702, 0.0), (703, 0.0025470576746720003), (704, 0.004935792054475004), (705, 0.009113421334177679), (706, 0.03674963808624102), (707, 0.002411787114788399), (708, 0.0), (709, 0.0), (710, 0.006899456373323104), (711, 0.0), (712, 0.0025333421432466212), (713, 0.01639737904365125), (714, 0.0), (715, 0.01135951545042331), (716, 0.00300687700073015), (717, 0.007750533150769307), (718, 0.0), (719, 0.019271832210331498), (720, 0.0), (721, 0.0032854488326288403), (722, 0.006678125310653132), (723, 0.011592889651923422), (724, 0.0), (725, 0.003883159325127498), (726, 0.007633717987337338), (727, 0.011786789657917714), (728, 0.003092695167269547), (729, 0.003197490878254271), (730, 0.0), (731, 0.015842508952814017), (732, 0.009189589867247749), (733, 0.010380099544389496), (734, 0.025770750015697095), (735, 0.003915459727293661), (736, 0.004595382398225091), (737, 0.016759290989114325), (738, 0.007520912370564023), (739, 0.003271979819854897), (740, 0.001923578896302685), (741, 0.0), (742, 0.013967356843895367), (743, 0.0029465310587634638), (744, 0.006873182909379029), (745, 0.0), (746, 0.0), (747, 0.005089267268936975), (748, 0.0607701804199106), (749, 0.012004176792537713), (750, 0.002921251756900716), (751, 0.0), (752, 0.007771771250104479), (753, 0.0), (754, 0.0), (755, 0.0027866338509727057), (756, 0.004008393805074158), (757, 0.03885159627444919), (758, 0.007484349314360661), (759, 0.0026106963364385116), (760, 0.0), (761, 0.0028678407925009125), (762, 0.02078798445924914), (763, 0.015630228159849588), (764, 0.0), (765, 0.004824335061471638), (766, 0.00952492120827876), (767, 0.007050202693287436), (768, 0.009313495072239773), (769, 0.007334895009643351), (770, 0.0), (771, 0.0), (772, 0.0), (773, 0.004415863299521815), (774, 0.002971062085087935), (775, 0.01834784988684101), (776, 0.00416631093623109), (777, 0.0034463123849545647), (778, 0.012340720563799649), (779, 0.0039020085255358455), (780, 0.008686079076692542), (781, 0.004807307881407708), (782, 0.05224450052982506), (783, 0.03257422376955514), (784, 0.0), (785, 0.009134959778838679), (786, 0.0), (787, 0.011880914553919285), (788, 0.023094648694787757), (789, 0.007367641982743037), (790, 0.004424326647035304), (791, 0.003080384196792856), (792, 0.007905825752162601), (793, 0.0), (794, 0.06808296047420338), (795, 0.0), (796, 0.002380589512862462), (797, 0.0), (798, 0.011448710030165272), (799, 0.0027952923281713378), (800, 0.009252722070324038), (801, 0.0), (802, 0.0), (803, 0.012239604021959791), (804, 0.002579015995168566), (805, 0.006872739427183116), (806, 0.0029591037623437557), (807, 0.03299935334418681), (808, 0.015622422963974281), (809, 0.007624527312390813), (810, 0.004264823895448525), (811, 0.0), (812, 0.0070222496089831716), (813, 0.01347429810869717), (814, 0.015258102264564418), (815, 0.002561732508458049), (816, 0.0023338193234710464), (817, 0.009961831784363766), (818, 0.002708865508765936), (819, 0.0), (820, 0.004032242074956967), (821, 0.13660987341555694), (822, 0.0), (823, 0.003305129843566447), (824, 0.001996773968042079), (825, 0.0), (826, 0.003058072945148013), (827, 0.0), (828, 0.018978491277903707), (829, 0.006827423312400041), (830, 0.0030142086850481237), (831, 0.0020242729991064973), (832, 0.00755692830041098), (833, 0.006950503720995548), (834, 0.007366272671332033), (835, 0.007021973336379002), (836, 0.0), (837, 0.0), (838, 0.009572120044913531), (839, 0.0), (840, 0.013258354102919336), (841, 0.0), (842, 0.0), (843, 0.008465594562436748), (844, 0.01418624612380382), (845, 0.0030019183063172057), (846, 0.0), (847, 0.06177882751164536), (848, 0.002891794303303815), (849, 0.0), (850, 0.01512692406223797), (851, 0.0025119594454228035), (852, 0.015842556378423914), (853, 0.011488582427877259), (854, 0.060986705934288704), (855, 0.0), (856, 0.002559499091780037), (857, 0.0031664331661077514), (858, 0.001936071919853221), (859, 0.0), (860, 0.0033222992534201953), (861, 0.0024692032335197843), (862, 0.007953479388700743), (863, 0.0026210557272827364), (864, 0.015014459862904206), (865, 0.002944257547156854), (866, 0.006909279770594318), (867, 0.017464740945058333), (868, 0.0026622831987568674), (869, 0.0), (870, 0.014529335697120456), (871, 0.0029462155319966363), (872, 0.0030697326371603374), (873, 0.0), (874, 0.016750531151967504), (875, 0.0), (876, 0.00327290623391563), (877, 0.0), (878, 0.007019799124605927), (879, 0.002991528418329908), (880, 0.0028262395068486164), (881, 0.014403524755974997), (882, 0.004046375751979923), (883, 0.007099605079002585), (884, 0.0029832771429497327), (885, 0.006666326888670637), (886, 0.002688219441182764), (887, 0.003117836380619781), (888, 0.04524629043361729), (889, 0.0036902689950367297), (890, 0.007751287368160281), (891, 0.004808394424896069), (892, 0.0), (893, 0.0), (894, 0.007362372618005358), (895, 0.029268270649811932), (896, 0.003132441376224302), (897, 0.014971933758833328), (898, 0.008224262832313166), (899, 0.020543260634461616), (900, 0.009624877112861275), (901, 0.002375009837041785), (902, 0.0), (903, 0.0026878231023699075), (904, 0.045243759899630275), (905, 0.03918053319998577), (906, 0.014791422283010195), (907, 0.006834724768969801), (908, 0.004663328557314924), (909, 0.0), (910, 0.002624824198647923), (911, 0.011365728248049718), (912, 0.0), (913, 0.004842000887687273), (914, 0.0), (915, 0.004392479860960832), (916, 0.01111130261431814), (917, 0.0025666017691560144), (918, 0.00472395867725779), (919, 0.004638870443165312), (920, 0.0), (921, 0.025609897630047816), (922, 0.0032170547187020605), (923, 0.0027613844985043667), (924, 0.01294282263332966), (925, 0.003297046574920668), (926, 0.0), (927, 0.0), (928, 0.004763580675312535), (929, 0.008654186876475687), (930, 0.012733724670035286), (931, 0.0045616235256646), (932, 0.0), (933, 0.0029284235793930026), (934, 0.024470935759243542), (935, 0.015404510734523034), (936, 0.009262358991927455), (937, 0.0033500744661162365), (938, 0.004575596357855267), (939, 0.0027045837154064936), (940, 0.00720443207721562), (941, 0.0026856190746888512), (942, 0.002331112344847466), (943, 0.0), (944, 0.0026715132183413614), (945, 0.03891779776674625), (946, 0.0), (947, 0.003867943466583715), (948, 0.005747608560957444), (949, 0.03273073799502317), (950, 0.0), (951, 0.0024206372983974623), (952, 0.027184296991054152), (953, 0.0023087157235966767), (954, 0.0), (955, 0.0), (956, 0.03073769544287043), (957, 0.02034945902537764), (958, 0.00678817492670529), (959, 0.0027851314523224587), (960, 0.0), (961, 0.0), (962, 0.01841786973310751), (963, 0.018156428235051265), (964, 0.0), (965, 0.0), (966, 0.04051834555175926), (967, 0.0031657863883343823), (968, 0.03165411123674709), (969, 0.020506077774200108), (970, 0.0246831218182515), (971, 0.004698560638509421), (972, 0.0), (973, 0.011819585678059552), (974, 0.004273211066544539), (975, 0.0026843399674032434), (976, 0.0), (977, 0.0), (978, 0.05645557560064076), (979, 0.006567157322322044), (980, 0.0029635476243879675), (981, 0.01080059141451505), (982, 0.010042882224419026), (983, 0.0), (984, 0.002727501885882375), (985, 0.0032801101966720664), (986, 0.002865226125938576), (987, 0.002974123452626745), (988, 0.007382078143003101), (989, 0.002820318271647059), (990, 0.0), (991, 0.0030779593475310793), (992, 0.0), (993, 0.007486850760028309), (994, 0.0029139857257702477), (995, 0.013415462238270353), (996, 0.0), (997, 0.0), (998, 0.0032505937291099837), (999, 0.0032479333446965826), (1000, 0.006684806090268351), (1001, 0.01143402958180842), (1002, 0.011430656044702886), (1003, 0.0), (1004, 0.0025701164974546438), (1005, 0.014846457240746114), (1006, 0.015523787162829678), (1007, 0.0030186746790805113), (1008, 0.0), (1009, 0.00913221431162502), (1010, 0.0038608434998394854), (1011, 0.005155211735110817), (1012, 0.007357180549396628), (1013, 0.0), (1014, 0.008604357256146413), (1015, 0.011127693828785817), (1016, 0.0), (1017, 0.010005713967686255), (1018, 0.010456919978902263), (1019, 0.01248947220226395), (1020, 0.009876097509120574), (1021, 0.010253835107513204), (1022, 0.004543897069896941), (1023, 0.011571336110864871), (1024, 0.0), (1025, 0.004067815401246951), (1026, 0.0028137204972342707), (1027, 0.0027419148606442545), (1028, 0.0), (1029, 0.008639335615943683), (1030, 0.002775631809913481), (1031, 0.004853371314171229), (1032, 0.0027082925494244375), (1033, 0.04936438175563229), (1034, 0.002745996359293632), (1035, 0.007220188389346165), (1036, 0.0027043978076210172), (1037, 0.008373918972637518), (1038, 0.0), (1039, 0.008299834762380725), (1040, 0.0022395741742138237), (1041, 0.011261248585177503), (1042, 0.0023948188598772254), (1043, 0.03505907424831793), (1044, 0.0027777257230614414), (1045, 0.0), (1046, 0.003877148519912023), (1047, 0.00475597047618495), (1048, 0.015440869730457628), (1049, 0.0034000956586482402), (1050, 0.002442821902320191), (1051, 0.0), (1052, 0.006880559922123235), (1053, 0.0033726373891390785), (1054, 0.00431036018204673), (1055, 0.0), (1056, 0.004966531298499543), (1057, 0.0), (1058, 0.0), (1059, 0.0073569381402069116), (1060, 0.011575037789032449), (1061, 0.0), (1062, 0.0), (1063, 0.0), (1064, 0.003473970752670405), (1065, 0.0026208042356049253), (1066, 0.030723724907059265), (1067, 0.05386040619722363), (1068, 0.01108974765762049), (1069, 0.008309335671118178), (1070, 0.0), (1071, 0.02254524474520905), (1072, 0.0028400405808459506), (1073, 0.0), (1074, 0.03175340711267728), (1075, 0.040398147910740353), (1076, 0.0), (1077, 0.015180077492728074), (1078, 0.002387933842816532), (1079, 0.0026368563018915616), (1080, 0.002581340415670076), (1081, 0.0), (1082, 0.0), (1083, 0.002983425934338571), (1084, 0.0028096928067647482), (1085, 0.0), (1086, 0.0), (1087, 0.019747149206872042), (1088, 0.0024511800695788243), (1089, 0.0), (1090, 0.025045206461601098), (1091, 0.0), (1092, 0.0), (1093, 0.0), (1094, 0.007268072922364945), (1095, 0.01479589537650049), (1096, 0.010014799489791691), (1097, 0.0), (1098, 0.0023382084952860175), (1099, 0.007875126695633552), (1100, 0.0028199591736891827), (1101, 0.0), (1102, 0.002845852084182749), (1103, 0.11699179229136075), (1104, 0.044756651753104795), (1105, 0.009265107322548519), (1106, 0.012937089626337585), (1107, 0.0026678650463765026), (1108, 0.0), (1109, 0.056564644995312836), (1110, 0.002818484998876919), (1111, 0.05153007681739749), (1112, 0.0028559497550102995), (1113, 0.04151032039729196), (1114, 0.02052650307098241), (1115, 0.0), (1116, 0.007867842308118142), (1117, 0.0027545960940545283), (1118, 0.02029371428625533), (1119, 0.003061442763763724), (1120, 0.003891775010457464), (1121, 0.0035924208299776337), (1122, 0.0029192864079796666), (1123, 0.0027251640016826895), (1124, 0.01067243599625202), (1125, 0.10853240205520215), (1126, 0.0), (1127, 0.0), (1128, 0.007277205442360604), (1129, 0.023992082769006537), (1130, 0.004472990384667454), (1131, 0.002876984291674396), (1132, 0.00706329209089202), (1133, 0.0), (1134, 0.021840235211986646), (1135, 0.0), (1136, 0.0665361762640787), (1137, 0.0), (1138, 0.0029005905569265515), (1139, 0.0), (1140, 0.007957827599987205), (1141, 0.011001075439750652), (1142, 0.0), (1143, 0.0), (1144, 0.011846531408855162), (1145, 0.003965087437728881), (1146, 0.011594610949177159), (1147, 0.0), (1148, 0.0032375011703353503), (1149, 0.0), (1150, 0.1235985621788793), (1151, 0.0), (1152, 0.0), (1153, 0.0), (1154, 0.0), (1155, 0.004734396508206433), (1156, 0.038405676078575784), (1157, 0.0178168711222696), (1158, 0.0), (1159, 0.0), (1160, 0.002721651306748715), (1161, 0.0025883917255230416), (1162, 0.016204958134909762), (1163, 0.0028623611174184676), (1164, 0.0), (1165, 0.0), (1166, 0.0), (1167, 0.0), (1168, 0.008924789574084532), (1169, 0.003355911535147428), (1170, 0.007440540326884513), (1171, 0.0041349346579164035), (1172, 0.007435764812844159), (1173, 0.010851888579602492), (1174, 0.0029313594722362303), (1175, 0.0028937946569809296), (1176, 0.002926966406096299), (1177, 0.01892536086736719), (1178, 0.003877759051927078), (1179, 0.06389483498682336), (1180, 0.0), (1181, 0.0), (1182, 0.010502827415632802), (1183, 0.002661532461338862), (1184, 0.003271232139999635), (1185, 0.004809207970647118), (1186, 0.006525914481504094), (1187, 0.003368938591301837), (1188, 0.00300964419350335), (1189, 0.0), (1190, 0.0), (1191, 0.012044279215951543), (1192, 0.020350723321079366), (1193, 0.0), (1194, 0.01047701019470363), (1195, 0.012430087480394949), (1196, 0.0), (1197, 0.0), (1198, 0.0), (1199, 0.05234552806230625), (1200, 0.0), (1201, 0.0), (1202, 0.05033261505616032), (1203, 0.002692260732872833), (1204, 0.0029092758677653962), (1205, 0.0), (1206, 0.029990770185480783), (1207, 0.0), (1208, 0.08147145402545888), (1209, 0.002389488956335651), (1210, 0.013277267372920587), (1211, 0.016319861100940667), (1212, 0.03274550059278591), (1213, 0.0), (1214, 0.007655298051321962), (1215, 0.012718699220813475), (1216, 0.015018169921715615), (1217, 0.002489382831103011), (1218, 0.004354703699168789), (1219, 0.0025723702512492163), (1220, 0.07998013998371814), (1221, 0.0037950451690003436), (1222, 0.0), (1223, 0.0074609365158236195), (1224, 0.0029932049297904956), (1225, 0.0030249586765794673), (1226, 0.007351966336329182), (1227, 0.0), (1228, 0.0), (1229, 0.002993566434013396), (1230, 0.0), (1231, 0.0), (1232, 0.0028895342606641023), (1233, 0.0), (1234, 0.0030363980053344656), (1235, 0.0), (1236, 0.0), (1237, 0.00260292067422697), (1238, 0.011909769414785993), (1239, 0.01924185605829231), (1240, 0.0), (1241, 0.009862434975008577), (1242, 0.0), (1243, 0.0031275580324099665), (1244, 0.0), (1245, 0.0027794872512674576), (1246, 0.004931334431997432), (1247, 0.002769531067882481), (1248, 0.0027549776239066616), (1249, 0.01287740753388426), (1250, 0.012222090995489224), (1251, 0.002537361861344769), (1252, 0.0028409288425132982), (1253, 0.0), (1254, 0.05627175611201335), (1255, 0.009781019976488819), (1256, 0.02287703819171973), (1257, 0.02645866084834953), (1258, 0.03393909856940495), (1259, 0.012516635705136354), (1260, 0.0), (1261, 0.002776229477978641), (1262, 0.011959551028097436), (1263, 0.0), (1264, 0.0034540162505821053), (1265, 0.0), (1266, 0.05262045430344134), (1267, 0.011592191017951423), (1268, 0.0), (1269, 0.0637126668283388), (1270, 0.008369630027716483), (1271, 0.0), (1272, 0.0), (1273, 0.007073349711911621), (1274, 0.004335093499332627), (1275, 0.0231815475370951), (1276, 0.0), (1277, 0.005557829220901577), (1278, 0.026817074436727217), (1279, 0.010096109730063358), (1280, 0.0), (1281, 0.0), (1282, 0.004880106199127351), (1283, 0.0246719742907561), (1284, 0.002791289105590918), (1285, 0.0), (1286, 0.002811069227523394), (1287, 0.0), (1288, 0.0041533171202634295), (1289, 0.0), (1290, 0.002540329776018403), (1291, 0.008456690785864671), (1292, 0.0), (1293, 0.014276760382012551), (1294, 0.002943602707714892), (1295, 0.0), (1296, 0.0), (1297, 0.004568597788718879), (1298, 0.002851529172042771), (1299, 0.0), (1300, 0.0), (1301, 0.006493126427275857), (1302, 0.007532493567780893), (1303, 0.002311876750956432), (1304, 0.012000951229338414), (1305, 0.009918032192927945), (1306, 0.026715007769028392), (1307, 0.015580478032331837), (1308, 0.03586203082528389), (1309, 0.0), (1310, 0.013406017646776748), (1311, 0.0), (1312, 0.012539415952900389), (1313, 0.050082706275251264), (1314, 0.004490448291131185), (1315, 0.0), (1316, 0.006682748854347898), (1317, 0.008340591831425468), (1318, 0.0025572775912998747), (1319, 0.016248714111602437), (1320, 0.0), (1321, 0.005253576224616806), (1322, 0.00464680964106259), (1323, 0.09703960219692782), (1324, 0.003058686960808203), (1325, 0.003107937651914468), (1326, 0.01977928108937816), (1327, 0.007062279429466317), (1328, 0.0), (1329, 0.07206486280880726), (1330, 0.0), (1331, 0.0), (1332, 0.0), (1333, 0.036118879807626604), (1334, 0.00294355518331341), (1335, 0.0028959662091737445), (1336, 0.004793009819893344), (1337, 0.0029262143373554187), (1338, 0.046244687909600506), (1339, 0.003047828867412506), (1340, 0.0024351331178470315), (1341, 0.04138727188146841), (1342, 0.0), (1343, 0.005426441862897225), (1344, 0.0), (1345, 0.007410275430504766), (1346, 0.004590853176256214), (1347, 0.0044091137125355315), (1348, 0.0), (1349, 0.008374178530353835), (1350, 0.0027931124197632636), (1351, 0.023349561269457118), (1352, 0.006313184072806906), (1353, 0.0), (1354, 0.008421923176263129), (1355, 0.002936379308291306), (1356, 0.0024269460811703956), (1357, 0.0026424581236789845), (1358, 0.0), (1359, 0.011061595170731398), (1360, 0.006764182462884995), (1361, 0.0), (1362, 0.0), (1363, 0.0), (1364, 0.007717268965910783), (1365, 0.028529391397443996), (1366, 0.0025865341278847), (1367, 0.0023945533733901354), (1368, 0.004404275443291581), (1369, 0.018240157058002346), (1370, 0.0024724186052919564), (1371, 0.0), (1372, 0.0026898095995151524), (1373, 0.004422346984812787), (1374, 0.012000182115538771), (1375, 0.007063889843075554), (1376, 0.014104197968704046), (1377, 0.011986243259635727), (1378, 0.002864979645579225), (1379, 0.006437160537609862), (1380, 0.0048141623034106485), (1381, 0.0052383455267179775), (1382, 0.010625465208985434), (1383, 0.003236819723178523), (1384, 0.004062700438294305), (1385, 0.010307100593352134), (1386, 0.0), (1387, 0.002588537166748968), (1388, 0.0), (1389, 0.0), (1390, 0.0049110754737927064), (1391, 0.0), (1392, 0.006607955338172815), (1393, 0.0), (1394, 0.006584760675619543), (1395, 0.0036743877941987726), (1396, 0.042652836225690105), (1397, 0.0024796394610503247), (1398, 0.023257168805935813), (1399, 0.0), (1400, 0.0030225729534009175), (1401, 0.01568454256250495), (1402, 0.025853841837893722), (1403, 0.019321285018081127), (1404, 0.007025398043114564), (1405, 0.0), (1406, 0.0), (1407, 0.007892425271328267), (1408, 0.0027926598045218097), (1409, 0.0030676254261563173), (1410, 0.0028980589023889338), (1411, 0.007344251269364882), (1412, 0.022827443972564254), (1413, 0.019712717248329552), (1414, 0.002558087609409344), (1415, 0.0023492971636708266), (1416, 0.0027401394624329933), (1417, 0.021479858159412238), (1418, 0.018434858244633014), (1419, 0.0), (1420, 0.07691671314151395), (1421, 0.007164884924479994), (1422, 0.007236382258852099), (1423, 0.002544805503969232), (1424, 0.0), (1425, 0.029719803019700022), (1426, 0.034559525696430574), (1427, 0.002350531258146877), (1428, 0.0), (1429, 0.003447137424282997), (1430, 0.004244512294778525), (1431, 0.004674256968773335), (1432, 0.0), (1433, 0.002667672431755028), (1434, 0.0026179428935935397), (1435, 0.0), (1436, 0.004829848388027186), (1437, 0.0), (1438, 0.0028397177961582126), (1439, 0.0030022971194529915), (1440, 0.0029116811667849285), (1441, 0.0), (1442, 0.010196749010539886), (1443, 0.024743887025794747), (1444, 0.0), (1445, 0.0), (1446, 0.01423929407441212), (1447, 0.004502430733093773), (1448, 0.0026495118042103795), (1449, 0.0), (1450, 0.002471022576666969), (1451, 0.061676881843604134), (1452, 0.0), (1453, 0.013321195988074498), (1454, 0.0339642504100172), (1455, 0.0), (1456, 0.006898472818645175), (1457, 0.0), (1458, 0.0), (1459, 0.008986419987384317), (1460, 0.0), (1461, 0.012125689123120065), (1462, 0.002630052545534857), (1463, 0.007165809013381952), (1464, 0.023935427054477307), (1465, 0.02327879155007828), (1466, 0.032705570983728185), (1467, 0.007182147472674214), (1468, 0.004046161275739364), (1469, 0.0), (1470, 0.0), (1471, 0.032683244294547144), (1472, 0.016754289679868795), (1473, 0.024541605656186783), (1474, 0.008288465249949849), (1475, 0.01073146971842485), (1476, 0.002905076859964131), (1477, 0.01791562953917454), (1478, 0.002745826287137653), (1479, 0.0031449447915079887), (1480, 0.0), (1481, 0.002775264645675636), (1482, 0.0039899960808893065), (1483, 0.0028451743122217816), (1484, 0.003033150332797189), (1485, 0.0), (1486, 0.013206099899454678), (1487, 0.008655864980251997), (1488, 0.0028746243518868327), (1489, 0.0032220122416396543), (1490, 0.0), (1491, 0.0), (1492, 0.006427029058648592), (1493, 0.018720952082057565), (1494, 0.03775324216221534), (1495, 0.009288226245763571), (1496, 0.008578976711101744), (1497, 0.0032724925598840767), (1498, 0.003187848682164949), (1499, 0.003209857175505654), (1500, 0.0407191913768266), (1501, 0.011976334079608367), (1502, 0.00482046545475103), (1503, 0.010877259513383931), (1504, 0.0), (1505, 0.007448236772854878), (1506, 0.016427623070370947), (1507, 0.0), (1508, 0.0), (1509, 0.021916831517862195), (1510, 0.02249819346581724), (1511, 0.004956812479377079), (1512, 0.0), (1513, 0.002986994046884763), (1514, 0.02546636876449585), (1515, 0.012069649433667009), (1516, 0.0029530418924317314), (1517, 0.009089412064514312), (1518, 0.0030882098629373485), (1519, 0.009519314660826965), (1520, 0.004900198766863905), (1521, 0.0039424398869870834), (1522, 0.009219108585306585), (1523, 0.0), (1524, 0.004180667627623736), (1525, 0.004680267778594268), (1526, 0.01145917788945522), (1527, 0.0028062588308689425), (1528, 0.0026044216366513276), (1529, 0.0), (1530, 0.003738292651940131), (1531, 0.0), (1532, 0.0), (1533, 0.06764205242480006), (1534, 0.0), (1535, 0.003838433918304002), (1536, 0.0), (1537, 0.007957132214407307), (1538, 0.009343901705887388), (1539, 0.013249529516521138), (1540, 0.0), (1541, 0.023642203132684263), (1542, 0.0), (1543, 0.0026417911129362447), (1544, 0.0), (1545, 0.026902938912935083), (1546, 0.003926973826043563), (1547, 0.0033396533375601232), (1548, 0.005778126157724785), (1549, 0.0), (1550, 0.0028274615292088593), (1551, 0.011785734863329372), (1552, 0.0071007060940111826), (1553, 0.05372693124728369), (1554, 0.0), (1555, 0.006918825038606645), (1556, 0.0), (1557, 0.0), (1558, 0.002665488254522182), (1559, 0.003950629128608046), (1560, 0.0), (1561, 0.0), (1562, 0.0), (1563, 0.0), (1564, 0.0046750941647604495), (1565, 0.006352756479297861), (1566, 0.0), (1567, 0.006727512418565472), (1568, 0.004165626351390053), (1569, 0.0), (1570, 0.003015581246944863), (1571, 0.012284815320885047), (1572, 0.010953437292981451), (1573, 0.0), (1574, 0.007500066038508472), (1575, 0.0), (1576, 0.0), (1577, 0.0046046238646095744), (1578, 0.004807732699202032), (1579, 0.012872239523397666), (1580, 0.003164083360488241), (1581, 0.021215457397456942), (1582, 0.0027528377565760073), (1583, 0.039682542410710786), (1584, 0.012506266059030336), (1585, 0.0), (1586, 0.01458748640059769), (1587, 0.004646550844944074), (1588, 0.0), (1589, 0.0), (1590, 0.0), (1591, 0.0), (1592, 0.0), (1593, 0.003474950182316038), (1594, 0.01343208346061969), (1595, 0.006725910026923881), (1596, 0.0), (1597, 0.007159352150964832), (1598, 0.002830553575872205), (1599, 0.0), (1600, 0.0), (1601, 0.0), (1602, 0.0), (1603, 0.05169317366728038), (1604, 0.0), (1605, 0.0025904962314572647), (1606, 0.016022081939179287), (1607, 0.0), (1608, 0.010589519169684862), (1609, 0.0), (1610, 0.0), (1611, 0.03422899555232641), (1612, 0.02740147973751461), (1613, 0.004748078477808412), (1614, 0.0), (1615, 0.0), (1616, 0.03730779364105599), (1617, 0.007255759555311801), (1618, 0.0), (1619, 0.015834957135528765), (1620, 0.0069495222621978915), (1621, 0.0028267609029728425), (1622, 0.0), (1623, 0.05234883756793418), (1624, 0.002333352066299321), (1625, 0.0025784151253527565), (1626, 0.004136156919865194), (1627, 0.002451088882940887), (1628, 0.0026236708704902626), (1629, 0.010626110486702985), (1630, 0.03528255619779539), (1631, 0.0), (1632, 0.004376646763899286), (1633, 0.0), (1634, 0.00284195506055826), (1635, 0.0), (1636, 0.004703220837695577), (1637, 0.003075765201082181), (1638, 0.0), (1639, 0.0), (1640, 0.004930256045696943), (1641, 0.002659012965682612), (1642, 0.006878595124026285), (1643, 0.04765264572568225), (1644, 0.035441638575949), (1645, 0.007179936548649747), (1646, 0.02976856566098903), (1647, 0.007020344400586457), (1648, 0.021821232225123496), (1649, 0.0), (1650, 0.01801124007018394), (1651, 0.0), (1652, 0.0), (1653, 0.007247642939761489), (1654, 0.01417817450725934), (1655, 0.012522007204552163), (1656, 0.003287464273070665), (1657, 0.0), (1658, 0.011397016845941493), (1659, 0.0), (1660, 0.00776538646300003), (1661, 0.0), (1662, 0.011176296756880977), (1663, 0.0027013135924340505), (1664, 0.007033814332640654), (1665, 0.039214741902389334), (1666, 0.011830697772779987), (1667, 0.0026426308505605373), (1668, 0.008790150681560896), (1669, 0.00561658926286302), (1670, 0.06245480857126579), (1671, 0.0027761449484082724), (1672, 0.0026249470135471524), (1673, 0.0), (1674, 0.0), (1675, 0.01508769561069635), (1676, 0.0), (1677, 0.0022559062478874447), (1678, 0.014774035232675042), (1679, 0.009891929282957687), (1680, 0.02460926008983286), (1681, 0.005011545956625066), (1682, 0.02091321651718394), (1683, 0.003068394470270176), (1684, 0.05597203076202933), (1685, 0.010891373673113172), (1686, 0.0), (1687, 0.007880109145532476), (1688, 0.019806560934912038), (1689, 0.009578469168324957), (1690, 0.009274675375847762), (1691, 0.010236511209592677), (1692, 0.011864708860580834), (1693, 0.002692258461363954), (1694, 0.0), (1695, 0.00970592923129224), (1696, 0.007282650619948672), (1697, 0.0), (1698, 0.015771652223876137), (1699, 0.0), (1700, 0.008700748896132038), (1701, 0.03388288715669055), (1702, 0.004744445907945647), (1703, 0.002966794245183438), (1704, 0.004653160810287309), (1705, 0.0), (1706, 0.002893530725955597), (1707, 0.02149037669418635), (1708, 0.01105643282636199), (1709, 0.012837921712061585), (1710, 0.03039002581996318), (1711, 0.0035958032208217305), (1712, 0.011003410333761295), (1713, 0.008433269951563252), (1714, 0.03350037113321301), (1715, 0.006651516153118662), (1716, 0.008335141388183812), (1717, 0.0029531211749855776), (1718, 0.012569335378098859), (1719, 0.006707512815513539), (1720, 0.0), (1721, 0.013899103682820527), (1722, 0.0028955825447115713), (1723, 0.03400267148028317), (1724, 0.0), (1725, 0.02408714108908934), (1726, 0.004684211551684541), (1727, 0.002981327125354495), (1728, 0.0), (1729, 0.0), (1730, 0.00938505817393124), (1731, 0.0), (1732, 0.036200159474800576), (1733, 0.027033566983660898), (1734, 0.0), (1735, 0.0349291931158165), (1736, 0.0030017801689110903), (1737, 0.00792213900003367), (1738, 0.004333461414859418), (1739, 0.0025782341332171864), (1740, 0.0029250541202234383), (1741, 0.0), (1742, 0.007027362049107212), (1743, 0.01264776754788441), (1744, 0.002735456987635092), (1745, 0.03248864048934784), (1746, 0.01545176490073362), (1747, 0.036803681418217035), (1748, 0.003357153139945789), (1749, 0.016153826892103977), (1750, 0.0), (1751, 0.004618422808633227), (1752, 0.0), (1753, 0.0), (1754, 0.003158717094687169), (1755, 0.04091797596917364), (1756, 0.004304609363681319), (1757, 0.0), (1758, 0.005278504313212671), (1759, 0.0027093040461436107), (1760, 0.0026511102346414295), (1761, 0.0075895149559624085), (1762, 0.013255685538056443), (1763, 0.002455498999217292), (1764, 0.041155109944822146), (1765, 0.0029656630538650434), (1766, 0.030958863333532365), (1767, 0.0), (1768, 0.007641335653125992), (1769, 0.0), (1770, 0.007985723136879036), (1771, 0.0), (1772, 0.003961146781101567), (1773, 0.00727642669494747), (1774, 0.050978431157396656), (1775, 0.0), (1776, 0.002525279785369754), (1777, 0.0), (1778, 0.004251795734476206), (1779, 0.010959829385799563), (1780, 0.0018705208352833346), (1781, 0.007768007496989029), (1782, 0.0067975639648307894), (1783, 0.0), (1784, 0.05542381003529456), (1785, 0.0), (1786, 0.0), (1787, 0.022715135768613292), (1788, 0.045104579564221925), (1789, 0.0), (1790, 0.00885336194245387), (1791, 0.0360580525477169), (1792, 0.003369711432159743), (1793, 0.013926759878800942), (1794, 0.004176914140982177), (1795, 0.0), (1796, 0.0026162498915736202), (1797, 0.0), (1798, 0.04606966213989502), (1799, 0.01813316682464306), (1800, 0.0), (1801, 0.0024080858129354238), (1802, 0.00388797062444147), (1803, 0.0), (1804, 0.004578629866003222), (1805, 0.0031241013472089315), (1806, 0.0), (1807, 0.03146858612628482), (1808, 0.006665425011732447), (1809, 0.010837310407072219), (1810, 0.0), (1811, 0.002844355929915174), (1812, 0.017686106416457438), (1813, 0.0027838206141561003), (1814, 0.0026401799908743967), (1815, 0.0), (1816, 0.004114826925147183), (1817, 0.008193069862248522), (1818, 0.032010198642168114), (1819, 0.002671397175781661), (1820, 0.0), (1821, 0.0030089715666533324), (1822, 0.003026904178940328), (1823, 0.008446882911416759), (1824, 0.004290813686047362), (1825, 0.04113234292370026), (1826, 0.0025928947212904203), (1827, 0.002592951097403645), (1828, 0.0064129570257622686), (1829, 0.0), (1830, 0.002540712379648576), (1831, 0.0028351568313521266), (1832, 0.0), (1833, 0.029562128467400823), (1834, 0.0), (1835, 0.0), (1836, 0.026902121499122626), (1837, 0.0), (1838, 0.0), (1839, 0.0), (1840, 0.0), (1841, 0.012472088020769156), (1842, 0.0), (1843, 0.02009922722140822), (1844, 0.0), (1845, 0.012565394950832746), (1846, 0.0), (1847, 0.058304952966270404), (1848, 0.003086745039073051), (1849, 0.007311269518936739), (1850, 0.003937248110840008), (1851, 0.04835531129649869), (1852, 0.1203273431875281), (1853, 0.0030351199810282684), (1854, 0.002737711502094515), (1855, 0.0), (1856, 0.0), (1857, 0.004493843607584823), (1858, 0.008316264157315376), (1859, 0.004813349695224657), (1860, 0.02829918432624816), (1861, 0.0021734748473985553), (1862, 0.003211387710200371), (1863, 0.00641404969196077), (1864, 0.009901114939408845), (1865, 0.0026012981661916626), (1866, 0.0031309962482769416), (1867, 0.007334588936079194), (1868, 0.0), (1869, 0.0025961570371869397), (1870, 0.013275731333572863), (1871, 0.002282220635087048), (1872, 0.0029001619695400087), (1873, 0.007434089658014833), (1874, 0.0030988495590998258), (1875, 0.01364493625783201), (1876, 0.010353290684365643), (1877, 0.007092107211658223), (1878, 0.00272258556531845), (1879, 0.0), (1880, 0.023623185614586685), (1881, 0.06384020205231924), (1882, 0.002809454182144962), (1883, 0.0), (1884, 0.0026800833230399), (1885, 0.003359747737470701), (1886, 0.005907265498098804), (1887, 0.008422437412647678), (1888, 0.04082800896669065), (1889, 0.0), (1890, 0.003181713433015692), (1891, 0.0028425352846808754), (1892, 0.0026037439984015883), (1893, 0.007838935530362367), (1894, 0.0), (1895, 0.004300104640699739), (1896, 0.007884476126015432), (1897, 0.011161374531820398), (1898, 0.03459487248104958), (1899, 0.0), (1900, 0.0), (1901, 0.0), (1902, 0.0030139505676654377), (1903, 0.011217457826861545), (1904, 0.0), (1905, 0.0031261438455775048), (1906, 0.02815018581716215), (1907, 0.008000008841474431), (1908, 0.012055243022747861), (1909, 0.0032546198566628035), (1910, 0.003856321984954839), (1911, 0.007712452889225468), (1912, 0.0), (1913, 0.007329028130099243), (1914, 0.004290081915985053), (1915, 0.008682289069875608), (1916, 0.0030216675346558925), (1917, 0.0), (1918, 0.0626784842222741), (1919, 0.011575654421156004), (1920, 0.00951811324491927), (1921, 0.00256261050060329), (1922, 0.002894583943735789), (1923, 0.046514223796090645), (1924, 0.003275856705254414), (1925, 0.01195462109067414), (1926, 0.0), (1927, 0.0), (1928, 0.005160651964277415), (1929, 0.0027335712356463216), (1930, 0.0), (1931, 0.0029296874444523966), (1932, 0.0), (1933, 0.0), (1934, 0.009191650330338086), (1935, 0.010884729772343747), (1936, 0.010521067340122607), (1937, 0.0), (1938, 0.0), (1939, 0.0), (1940, 0.0), (1941, 0.06758956198636716), (1942, 0.01047321721529616), (1943, 0.0024958134645704858), (1944, 0.0), (1945, 0.00748311561714614), (1946, 0.0029465270964217443), (1947, 0.003328686461439986), (1948, 0.04276999494640546), (1949, 0.0), (1950, 0.012137019039378211), (1951, 0.015764972570170736), (1952, 0.004915481151059713), (1953, 0.0), (1954, 0.002540033351208494), (1955, 0.0), (1956, 0.0), (1957, 0.020148492409425615), (1958, 0.0), (1959, 0.0031017378234703768), (1960, 0.0031747773275228783), (1961, 0.0047025549358397), (1962, 0.0), (1963, 0.0), (1964, 0.010844740300123355), (1965, 0.0), (1966, 0.0), (1967, 0.002785611079064121), (1968, 0.008728124120692782), (1969, 0.007172442880284113), (1970, 0.0), (1971, 0.006299510422733974), (1972, 0.0), (1973, 0.004294151009642051), (1974, 0.0), (1975, 0.04169598453952108), (1976, 0.0), (1977, 0.002553007676143207), (1978, 0.0), (1979, 0.0), (1980, 0.0025718677356067585), (1981, 0.0038120920133187107), (1982, 0.01254326725168572), (1983, 0.0029863631406603502), (1984, 0.004195524939568437), (1985, 0.0433633080634995), (1986, 0.011859296964315806), (1987, 0.008380303382598578), (1988, 0.01840144890723469), (1989, 0.0023030698026208505), (1990, 0.004158770108068228), (1991, 0.017471959173051353), (1992, 0.03698272665714243), (1993, 0.0), (1994, 0.017277566084012666), (1995, 0.0030832803128143633), (1996, 0.0), (1997, 0.07438865040184016), (1998, 0.0), (1999, 0.0), (2000, 0.02503441958094381), (2001, 0.0), (2002, 0.0), (2003, 0.004410010466171604), (2004, 0.0026950015969424337), (2005, 0.021565267974864414), (2006, 0.0), (2007, 0.0), (2008, 0.010011006599024982), (2009, 0.0), (2010, 0.002264439012254746), (2011, 0.009360496260598004), (2012, 0.005249589680665081), (2013, 0.013191154579177154), (2014, 0.009080222612001618), (2015, 0.004766510956907974), (2016, 0.007715546061704621), (2017, 0.009317163547150512), (2018, 0.0), (2019, 0.0), (2020, 0.024919912412421464), (2021, 0.0), (2022, 0.013130290552839635), (2023, 0.0069988555971807215), (2024, 0.0027458228449504696), (2025, 0.0), (2026, 0.0), (2027, 0.021496942426094443), (2028, 0.0), (2029, 0.007256006413938671), (2030, 0.0), (2031, 0.014945011144651051), (2032, 0.005349159767998327), (2033, 0.025519095601913285), (2034, 0.0023623859914579434), (2035, 0.0024291422516317654), (2036, 0.008310696991983543), (2037, 0.024286845512270963), (2038, 0.03152988717808868), (2039, 0.04275179472860415), (2040, 0.011372613426777388), (2041, 0.0), (2042, 0.0), (2043, 0.012400923368878028), (2044, 0.0), (2045, 0.015100817145843), (2046, 0.004559084551821988), (2047, 0.01060129559770057), (2048, 0.0029513014966089327), (2049, 0.011348739996071238), (2050, 0.0), (2051, 0.06484982289812699), (2052, 0.013852314556363415), (2053, 0.007673141325783124), (2054, 0.0), (2055, 0.020198080742903073), (2056, 0.011555479964756574), (2057, 0.0), (2058, 0.014940687767742001), (2059, 0.0), (2060, 0.002838298636112338), (2061, 0.012151127348270108), (2062, 0.01603124732872968), (2063, 0.0), (2064, 0.005470244475912572), (2065, 0.010778319348680903), (2066, 0.0), (2067, 0.002884654640643911), (2068, 0.002724715077721563), (2069, 0.002817283392447684), (2070, 0.012709526968807245), (2071, 0.008493290991891462), (2072, 0.0077013069464839014), (2073, 0.0029223731794138746), (2074, 0.014616126716906009), (2075, 0.0037571738123058675), (2076, 0.006268302587849666), (2077, 0.0), (2078, 0.0036303971020421313), (2079, 0.005210964894958342), (2080, 0.0027704380638219695), (2081, 0.0), (2082, 0.0), (2083, 0.0030007922898548168), (2084, 0.0), (2085, 0.0), (2086, 0.0306674345927433), (2087, 0.010068407175646105), (2088, 0.0030042094600313822), (2089, 0.003369339528330106), (2090, 0.0), (2091, 0.0029073252367250533), (2092, 0.0), (2093, 0.02594678122420809), (2094, 0.0488078451002803), (2095, 0.007172541254210984), (2096, 0.01097223106655668), (2097, 0.003120318093595902), (2098, 0.030350618579120532), (2099, 0.002680111939408261), (2100, 0.0), (2101, 0.008127185154344288), (2102, 0.011728353917422319), (2103, 0.031239173433984843), (2104, 0.003062309082252331), (2105, 0.003053373111253906), (2106, 0.0), (2107, 0.0), (2108, 0.0031826123079343746), (2109, 0.043258442292182404), (2110, 0.006814128768302056), (2111, 0.002808751237791029), (2112, 0.01640011068018863), (2113, 0.03231624272803313), (2114, 0.026443271700333403), (2115, 0.0), (2116, 0.011110302543627434), (2117, 0.0027504626695657422), (2118, 0.00567797555984179), (2119, 0.006889522184238982), (2120, 0.0), (2121, 0.009800193486712011), (2122, 0.002894727644080859), (2123, 0.028046973683719556), (2124, 0.0), (2125, 0.0), (2126, 0.007664721897083643), (2127, 0.006239277702466747), (2128, 0.0044888144251700015), (2129, 0.002656964536255098), (2130, 0.0), (2131, 0.0071396573637153085), (2132, 0.0023955305567906564), (2133, 0.00271215843736143), (2134, 0.0032073213263178425), (2135, 0.0), (2136, 0.05197514793767207), (2137, 0.004064058229668195), (2138, 0.0), (2139, 0.004284202733422486), (2140, 0.0), (2141, 0.019202865270086855), (2142, 0.05790758687195357), (2143, 0.030673462326768416), (2144, 0.010383615333023084), (2145, 0.0212998621994064), (2146, 0.0024504761385118396), (2147, 0.004845206950277946), (2148, 0.002972058423684388), (2149, 0.00267916048169349), (2150, 0.0), (2151, 0.0030572014590975623), (2152, 0.0), (2153, 0.0), (2154, 0.01318573688382883), (2155, 0.010474104312008303), (2156, 0.010677831337081127), (2157, 0.0024111002255801715), (2158, 0.0), (2159, 0.0298796439993525), (2160, 0.015579261585991613), (2161, 0.027529471450167965), (2162, 0.003079255437908311), (2163, 0.0025585513937671687), (2164, 0.0), (2165, 0.0), (2166, 0.0027004816886080753), (2167, 0.008772821074710757), (2168, 0.0), (2169, 0.024814703149866), (2170, 0.0), (2171, 0.0), (2172, 0.0), (2173, 0.0028235830844898203), (2174, 0.010203727451640266), (2175, 0.03540782058603938), (2176, 0.022178344860695188), (2177, 0.007848705221415245), (2178, 0.00444005871525003), (2179, 0.0), (2180, 0.005217972867215693), (2181, 0.0), (2182, 0.0), (2183, 0.0), (2184, 0.0), (2185, 0.006653254042167662), (2186, 0.0), (2187, 0.0032909049788146867), (2188, 0.0034994484921498322), (2189, 0.004025091782815416), (2190, 0.0030908066669324175), (2191, 0.002571560247419554), (2192, 0.0028876416874253443), (2193, 0.014994095382204971), (2194, 0.0), (2195, 0.007412593115716765), (2196, 0.0030322812370147828), (2197, 0.0062814030210919655), (2198, 0.012014360839196339), (2199, 0.05189305293208195), (2200, 0.0), (2201, 0.0026674016700832174), (2202, 0.006996608310127868), (2203, 0.0225556578229395), (2204, 0.0038695889878812735), (2205, 0.006951750646408898), (2206, 0.0), (2207, 0.03571847354241622), (2208, 0.0), (2209, 0.011460414313347126), (2210, 0.007556521994656984), (2211, 0.012450512057163344), (2212, 0.0028611988199968115), (2213, 0.03555006925674386), (2214, 0.003117675387838522), (2215, 0.008569267809375834), (2216, 0.00281022057997232), (2217, 0.0), (2218, 0.005074796938264615), (2219, 0.0), (2220, 0.0), (2221, 0.03664011244833567), (2222, 0.004714982460918972), (2223, 0.0032602729699718375), (2224, 0.011384008321640597), (2225, 0.0), (2226, 0.019645024026683226), (2227, 0.0), (2228, 0.0), (2229, 0.003133604939268609), (2230, 0.002944793064966596), (2231, 0.0), (2232, 0.0), (2233, 0.0050094043483822105), (2234, 0.0176892790164134), (2235, 0.0), (2236, 0.017625640890259628), (2237, 0.010527146911250493), (2238, 0.0), (2239, 0.02060255050974134), (2240, 0.0025162997106998658), (2241, 0.004746788642581759), (2242, 0.0027254693114124383), (2243, 0.0), (2244, 0.008168019225331122), (2245, 0.004408967905343546), (2246, 0.0609820890360328), (2247, 0.05981457962783479), (2248, 0.002577866936193239), (2249, 0.0), (2250, 0.007416147040030596), (2251, 0.003989633963994833), (2252, 0.00983658767742793), (2253, 0.0), (2254, 0.003077010651746978), (2255, 0.003699447308831422), (2256, 0.0), (2257, 0.003691746468363567), (2258, 0.0), (2259, 0.004745416489312163), (2260, 0.003067397058885698), (2261, 0.0), (2262, 0.004112450888780738), (2263, 0.004899210135196671), (2264, 0.0025474414530321757), (2265, 0.009345242737289969), (2266, 0.0035307036790484685), (2267, 0.0), (2268, 0.007177855593830015), (2269, 0.0033279622858182014), (2270, 0.0024774977185252323), (2271, 0.0), (2272, 0.05245352871367415), (2273, 0.0), (2274, 0.051960588819276114), (2275, 0.0), (2276, 0.02532003032710485), (2277, 0.015062311368922767), (2278, 0.00463096082061161), (2279, 0.0027938555611873206), (2280, 0.0), (2281, 0.0), (2282, 0.0), (2283, 0.0048645668036639165), (2284, 0.002882885987899985), (2285, 0.017477860385820426), (2286, 0.003664437300666648), (2287, 0.010008944611115893), (2288, 0.003032975484559572), (2289, 0.002847558706241897), (2290, 0.0175755416630639), (2291, 0.010273558007262682), (2292, 0.0029204416188799453), (2293, 0.003125542840901564), (2294, 0.03165450590270761), (2295, 0.0029130038668448294), (2296, 0.0038345604922644565), (2297, 0.0), (2298, 0.0), (2299, 0.08628907095646253), (2300, 0.0), (2301, 0.03135491663748498), (2302, 0.003256879290586688), (2303, 0.01401396582540958), (2304, 0.0), (2305, 0.0), (2306, 0.013024095072267882), (2307, 0.0), (2308, 0.0), (2309, 0.049431291845372344), (2310, 0.1397197616834449), (2311, 0.0042940070687400005), (2312, 0.0), (2313, 0.00291120339997514), (2314, 0.0), (2315, 0.0), (2316, 0.0), (2317, 0.1595836401011162), (2318, 0.013670055903303412), (2319, 0.002978796054127029), (2320, 0.013946744062074598), (2321, 0.0029459975017804363), (2322, 0.00444655098043599), (2323, 0.002587623127443123), (2324, 0.007399257816807092), (2325, 0.0), (2326, 0.0035843971093462317), (2327, 0.0042559421709504235), (2328, 0.0), (2329, 0.004477385157786357), (2330, 0.004826326000921399), (2331, 0.0), (2332, 0.0), (2333, 0.0), (2334, 0.007649748406563208), (2335, 0.007492359364314538), (2336, 0.0), (2337, 0.0), (2338, 0.04513294361063126), (2339, 0.013619649519490911), (2340, 0.0028745183292382256), (2341, 0.0), (2342, 0.020531013102190705), (2343, 0.0), (2344, 0.002873375081675927), (2345, 0.0), (2346, 0.0032602248893998918), (2347, 0.0026359250689203854), (2348, 0.002700870425012338), (2349, 0.003970192353216509), (2350, 0.0036846140902434834), (2351, 0.05269937735992402), (2352, 0.0), (2353, 0.0), (2354, 0.0028702737239999277), (2355, 0.0023905508982765703), (2356, 0.0032054502078298313), (2357, 0.0), (2358, 0.0), (2359, 0.002393302777591861), (2360, 0.0), (2361, 0.003041467876805525), (2362, 0.0026284598228878847), (2363, 0.005641120126515982), (2364, 0.0), (2365, 0.0), (2366, 0.0), (2367, 0.011483821270020574), (2368, 0.0), (2369, 0.02694073672366282), (2370, 0.0029873543716595194), (2371, 0.0), (2372, 0.0), (2373, 0.0), (2374, 0.002906018559667255), (2375, 0.08411089629696161), (2376, 0.028079581766083828), (2377, 0.003623601030663522), (2378, 0.00337451447241428), (2379, 0.00413821905975071), (2380, 0.0), (2381, 0.0), (2382, 0.0024562925400209057), (2383, 0.0), (2384, 0.0), (2385, 0.003020108482462634), (2386, 0.0029315950010063963), (2387, 0.002861179451350958), (2388, 0.0070407112058148424), (2389, 0.0), (2390, 0.0031434085473047704), (2391, 0.0030625528117152155), (2392, 0.0037439275124705063), (2393, 0.003060038684399761), (2394, 0.003021404259883312), (2395, 0.0), (2396, 0.002893475854889562), (2397, 0.0029162495819524247), (2398, 0.003446394539451966), (2399, 0.002646847863771058), (2400, 0.04508943988795705), (2401, 0.0027867441931115015), (2402, 0.0025967946431202727), (2403, 0.01186458727519656), (2404, 0.08070932183033289), (2405, 0.0029822895702597855), (2406, 0.003368127490254724), (2407, 0.003963653150475716), (2408, 0.0), (2409, 0.004347593025598726), (2410, 0.003145640112529379), (2411, 0.0032468810964360433), (2412, 0.01438062362657631), (2413, 0.025415314701613855), (2414, 0.041895462776928516), (2415, 0.003479407035872508), (2416, 0.00732498644682789), (2417, 0.012052927641609512), (2418, 0.0157503665326294), (2419, 0.0030125125456292), (2420, 0.12324523106019661), (2421, 0.012217928340481118), (2422, 0.011645475251519427), (2423, 0.0036136525278737523), (2424, 0.0), (2425, 0.003716273944320931), (2426, 0.006694021286176211), (2427, 0.013935312986044505), (2428, 0.003164437880271167), (2429, 0.0), (2430, 0.06946656197797313), (2431, 0.004698075156763769), (2432, 0.004399971806451461), (2433, 0.0), (2434, 0.0034279415979536405), (2435, 0.0), (2436, 0.01660733105229457), (2437, 0.00325465507736798), (2438, 0.0035517167354106594), (2439, 0.006097454430414578), (2440, 0.03431582077608746), (2441, 0.0023219614360508664), (2442, 0.0), (2443, 0.01951343548214523), (2444, 0.004656241163197624), (2445, 0.0), (2446, 0.006902985032595729), (2447, 0.006374396320552325), (2448, 0.026237693348397883), (2449, 0.0), (2450, 0.0), (2451, 0.0), (2452, 0.0), (2453, 0.002635405798893816), (2454, 0.0034624874074488856), (2455, 0.0), (2456, 0.0), (2457, 0.01807228633020619), (2458, 0.004974561812166091), (2459, 0.003490112260521665), (2460, 0.0), (2461, 0.0027802025369346134), (2462, 0.0), (2463, 0.014605696819853832), (2464, 0.0031447888517942566), (2465, 0.0), (2466, 0.0029447931041043382), (2467, 0.002766486836070068), (2468, 0.0), (2469, 0.03905323691936837), (2470, 0.0051555611197470225), (2471, 0.0), (2472, 0.0), (2473, 0.009803830166107077), (2474, 0.02410228893697977), (2475, 0.0030836511778805486), (2476, 0.0), (2477, 0.003098022278879321), (2478, 0.003291707628502209), (2479, 0.0), (2480, 0.011888449040840847), (2481, 0.032901587481354924), (2482, 0.0068506373613522395), (2483, 0.0), (2484, 0.0038339297267617743), (2485, 0.015325975946115454), (2486, 0.005211765368996691), (2487, 0.012152845801061702), (2488, 0.003504296396830817), (2489, 0.0029221762552028856), (2490, 0.004132845581077224), (2491, 0.004208651265684088), (2492, 0.012072050140903018), (2493, 0.0), (2494, 0.016020002855244214), (2495, 0.002867161452271009), (2496, 0.0026815345453044055), (2497, 0.004215901963555775), (2498, 0.008992748319797475), (2499, 0.0), (2500, 0.03914285444337496), (2501, 0.004586729928556893), (2502, 0.002529893393857302), (2503, 0.06073709675983125), (2504, 0.00445683616238283), (2505, 0.011432368911082794), (2506, 0.0), (2507, 0.00311486960383747), (2508, 0.0), (2509, 0.00985882717581281), (2510, 0.02421147675307485), (2511, 0.004731516113111131), (2512, 0.0028468393172680524), (2513, 0.033364804940665224), (2514, 0.004101077120910838), (2515, 0.0), (2516, 0.0), (2517, 0.00706001994302929), (2518, 0.005153187174180108), (2519, 0.0), (2520, 0.0024857101354213143), (2521, 0.0), (2522, 0.003056012051043928), (2523, 0.0), (2524, 0.03149282720683607), (2525, 0.006998475153093799), (2526, 0.006080958234227484), (2527, 0.0024661953801229978), (2528, 0.002662834139792489), (2529, 0.004162369060942041), (2530, 0.003644460955393635), (2531, 0.0077456781697246985), (2532, 0.00515333547877756), (2533, 0.002883970623260942), (2534, 0.007388025217530623), (2535, 0.003178093442573521), (2536, 0.0), (2537, 0.00393353374356693), (2538, 0.025059450126142854), (2539, 0.0), (2540, 0.0027328681871669064), (2541, 0.0), (2542, 0.0), (2543, 0.0), (2544, 0.0), (2545, 0.010724912794335495), (2546, 0.007737028703503063), (2547, 0.006011093766304545), (2548, 0.022388127027255594), (2549, 0.0), (2550, 0.03423065224890174), (2551, 0.0), (2552, 0.02960160445364316), (2553, 0.011695946327084528), (2554, 0.0028926706456009438), (2555, 0.0065214375235699345), (2556, 0.00265883696920863), (2557, 0.00355624837105799), (2558, 0.0028677925282460824), (2559, 0.003769410665271673), (2560, 0.008530039534877118), (2561, 0.002991508454821456), (2562, 0.006873883358801521), (2563, 0.012289031603118592), (2564, 0.0), (2565, 0.010920111194697685), (2566, 0.025615703874030733), (2567, 0.0), (2568, 0.01817296751990627), (2569, 0.0028333486036553925), (2570, 0.0033748582440657864), (2571, 0.007180580265145762), (2572, 0.009751370697975806), (2573, 0.0), (2574, 0.0), (2575, 0.05241622457622702), (2576, 0.0), (2577, 0.0), (2578, 0.0), (2579, 0.003214083748706008), (2580, 0.0025607000429882705), (2581, 0.0057042356170275855), (2582, 0.08965461392782281), (2583, 0.0), (2584, 0.012626986854064314), (2585, 0.00319205369552487), (2586, 0.0), (2587, 0.013186225693171396), (2588, 0.0), (2589, 0.0), (2590, 0.03685079638287046), (2591, 0.00257251204802731), (2592, 0.0031744129322276654), (2593, 0.0026455334909374624), (2594, 0.0), (2595, 0.0031100832779393096), (2596, 0.0), (2597, 0.0), (2598, 0.0027128875051866436), (2599, 0.0), (2600, 0.0), (2601, 0.010735749086058188), (2602, 0.002379236189786402), (2603, 0.0124796936610728), (2604, 0.0), (2605, 0.0), (2606, 0.002887218336923603), (2607, 0.009227117447849528), (2608, 0.003998121588550753), (2609, 0.007927335127835248), (2610, 0.007854482089907387), (2611, 0.00637615180703416), (2612, 0.007177922933869214), (2613, 0.003378054559869273), (2614, 0.006226977639606975), (2615, 0.038608582387159376), (2616, 0.008926441864968918), (2617, 0.0025280757331448073), (2618, 0.0), (2619, 0.003453083005105805), (2620, 0.0), (2621, 0.008956071064874057), (2622, 0.003872814597112229), (2623, 0.003246126276884412), (2624, 0.003137571457391501), (2625, 0.05126057843024271), (2626, 0.0), (2627, 0.0038415088134460987), (2628, 0.003753687793882258), (2629, 0.022806083376915885), (2630, 0.0), (2631, 0.004334943581350406), (2632, 0.018967139472100793), (2633, 0.015599448467662373), (2634, 0.018772276354565076), (2635, 0.0), (2636, 0.005579815705183306), (2637, 0.004900946285341245), (2638, 0.016882760293105165), (2639, 0.0), (2640, 0.015547055504566303), (2641, 0.0), (2642, 0.007160594818936382), (2643, 0.0037084386572697665), (2644, 0.0), (2645, 0.0095648749692346), (2646, 0.022542264578182265), (2647, 0.0075275327821031565), (2648, 0.0), (2649, 0.0040503380743632765), (2650, 0.002979165640769887), (2651, 0.0027129132587554025), (2652, 0.0028988552510052484), (2653, 0.009933720158499342), (2654, 0.004160129380731998), (2655, 0.0037999662045586557), (2656, 0.011526914783414522), (2657, 0.0), (2658, 0.0), (2659, 0.0), (2660, 0.019752988369318523), (2661, 0.021567259602772452), (2662, 0.0), (2663, 0.0), (2664, 0.003056955676900686), (2665, 0.01363275944203926), (2666, 0.004196263449213999), (2667, 0.0), (2668, 0.019985552227192976), (2669, 0.0), (2670, 0.0), (2671, 0.0), (2672, 0.005116384841709112), (2673, 0.009886833623979548), (2674, 0.0026395275479925715), (2675, 0.004785221439123006), (2676, 0.0), (2677, 0.0), (2678, 0.00466989511361456), (2679, 0.0027133427424286577), (2680, 0.01587015386920963), (2681, 0.0), (2682, 0.004258886412659539), (2683, 0.0), (2684, 0.0), (2685, 0.0), (2686, 0.03197083553521884), (2687, 0.0028210830190095047), (2688, 0.012743256100150665), (2689, 0.0048389114934794105), (2690, 0.0), (2691, 0.012475770422197628), (2692, 0.008939084683528015), (2693, 0.027120496984573157), (2694, 0.003819555526356183), (2695, 0.0028709521160306542), (2696, 0.0033332581897398497), (2697, 0.030075599643432184), (2698, 0.01447710457363021), (2699, 0.0), (2700, 0.0), (2701, 0.0), (2702, 0.003277251805466138), (2703, 0.0), (2704, 0.0), (2705, 0.0031047814154083293), (2706, 0.014126335456421156), (2707, 0.0033653645170133796), (2708, 0.03226712281697173), (2709, 0.0), (2710, 0.0), (2711, 0.0), (2712, 0.02381112061358858), (2713, 0.004471863665725054), (2714, 0.003034687441513252), (2715, 0.0), (2716, 0.0027619523342740223), (2717, 0.0), (2718, 0.0), (2719, 0.004844272026504944), (2720, 0.008710700497586718), (2721, 0.0024915391549657465), (2722, 0.004025359693385687), (2723, 0.0030752384648612403), (2724, 0.01066047449133877), (2725, 0.00794847268073726), (2726, 0.007668708314585145), (2727, 0.0), (2728, 0.0026099980857612276), (2729, 0.009739950194945474), (2730, 0.005608594365591419), (2731, 0.0038489569943998404), (2732, 0.057257164507470294), (2733, 0.0), (2734, 0.0036281006714965853), (2735, 0.0026474821300992353), (2736, 0.0), (2737, 0.0), (2738, 0.00877076714383089), (2739, 0.008156173025045003), (2740, 0.016730195317339738), (2741, 0.0025817879122288353), (2742, 0.006895387779184186), (2743, 0.002458415910428684), (2744, 0.028518743652943473), (2745, 0.0028942558229999625), (2746, 0.0029154948332881406), (2747, 0.0024845884048592948), (2748, 0.0031180732369748597), (2749, 0.004154396562555769), (2750, 0.0), (2751, 0.007042752404694958), (2752, 0.0027425421886466696), (2753, 0.002526085334590997), (2754, 0.0), (2755, 0.007858891442235163), (2756, 0.0), (2757, 0.004388792817921371), (2758, 0.0024352709917877923), (2759, 0.007236728568312928), (2760, 0.002200855654665216), (2761, 0.021216921256378522), (2762, 0.0), (2763, 0.008915908368591343), (2764, 0.004085179458001478), (2765, 0.01140359177977807), (2766, 0.009519339524742255), (2767, 0.0022370786289361627), (2768, 0.004076007200443375), (2769, 0.012150475559127885), (2770, 0.03273514849480811), (2771, 0.002433085816620758), (2772, 0.0033966699454570956), (2773, 0.0), (2774, 0.009582184088157936), (2775, 0.003892692694724373), (2776, 0.0030882719864767107), (2777, 0.013748876005941095), (2778, 0.003467204968112527), (2779, 0.0027372816567774105), (2780, 0.0), (2781, 0.0), (2782, 0.003191904259012561), (2783, 0.0028856841453014544), (2784, 0.00759655082215387), (2785, 0.0052264164139044856), (2786, 0.0030706809110601246), (2787, 0.0), (2788, 0.004647225122498316), (2789, 0.009967540191758393), (2790, 0.004799488476779363), (2791, 0.008372753545969547), (2792, 0.026120991228129616), (2793, 0.00915651865048507), (2794, 0.0), (2795, 0.00362117185356804), (2796, 0.0032814878774528335), (2797, 0.0035096847771220047), (2798, 0.037213735014946916), (2799, 0.0), (2800, 0.0027090803181312353), (2801, 0.003915778722657038), (2802, 0.0028038237056016474), (2803, 0.03141788248343774), (2804, 0.0), (2805, 0.0039916909120642375), (2806, 0.0), (2807, 0.004478208359599253), (2808, 0.014398027701489013), (2809, 0.010841202949082238), (2810, 0.037959797242120744), (2811, 0.0), (2812, 0.014003368084458019), (2813, 0.004574509826326215), (2814, 0.013063013330056506), (2815, 0.0), (2816, 0.012407608107825114), (2817, 0.004867450970616907), (2818, 0.006392333492519282), (2819, 0.0), (2820, 0.00649591979471461), (2821, 0.003044070077404425), (2822, 0.0), (2823, 0.0), (2824, 0.0), (2825, 0.0), (2826, 0.0028827260594096495), (2827, 0.0), (2828, 0.0), (2829, 0.004373418992346797), (2830, 0.0031912577575256224), (2831, 0.010305981072129614), (2832, 0.003763052973927957), (2833, 0.0), (2834, 0.009220603309395408), (2835, 0.0), (2836, 0.0), (2837, 0.0), (2838, 0.07583378903755178), (2839, 0.0), (2840, 0.008289247157981891), (2841, 0.009250672026707235), (2842, 0.003946642466316176), (2843, 0.008247134918724844), (2844, 0.0578185042110123), (2845, 0.0026392020867087797), (2846, 0.0033551723120913294), (2847, 0.0), (2848, 0.0035000437598757665), (2849, 0.0030314066388766416), (2850, 0.0), (2851, 0.0), (2852, 0.06306353571842747), (2853, 0.002853048364729831), (2854, 0.008254162138058494), (2855, 0.0038710308569285526), (2856, 0.0), (2857, 0.003539499903142656), (2858, 0.0040642851064019445), (2859, 0.01408732621588214), (2860, 0.030438565257258476), (2861, 0.0038006977833972295), (2862, 0.01118053871037115), (2863, 0.00295652513167224), (2864, 0.0), (2865, 0.0), (2866, 0.0), (2867, 0.02003137379291925), (2868, 0.016395107251918777), (2869, 0.0), (2870, 0.003887128661808185), (2871, 0.0), (2872, 0.003300666529511139), (2873, 0.013619693969445137), (2874, 0.011129459060484233), (2875, 0.0), (2876, 0.01677931335286918), (2877, 0.0), (2878, 0.022270155554249577), (2879, 0.05100610724359704), (2880, 0.0), (2881, 0.003247532966680402), (2882, 0.0031159110571786905), (2883, 0.0038803017223255722), (2884, 0.0033100943139849673), (2885, 0.0), (2886, 0.00273567401677444), (2887, 0.0029054401416252484), (2888, 0.0031060846035939793), (2889, 0.003947292891603463), (2890, 0.003164061928123594), (2891, 0.0), (2892, 0.007054947529070441), (2893, 0.0032517087543198356), (2894, 0.00294253942806304), (2895, 0.0034322113422300894), (2896, 0.0), (2897, 0.004360131203535854), (2898, 0.13249787772261687), (2899, 0.0069865589021429865), (2900, 0.007408555585331973), (2901, 0.0036815015873260686), (2902, 0.002108906085654463), (2903, 0.0032156108824170247), (2904, 0.002982424312430599), (2905, 0.0), (2906, 0.004018779361914896), (2907, 0.002659344266850447), (2908, 0.008272434860302064), (2909, 0.002796540378273271), (2910, 0.007271788698984103), (2911, 0.007735038703752835), (2912, 0.0027764962799348178), (2913, 0.0), (2914, 0.0032428555878267857), (2915, 0.011194598867239381), (2916, 0.0032118233324686185), (2917, 0.013957991285677524), (2918, 0.0), (2919, 0.0029621900776375587), (2920, 0.006800174744288101), (2921, 0.0), (2922, 0.0), (2923, 0.003863460243246025), (2924, 0.0033254592469302083), (2925, 0.0023022361701381176), (2926, 0.0029987852677619887), (2927, 0.0), (2928, 0.0), (2929, 0.010694955975543909), (2930, 0.06208927359161389), (2931, 0.017570325023009266), (2932, 0.0037911840494991573), (2933, 0.012618702351466907), (2934, 0.0028883061397114466), (2935, 0.00659590216430094), (2936, 0.011653064038454557), (2937, 0.004117489129395825), (2938, 0.004273335585243371), (2939, 0.0), (2940, 0.007943822877771189), (2941, 0.0), (2942, 0.012857762477498454), (2943, 0.00285710938531783), (2944, 0.024824027186538075), (2945, 0.002806835159848864), (2946, 0.002821905132127818), (2947, 0.0), (2948, 0.0), (2949, 0.003063767853441057), (2950, 0.0), (2951, 0.010057858885082944), (2952, 0.0), (2953, 0.003035094271123676), (2954, 0.006786220339664743), (2955, 0.0), (2956, 0.0), (2957, 0.0035079880966190887), (2958, 0.0), (2959, 0.0), (2960, 0.0), (2961, 0.002822450338847968), (2962, 0.008687711767949547), (2963, 0.0048739240339652394), (2964, 0.015878208444110795), (2965, 0.002723835021847535), (2966, 0.003485774588565796), (2967, 0.0), (2968, 0.03062265598109526), (2969, 0.018483478659785096), (2970, 0.0030563542053529515), (2971, 0.0), (2972, 0.0027028194812788397), (2973, 0.0), (2974, 0.003219335053438847), (2975, 0.017064478558927614), (2976, 0.02427349717415736), (2977, 0.015214146633002204), (2978, 0.03050553450165196), (2979, 0.0), (2980, 0.02698745567272387), (2981, 0.016592608970310084), (2982, 0.0), (2983, 0.0), (2984, 0.0), (2985, 0.016201537094020602), (2986, 0.0033917054404878294), (2987, 0.0033103188384987674), (2988, 0.010617241487393705), (2989, 0.003995493515771124), (2990, 0.0), (2991, 0.0), (2992, 0.011180979647383505), (2993, 0.003458556544280953), (2994, 0.0), (2995, 0.019040832681160535), (2996, 0.013202606785099909), (2997, 0.0027102371383744394), (2998, 0.004304737114147462), (2999, 0.05900244294621501), (3000, 0.0029358556919014856), (3001, 0.0), (3002, 0.0), (3003, 0.0031853323479954215), (3004, 0.0035317758876398327), (3005, 0.0), (3006, 0.0), (3007, 0.0030632879968242937), (3008, 0.008302686852101636), (3009, 0.0), (3010, 0.011568675518527728), (3011, 0.0044079489407170104), (3012, 0.00321480515701573), (3013, 0.0032346747923746727), (3014, 0.02919163306069921), (3015, 0.0036335655218822827), (3016, 0.00294366470939127), (3017, 0.0), (3018, 0.00476711647766633), (3019, 0.0033380301505976204), (3020, 0.003481013623309016), (3021, 0.0), (3022, 0.010621009638040219), (3023, 0.007026581507636106), (3024, 0.002372013056504691), (3025, 0.0), (3026, 0.0031680244384941565), (3027, 0.010795587251458546), (3028, 0.0071820776853486375), (3029, 0.0), (3030, 0.0038844846770676083), (3031, 0.003502699871724981), (3032, 0.003209570802927413), (3033, 0.011984718266922174), (3034, 0.0), (3035, 0.0027297564547960765), (3036, 0.029399250743949237), (3037, 0.0030267165836904415), (3038, 0.0), (3039, 0.013569515339906904), (3040, 0.004004397893949231), (3041, 0.025574880494359194), (3042, 0.03671452286026646), (3043, 0.0032460307911665906), (3044, 0.003125611359897374), (3045, 0.0), (3046, 0.03146599621297517), (3047, 0.0), (3048, 0.0), (3049, 0.0), (3050, 0.002627090226354921), (3051, 0.004090185450367414), (3052, 0.003916590679834324), (3053, 0.03130331555978623), (3054, 0.0), (3055, 0.0039018213268235706), (3056, 0.0023754376673348772), (3057, 0.00697215627949911), (3058, 0.0), (3059, 0.0), (3060, 0.0), (3061, 0.018007492980206073), (3062, 0.0031789915514654895), (3063, 0.0), (3064, 0.003120091996827079), (3065, 0.008743803539498444), (3066, 0.011715920333657537), (3067, 0.027184103031825016), (3068, 0.0), (3069, 0.002800174280700488), (3070, 0.03025543521829246), (3071, 0.03323923487307497), (3072, 0.003332702824739708), (3073, 0.12896809323364314), (3074, 0.0035180077442827783), (3075, 0.0027848467879506445), (3076, 0.0037526458028895146), (3077, 0.0), (3078, 0.0), (3079, 0.0), (3080, 0.0), (3081, 0.0033745558860036173), (3082, 0.0), (3083, 0.004243416933400797), (3084, 0.003041209988427373), (3085, 0.007094861092398956), (3086, 0.04586119108719274), (3087, 0.0712447048848757), (3088, 0.0), (3089, 0.029438578603541106), (3090, 0.02758798337033224), (3091, 0.0024000676483062486), (3092, 0.0), (3093, 0.0028219382277847333), (3094, 0.012045008585659), (3095, 0.01105176815780088), (3096, 0.00894839888861737), (3097, 0.003161829738415669), (3098, 0.0), (3099, 0.0), (3100, 0.0), (3101, 0.0031679224803360167), (3102, 0.0), (3103, 0.00482292586643728), (3104, 0.0), (3105, 0.0), (3106, 0.0), (3107, 0.0), (3108, 0.013336227388492126), (3109, 0.0), (3110, 0.0), (3111, 0.022066982748263714), (3112, 0.0030833623771595376), (3113, 0.0029246160572128058), (3114, 0.029264716282011494), (3115, 0.0), (3116, 0.003150944139453499), (3117, 0.0), (3118, 0.0), (3119, 0.003931064660426331), (3120, 0.0026547228643628196), (3121, 0.004263037879121868), (3122, 0.011444741854657789), (3123, 0.0034975422478946243), (3124, 0.0), (3125, 0.007468900442338208), (3126, 0.0), (3127, 0.004421635859546913), (3128, 0.0036145477551395673), (3129, 0.007843708450004552), (3130, 0.0), (3131, 0.004883707376164117), (3132, 0.0), (3133, 0.0042905973202516596), (3134, 0.0), (3135, 0.0), (3136, 0.0), (3137, 0.05773592641078028), (3138, 0.0), (3139, 0.004059719654795471), (3140, 0.003608631482711883), (3141, 0.00879569719041779), (3142, 0.006311231941635177), (3143, 0.0), (3144, 0.012327446383022364), (3145, 0.00593046498823747), (3146, 0.003207344492650016), (3147, 0.0026694104583267213), (3148, 0.0462225456432411), (3149, 0.00440302584362444), (3150, 0.007776076820377283), (3151, 0.014154183584914357), (3152, 0.04203747273039072), (3153, 0.002952687814341717), (3154, 0.003509557391591178), (3155, 0.0028870298205876683), (3156, 0.0), (3157, 0.0114579394128092), (3158, 0.0), (3159, 0.0035488568197099397), (3160, 0.0), (3161, 0.0), (3162, 0.0), (3163, 0.0), (3164, 0.010154900600932219), (3165, 0.0032934454093476303), (3166, 0.12122574056291661), (3167, 0.0935855910543213), (3168, 0.0), (3169, 0.0), (3170, 0.0027278851311541546), (3171, 0.0027276067463605537), (3172, 0.005315236093514499), (3173, 0.0028238723016330196), (3174, 0.007412347938751902), (3175, 0.06051310915636051), (3176, 0.0), (3177, 0.0), (3178, 0.06454632304229044), (3179, 0.0), (3180, 0.0), (3181, 0.009948445656257004), (3182, 0.0029209792179945935), (3183, 0.003139954319642818), (3184, 0.0030798063574081877), (3185, 0.0), (3186, 0.0032512607717443734), (3187, 0.0030174643977971573), (3188, 0.0), (3189, 0.0), (3190, 0.0), (3191, 0.0), (3192, 0.0), (3193, 0.0042880359413584755), (3194, 0.0027064676409332966), (3195, 0.002821808654636591), (3196, 0.04577902810184433), (3197, 0.0), (3198, 0.0029621518616984423), (3199, 0.005755434665777766), (3200, 0.006314896165141234), (3201, 0.008137585536656718), (3202, 0.0), (3203, 0.0), (3204, 0.0), (3205, 0.08075917002610306), (3206, 0.0034692803733514673), (3207, 0.0), (3208, 0.0), (3209, 0.0), (3210, 0.002892329292941224), (3211, 0.010387201800481185), (3212, 0.02325747762988401), (3213, 0.0), (3214, 0.0027374942160014277), (3215, 0.0062110899427291295), (3216, 0.00285342811031446), (3217, 0.0), (3218, 0.015841131734410464), (3219, 0.0037472763962157142), (3220, 0.002802425366755177), (3221, 0.005105510947659378), (3222, 0.07529874209467634), (3223, 0.0), (3224, 0.0029853324931212125), (3225, 0.002938376214181222), (3226, 0.023134076378125645), (3227, 0.0028911775686791567), (3228, 0.018032404539460742), (3229, 0.0), (3230, 0.028464292676153323), (3231, 0.00408771557440156), (3232, 0.04937414186223351), (3233, 0.007645933733402006), (3234, 0.013113355231052146), (3235, 0.003056772711668454), (3236, 0.0), (3237, 0.01467627724139503), (3238, 0.010324380680916578), (3239, 0.0036151455906498994), (3240, 0.03377306146890708), (3241, 0.002991455034121468), (3242, 0.003010484580971527), (3243, 0.002685608741632911), (3244, 0.00680330878758919), (3245, 0.0), (3246, 0.030755929756380328), (3247, 0.0), (3248, 0.0031979060436183957), (3249, 0.003586312116619341), (3250, 0.0), (3251, 0.0), (3252, 0.0023892886356508135), (3253, 0.016891100801885314), (3254, 0.002344526577931694), (3255, 0.0), (3256, 0.008657344256577413), (3257, 0.0034550924667685096), (3258, 0.003118008129300853), (3259, 0.004814094857437863), (3260, 0.0072919829686001435), (3261, 0.0), (3262, 0.0036895255702936074), (3263, 0.0), (3264, 0.015689623627948922), (3265, 0.01706199327448733), (3266, 0.0), (3267, 0.0026018195701495773), (3268, 0.0027367550349228866), (3269, 0.0031017119936472787), (3270, 0.00453509384861616), (3271, 0.008030474536737033), (3272, 0.0), (3273, 0.003192296052441891), (3274, 0.0032307840841518482), (3275, 0.0033514256181634756), (3276, 0.004328477829846199), (3277, 0.02294152020813013), (3278, 0.0026072945252598517), (3279, 0.0), (3280, 0.004249873716923598), (3281, 0.0), (3282, 0.0037186236891719286), (3283, 0.00757023535583584), (3284, 0.020410682393826624), (3285, 0.002155650292980125), (3286, 0.0), (3287, 0.0), (3288, 0.007266509887789776), (3289, 0.0029386036057997282), (3290, 0.0029508780236451792), (3291, 0.0038533093546393987), (3292, 0.05467388397861044), (3293, 0.029967577628346526), (3294, 0.05377714675869586), (3295, 0.004154112419096355), (3296, 0.0032613029368469804), (3297, 0.007897241611186085), (3298, 0.0027698527600669843), (3299, 0.0392591368738145), (3300, 0.002694645388472479), (3301, 0.002245425649738244), (3302, 0.0034936806179119827), (3303, 0.007563277177418363), (3304, 0.002596407379228503), (3305, 0.0), (3306, 0.006813694288439576), (3307, 0.003330786109216053), (3308, 0.0033946875312272375), (3309, 0.007091812957103731), (3310, 0.0), (3311, 0.006723035773109518), (3312, 0.005301890889902847), (3313, 0.0023410286219857496), (3314, 0.0030411078553337465), (3315, 0.002739189621632184), (3316, 0.011429940944458383), (3317, 0.009826158760364809), (3318, 0.0025843053579238814), (3319, 0.0), (3320, 0.057383450205185677), (3321, 0.004223580285757334), (3322, 0.00369039906626818), (3323, 0.0), (3324, 0.04585151047542455), (3325, 0.005123076795392614), (3326, 0.07193629700431692), (3327, 0.010760861526895043), (3328, 0.007885439653055151), (3329, 0.009410978398617754), (3330, 0.007406879137971388), (3331, 0.0023902504681954846), (3332, 0.0), (3333, 0.0), (3334, 0.0), (3335, 0.0028971696659094914), (3336, 0.006689554539885997), (3337, 0.003308553253530734), (3338, 0.0), (3339, 0.0), (3340, 0.0), (3341, 0.0028754446962584146), (3342, 0.006901405306927694), (3343, 0.0045601579203766954), (3344, 0.016495823378632143), (3345, 0.010658421196302753), (3346, 0.010266789241151139), (3347, 0.0024066611671389126), (3348, 0.0027749682099156062), (3349, 0.002974888520282796), (3350, 0.0), (3351, 0.002992669406591887), (3352, 0.0027574687907831307), (3353, 0.0029810648683053376), (3354, 0.0036101115348531722), (3355, 0.0032988655147830176), (3356, 0.0034429006242170474), (3357, 0.0035642249575520116), (3358, 0.0034811503416623236), (3359, 0.00333701208156376), (3360, 0.01979575822994404), (3361, 0.004321114462483616), (3362, 0.023527903914205728), (3363, 0.003576123478789982), (3364, 0.008579795377229438), (3365, 0.005241208279317261), (3366, 0.0), (3367, 0.0), (3368, 0.004456675538934654), (3369, 0.0026449106174236845), (3370, 0.00278330954834282), (3371, 0.0), (3372, 0.003011464606469756), (3373, 0.00322733522164047), (3374, 0.0073758634761435776), (3375, 0.0), (3376, 0.006346554918413441), (3377, 0.0), (3378, 0.00476331829066919), (3379, 0.0028112374770950287), (3380, 0.002545396551045003), (3381, 0.0028331758340799087), (3382, 0.0029920464481886623), (3383, 0.0), (3384, 0.014058479048714307), (3385, 0.0), (3386, 0.015055724304042648), (3387, 0.04905710971306512), (3388, 0.0030211374433683157), (3389, 0.013665872918356666), (3390, 0.019142050555498558), (3391, 0.006392702124887922), (3392, 0.001905254409657586), (3393, 0.006392086173641778), (3394, 0.0), (3395, 0.020467611262641024), (3396, 0.00330741512219639), (3397, 0.008193219671262228), (3398, 0.0), (3399, 0.013882159310494635), (3400, 0.0), (3401, 0.0), (3402, 0.002794236162676973), (3403, 0.02560008872657476), (3404, 0.0), (3405, 0.0), (3406, 0.003026138942109766), (3407, 0.013949490819021988), (3408, 0.0033159488739725276), (3409, 0.016571547902244882), (3410, 0.011957105488362025), (3411, 0.004004903303419998), (3412, 0.007248504843881676), (3413, 0.003444108161496315), (3414, 0.013429328939871006), (3415, 0.0), (3416, 0.007419788795992173), (3417, 0.0031581240036699966), (3418, 0.002602216648368916), (3419, 0.003309087895890557), (3420, 0.026431575116004608), (3421, 0.0019837744369618844), (3422, 0.0), (3423, 0.011778821381645762), (3424, 0.015003849265527388), (3425, 0.003322458875479757), (3426, 0.0069086528846916025), (3427, 0.0), (3428, 0.0), (3429, 0.0), (3430, 0.006186317906703898), (3431, 0.0023026191402964464), (3432, 0.0), (3433, 0.0026999370933209615), (3434, 0.0030505470289973542), (3435, 0.007359952221337491), (3436, 0.0028858508381845553), (3437, 0.0030018058412612405), (3438, 0.004873175534223286), (3439, 0.0), (3440, 0.0), (3441, 0.002843863692206223), (3442, 0.0), (3443, 0.0), (3444, 0.005031745663898714), (3445, 0.002936600672094479), (3446, 0.004687990352990491), (3447, 0.014519542982376288), (3448, 0.0055374995322213325), (3449, 0.00309851600056486), (3450, 0.00863173081246023), (3451, 0.0), (3452, 0.00267380588166193), (3453, 0.0), (3454, 0.00893046516636187), (3455, 0.0026328460892521186), (3456, 0.017542636520926615), (3457, 0.04889311270176676), (3458, 0.016434623506641575), (3459, 0.004147825986364489), (3460, 0.0026367376259301308), (3461, 0.00486575241453057), (3462, 0.0), (3463, 0.004708844026354151), (3464, 0.06468765114363224), (3465, 0.004335805534617819), (3466, 0.0), (3467, 0.0), (3468, 0.0), (3469, 0.00511197690364114), (3470, 0.0), (3471, 0.002279892214998912), (3472, 0.0), (3473, 0.0), (3474, 0.00260552620735999), (3475, 0.0), (3476, 0.0), (3477, 0.0073697338849444335), (3478, 0.0028674216186278284), (3479, 0.0038293615819546593), (3480, 0.0), (3481, 0.0038417815234892756), (3482, 0.0), (3483, 0.010899323848470675), (3484, 0.003796194127279522), (3485, 0.0), (3486, 0.0), (3487, 0.0027569251070300852), (3488, 0.0), (3489, 0.0), (3490, 0.0), (3491, 0.00746136782830408), (3492, 0.007423044710385528), (3493, 0.0030012028461127217), (3494, 0.0), (3495, 0.0), (3496, 0.0030778957643381043), (3497, 0.0031329523241602794), (3498, 0.0027396964610323002), (3499, 0.0028169128001287263), (3500, 0.0026602719589810643), (3501, 0.0029147046639012436), (3502, 0.005525144010860543), (3503, 0.0027495686157475115), (3504, 0.014232215462921149), (3505, 0.0), (3506, 0.0033071172947025085), (3507, 0.004732053929591063), (3508, 0.014617625181710562), (3509, 0.0064434427968713395), (3510, 0.0), (3511, 0.003018346054994949), (3512, 0.004396931143389295), (3513, 0.0), (3514, 0.002993483955356086), (3515, 0.01800034686380386), (3516, 0.00808302514399534), (3517, 0.002968943450774253), (3518, 0.023871743294082842), (3519, 0.0), (3520, 0.0), (3521, 0.003532519450909967), (3522, 0.0), (3523, 0.00411050634936994), (3524, 0.01211163975377792), (3525, 0.0), (3526, 0.007606031510338111), (3527, 0.0029640272155797673), (3528, 0.0), (3529, 0.0), (3530, 0.0), (3531, 0.0), (3532, 0.0), (3533, 0.0), (3534, 0.0189570133604335), (3535, 0.0), (3536, 0.01541750534766334), (3537, 0.0035565912585899867), (3538, 0.005926181559515175), (3539, 0.0), (3540, 0.003344386887376913), (3541, 0.017825705301665676), (3542, 0.0029337932708709685), (3543, 0.0), (3544, 0.07223067302231578), (3545, 0.0), (3546, 0.005544983482504366), (3547, 0.0), (3548, 0.002358013414086477), (3549, 0.0047208818165224925), (3550, 0.0), (3551, 0.007501185608117887), (3552, 0.004663556456855427), (3553, 0.034216026054756946), (3554, 0.0), (3555, 0.0), (3556, 0.002563844535528618), (3557, 0.024177671153327078), (3558, 0.01636015930582991), (3559, 0.00622495737342495), (3560, 0.003221806126191046), (3561, 0.041918500411062015), (3562, 0.004396866929473869), (3563, 0.006773768234336274), (3564, 0.007461025091059352), (3565, 0.002837801470829558), (3566, 0.011264030366828496), (3567, 0.004373472330562756), (3568, 0.10184741718908427), (3569, 0.0024584471737441383), (3570, 0.0), (3571, 0.002932099738545222), (3572, 0.0), (3573, 0.0), (3574, 0.0), (3575, 0.0023165218558542583), (3576, 0.0), (3577, 0.009184956998479755), (3578, 0.005761610886291581), (3579, 0.012683281629611399), (3580, 0.0), (3581, 0.0), (3582, 0.05440182503556607), (3583, 0.0), (3584, 0.0), (3585, 0.0), (3586, 0.004912597034155447), (3587, 0.008372140065004557), (3588, 0.0), (3589, 0.0), (3590, 0.0030459113543181682), (3591, 0.0), (3592, 0.0), (3593, 0.003200897771250634), (3594, 0.011944139960455763), (3595, 0.0), (3596, 0.010187790846062915), (3597, 0.0), (3598, 0.010615178478237095), (3599, 0.015514551214829784), (3600, 0.0), (3601, 0.0030580523415024373), (3602, 0.0), (3603, 0.0), (3604, 0.0), (3605, 0.0), (3606, 0.002923622395627261), (3607, 0.0), (3608, 0.0018676896714047322), (3609, 0.0), (3610, 0.005391345867091679), (3611, 0.03078810128301238), (3612, 0.007435031667944525), (3613, 0.0035367661950917147), (3614, 0.0025954088067380856), (3615, 0.0027002162168402177), (3616, 0.03937249869568403), (3617, 0.0), (3618, 0.007878023335984885), (3619, 0.0), (3620, 0.003491630090741257), (3621, 0.003374110464616973), (3622, 0.0), (3623, 0.002957980027907457), (3624, 0.0028408441948578156), (3625, 0.0), (3626, 0.005702033396406014), (3627, 0.0026530887124335246), (3628, 0.0), (3629, 0.002462575055074804), (3630, 0.0), (3631, 0.0), (3632, 0.1566343438669037), (3633, 0.00817648402147591), (3634, 0.008703653499908412), (3635, 0.0038767683794785394), (3636, 0.0029549879062615966), (3637, 0.006499583558860888), (3638, 0.009266253451671758), (3639, 0.0032816714543574066), (3640, 0.003197831850657077), (3641, 0.10533285407926272), (3642, 0.0031093946592024757), (3643, 0.03259207414009834), (3644, 0.004484886120663279), (3645, 0.002161295438114919), (3646, 0.007027623442179456), (3647, 0.002821167579049522), (3648, 0.012407380185641016), (3649, 0.0), (3650, 0.00462531088035411), (3651, 0.008502130131646026), (3652, 0.0), (3653, 0.002922946556268503), (3654, 0.007816421707287777), (3655, 0.012931324659546412), (3656, 0.041232611152417484), (3657, 0.016954117993027384), (3658, 0.0038358137736087933), (3659, 0.0), (3660, 0.002765147815946316), (3661, 0.016946542550005567), (3662, 0.0), (3663, 0.0), (3664, 0.0), (3665, 0.03158627346347701), (3666, 0.0029772723471249364), (3667, 0.03500173516899688), (3668, 0.00629076078197227), (3669, 0.0024300009101907256), (3670, 0.0028919287946376935), (3671, 0.030160221137144283), (3672, 0.004074535020455899), (3673, 0.0028558020682753174), (3674, 0.051522295768728056), (3675, 0.0034180822477489284), (3676, 0.0), (3677, 0.013168856595184774), (3678, 0.007906669644642088), (3679, 0.0), (3680, 0.003242486207389928), (3681, 0.024187074133999658), (3682, 0.0), (3683, 0.0), (3684, 0.003961580988918934), (3685, 0.055400730889858384), (3686, 0.0), (3687, 0.0035814302304852646), (3688, 0.0), (3689, 0.015369284551899839), (3690, 0.009329948609708559), (3691, 0.0027284783426164178), (3692, 0.0030873620485991934), (3693, 0.0), (3694, 0.0031032021886585877), (3695, 0.0), (3696, 0.011569593409004288), (3697, 0.0), (3698, 0.010315284684791426), (3699, 0.0029287645968075647), (3700, 0.0), (3701, 0.0076193786035481815), (3702, 0.0), (3703, 0.0), (3704, 0.0030986810815765826), (3705, 0.03694178441677212), (3706, 0.0027983939155753874), (3707, 0.0029183767930284843), (3708, 0.0), (3709, 0.004449175282329596), (3710, 0.0), (3711, 0.008411525415893743), (3712, 0.004323968558993522), (3713, 0.009997892691384064), (3714, 0.003134179449511391), (3715, 0.0), (3716, 0.050754864294463985), (3717, 0.0), (3718, 0.0042328147820248), (3719, 0.002798757594608082), (3720, 0.00440512155179668), (3721, 0.0), (3722, 0.004693342929598279), (3723, 0.0), (3724, 0.004840158616727635), (3725, 0.0026699009448272106), (3726, 0.0), (3727, 0.026866281181464967), (3728, 0.011007927944601766), (3729, 0.03583633279526893), (3730, 0.004990015654986536), (3731, 0.010226411326777872), (3732, 0.0), (3733, 0.009804212227356775), (3734, 0.0027044714054777685), (3735, 0.0), (3736, 0.012860548755810516), (3737, 0.003201822726017987), (3738, 0.0), (3739, 0.007513898632538965), (3740, 0.0), (3741, 0.010604838264043832), (3742, 0.002619160653965335), (3743, 0.00944636997975075), (3744, 0.0), (3745, 0.023633363319292094), (3746, 0.004493588640650432), (3747, 0.007844015499332111), (3748, 0.01037531330065299), (3749, 0.00312643555823196), (3750, 0.0), (3751, 0.015964816155908453), (3752, 0.014065378256837988), (3753, 0.0), (3754, 0.06881600058074741), (3755, 0.0025342033016349064), (3756, 0.016433686235682362), (3757, 0.0030931181627342342), (3758, 0.0), (3759, 0.0), (3760, 0.0), (3761, 0.0), (3762, 0.0037356462494154406), (3763, 0.023677292212753387), (3764, 0.01701894270242832), (3765, 0.011653651982377333), (3766, 0.0034194828016125833), (3767, 0.11052835661561791), (3768, 0.0), (3769, 0.059045305170881565), (3770, 0.00299850812316382), (3771, 0.003105768718488695), (3772, 0.00326310939160798), (3773, 0.0), (3774, 0.0), (3775, 0.0), (3776, 0.003909454106110655), (3777, 0.00785260782278065), (3778, 0.02560998472367056), (3779, 0.003462499320023394), (3780, 0.007935519902657775), (3781, 0.0030723037105307247), (3782, 0.0), (3783, 0.0), (3784, 0.07618385081110945), (3785, 0.0), (3786, 0.004379864171957071), (3787, 0.02652608956272168), (3788, 0.0), (3789, 0.0), (3790, 0.0), (3791, 0.0), (3792, 0.0029160198926085294), (3793, 0.0), (3794, 0.0), (3795, 0.002564982962770354), (3796, 0.0), (3797, 0.011391459816414581), (3798, 0.0), (3799, 0.002718080731780333), (3800, 0.0), (3801, 0.015876689369368584), (3802, 0.026530759314591326), (3803, 0.003993846142893528), (3804, 0.003198631947971521), (3805, 0.0), (3806, 0.0), (3807, 0.002852380339589775), (3808, 0.0), (3809, 0.002937865214695563), (3810, 0.004651432206763481), (3811, 0.002703149247427438), (3812, 0.0), (3813, 0.0031286455178631332), (3814, 0.0), (3815, 0.0), (3816, 0.0), (3817, 0.005077893197334736), (3818, 0.004526870064013368), (3819, 0.007017387217663963), (3820, 0.03829098582051765), (3821, 0.026905466091104994), (3822, 0.01668396348748611), (3823, 0.008583846203986658), (3824, 0.037782595546006624), (3825, 0.014948285491975796), (3826, 0.014285000018725253), (3827, 0.00281143342950875), (3828, 0.0036264145916259627), (3829, 0.025578963735475514), (3830, 0.0), (3831, 0.03157553567886748), (3832, 0.003500513894314566), (3833, 0.0), (3834, 0.0), (3835, 0.0061998763352911525), (3836, 0.0), (3837, 0.0), (3838, 0.0), (3839, 0.00949499962250213), (3840, 0.0), (3841, 0.0407047255450603), (3842, 0.0), (3843, 0.0), (3844, 0.0), (3845, 0.002990853524027672), (3846, 0.0), (3847, 0.0), (3848, 0.0036378582025229913), (3849, 0.0), (3850, 0.0), (3851, 0.0), (3852, 0.0039774007504249295), (3853, 0.0), (3854, 0.006872898673144624), (3855, 0.006306306014375211), (3856, 0.0), (3857, 0.027384557347641288), (3858, 0.005234548881001197), (3859, 0.0), (3860, 0.0), (3861, 0.0), (3862, 0.002994714571596443), (3863, 0.002576654744454319), (3864, 0.00700855430358198), (3865, 0.026053922522600758), (3866, 0.008567024505191315), (3867, 0.003257396909365453), (3868, 0.007111344051312551), (3869, 0.0), (3870, 0.004772204354543906), (3871, 0.0), (3872, 0.0), (3873, 0.0030660757625979463), (3874, 0.0035063810994391035), (3875, 0.04185970373249298), (3876, 0.0026320990900140584), (3877, 0.008274947956439585), (3878, 0.003768668222654389), (3879, 0.0), (3880, 0.008981051091900488), (3881, 0.0), (3882, 0.021144474679469935), (3883, 0.04774093621764553), (3884, 0.003336185480940241), (3885, 0.022041575779649204), (3886, 0.0043838669128105755), (3887, 0.0), (3888, 0.0028371590762476706), (3889, 0.0031097567444344863), (3890, 0.011606577576529161), (3891, 0.004322806435898719), (3892, 0.0037275389658760483), (3893, 0.029272704241833484), (3894, 0.0065181913171344225), (3895, 0.0025101150666633374), (3896, 0.0), (3897, 0.004839788127029665), (3898, 0.0027210744152168977), (3899, 0.008710348914510096), (3900, 0.0027572827975292837), (3901, 0.003458103619908978), (3902, 0.002983472693489228), (3903, 0.02747682168835277), (3904, 0.0030670027122434483), (3905, 0.0), (3906, 0.002821180475179945), (3907, 0.00947186047331791), (3908, 0.0), (3909, 0.027257060889744823), (3910, 0.0025174067076901437), (3911, 0.0034263210287611644), (3912, 0.0), (3913, 0.0026471946534386013), (3914, 0.007991512009841549), (3915, 0.003114502342845335), (3916, 0.0), (3917, 0.007149393419340909), (3918, 0.0), (3919, 0.015532952510109305), (3920, 0.0076982870773659225), (3921, 0.01052000016215783), (3922, 0.0035397486639635605), (3923, 0.0), (3924, 0.16663390547236043), (3925, 0.004268070758582754), (3926, 0.01201078274305799), (3927, 0.012367811190393957), (3928, 0.006208205898940966), (3929, 0.027416323690240985), (3930, 0.004725815113532169), (3931, 0.0), (3932, 0.05737484844355973), (3933, 0.015352153434383328), (3934, 0.0), (3935, 0.0033788188918471252), (3936, 0.0), (3937, 0.0), (3938, 0.0), (3939, 0.0038190678343235254), (3940, 0.0061231313111253455), (3941, 0.018826935736188988), (3942, 0.0), (3943, 0.0), (3944, 0.049200772427151915), (3945, 0.008349619036831742), (3946, 0.005759359362000086), (3947, 0.0), (3948, 0.0), (3949, 0.0), (3950, 0.019145475131593717), (3951, 0.03743423717164192), (3952, 0.0032883062794043286), (3953, 0.0026089432059183282), (3954, 0.02597025903355558), (3955, 0.1258897212802589), (3956, 0.0025557204634312986), (3957, 0.012247455113977443), (3958, 0.0), (3959, 0.007697788112896767), (3960, 0.008425793957281033), (3961, 0.003164922618203073), (3962, 0.0032204004045410617), (3963, 0.004530605315780921), (3964, 0.0), (3965, 0.0), (3966, 0.004257279972193873), (3967, 0.0031698098490712053), (3968, 0.0), (3969, 0.04638208833145835), (3970, 0.008731724279763634), (3971, 0.0), (3972, 0.0), (3973, 0.010960129654095888), (3974, 0.0025808417159524223), (3975, 0.0), (3976, 0.0), (3977, 0.0), (3978, 0.0027349999571960274), (3979, 0.0), (3980, 0.0036619881349206134), (3981, 0.0), (3982, 0.0), (3983, 0.011131806900892036), (3984, 0.0030155833301310224), (3985, 0.0), (3986, 0.006687173467474706), (3987, 0.003053999092347109), (3988, 0.0), (3989, 0.0), (3990, 0.003957858255735856), (3991, 0.0), (3992, 0.003241260179952762), (3993, 0.0), (3994, 0.0044360039317994735), (3995, 0.0), (3996, 0.0), (3997, 0.0), (3998, 0.011552694346470509), (3999, 0.003530692867219395), (4000, 0.002844174398879429), (4001, 0.01658416065205853), (4002, 0.008631284827933901), (4003, 0.0), (4004, 0.0029079529375023797), (4005, 0.0030639199076807353), (4006, 0.004562086117317129), (4007, 0.017050980312350944), (4008, 0.007707551316322441), (4009, 0.0110799748623601), (4010, 0.0), (4011, 0.002692937195219972), (4012, 0.004308175776608573), (4013, 0.008091662135452492), (4014, 0.0029012492741611784), (4015, 0.01366184437913728), (4016, 0.0028595204767002825), (4017, 0.05539988471619065), (4018, 0.0), (4019, 0.0037171008646274466), (4020, 0.002813064230250171), (4021, 0.0), (4022, 0.0), (4023, 0.003386263167939295), (4024, 0.0030965164817016084), (4025, 0.020151026663766856), (4026, 0.0), (4027, 0.0), (4028, 0.0), (4029, 0.0), (4030, 0.003356207047342278), (4031, 0.038131985193943396), (4032, 0.027991173727350053), (4033, 0.0030250376743109703), (4034, 0.0), (4035, 0.006462092144136452), (4036, 0.002801722523438868), (4037, 0.0), (4038, 0.03793880050964862), (4039, 0.0), (4040, 0.0), (4041, 0.0), (4042, 0.0031670099457035993), (4043, 0.0), (4044, 0.0), (4045, 0.0), (4046, 0.003143462029774664), (4047, 0.0), (4048, 0.0031390694108491967), (4049, 0.0029101163446022186), (4050, 0.0), (4051, 0.003199027142439104), (4052, 0.01087968766403829), (4053, 0.002601871176813892), (4054, 0.0030404642014774954), (4055, 0.014933105022625986), (4056, 0.0028519205247632255), (4057, 0.025967533835815633), (4058, 0.0), (4059, 0.006950335822281234), (4060, 0.0028488268435512966), (4061, 0.06336277536782135), (4062, 0.017997232793204525), (4063, 0.0), (4064, 0.005063881816168636), (4065, 0.0), (4066, 0.0025181385825496856), (4067, 0.0), (4068, 0.007550562330689582), (4069, 0.002769615649490307), (4070, 0.009131230337345624), (4071, 0.0), (4072, 0.0), (4073, 0.0), (4074, 0.00668844904506464), (4075, 0.0033458065132555117), (4076, 0.004917669439216862), (4077, 0.01321298060510126), (4078, 0.0), (4079, 0.0029724883811502287), (4080, 0.002571004109765927), (4081, 0.0028832855304286474), (4082, 0.0040507269017419825), (4083, 0.002993614518152484), (4084, 0.0), (4085, 0.002729132511052904), (4086, 0.0), (4087, 0.0031170901483374316), (4088, 0.0), (4089, 0.02091873601314781), (4090, 0.0), (4091, 0.005015681646356585), (4092, 0.0032449432762622237), (4093, 0.0), (4094, 0.0), (4095, 0.002433452140930482), (4096, 0.020991023028120875), (4097, 0.0), (4098, 0.0029392275577060922), (4099, 0.029206937718234002), (4100, 0.0), (4101, 0.02192780764058837), (4102, 0.0036407420946056386), (4103, 0.0), (4104, 0.002541644514192067), (4105, 0.0), (4106, 0.03024229535390342), (4107, 0.0035406520680756073), (4108, 0.005107778302187073), (4109, 0.004130332776903027), (4110, 0.014693936488726068), (4111, 0.0030696230771816795), (4112, 0.004455647987596619), (4113, 0.022314757745206897), (4114, 0.0), (4115, 0.0), (4116, 0.0031261336759504134), (4117, 0.00327321608225247), (4118, 0.00984509735849483), (4119, 0.010147000189010748), (4120, 0.00508820444874274), (4121, 0.005191825979411119), (4122, 0.0), (4123, 0.0030276206965601385), (4124, 0.0070325054446029114), (4125, 0.0), (4126, 0.003336642000652202), (4127, 0.0), (4128, 0.0), (4129, 0.0027754566604187353), (4130, 0.0031340664347777425), (4131, 0.0), (4132, 0.0639369452391836), (4133, 0.003126597096233542), (4134, 0.010192070046824908), (4135, 0.007537607877998152), (4136, 0.007742363344017216), (4137, 0.024881638468312477), (4138, 0.0031783244970495445), (4139, 0.019400565140531456), (4140, 0.0031329856216285945), (4141, 0.0158000679239445), (4142, 0.003666000406418302), (4143, 0.006680742351157964), (4144, 0.0), (4145, 0.003368279972937556), (4146, 0.0), (4147, 0.0034914493548509748), (4148, 0.036852823567950194), (4149, 0.0), (4150, 0.0), (4151, 0.004926612577135357), (4152, 0.007090911187868344), (4153, 0.0), (4154, 0.0025910330099427614), (4155, 0.023554292468245284), (4156, 0.026045244889563213), (4157, 0.0044732438094258285), (4158, 0.010296266566563132), (4159, 0.0), (4160, 0.0032149135626961837), (4161, 0.0030847714887421037), (4162, 0.0), (4163, 0.0033244324100973927), (4164, 0.0), (4165, 0.0), (4166, 0.0), (4167, 0.0), (4168, 0.0), (4169, 0.0030544093252401604), (4170, 0.0), (4171, 0.005252624083291279), (4172, 0.003790768807772913), (4173, 0.0), (4174, 0.006840728671554942), (4175, 0.0030532653418254285), (4176, 0.006833998520150185), (4177, 0.0), (4178, 0.00301084191207757), (4179, 0.0), (4180, 0.0), (4181, 0.0), (4182, 0.00781000287260636), (4183, 0.0027811147345528915), (4184, 0.0), (4185, 0.0), (4186, 0.015765978777526234), (4187, 0.0032535482220866605), (4188, 0.0), (4189, 0.015199023246405832), (4190, 0.0), (4191, 0.0), (4192, 0.011617357176595797), (4193, 0.0), (4194, 0.005590994141012979), (4195, 0.0), (4196, 0.008086644148750474), (4197, 0.0029231714447724346), (4198, 0.0), (4199, 0.0), (4200, 0.002370746919378977), (4201, 0.016351188948495222), (4202, 0.004009464961895379), (4203, 0.01722367232280827), (4204, 0.0), (4205, 0.02142650815176633), (4206, 0.0027237129924553368), (4207, 0.0), (4208, 0.0), (4209, 0.003513675449337081), (4210, 0.036739090763271816), (4211, 0.0), (4212, 0.03308750861523753), (4213, 0.0027266005302981596), (4214, 0.0), (4215, 0.0), (4216, 0.0), (4217, 0.011582024830462685), (4218, 0.00446508534282949), (4219, 0.0), (4220, 0.0025295644181656226), (4221, 0.003833731538993996), (4222, 0.03634075739839766), (4223, 0.02639977570883549), (4224, 0.0), (4225, 0.0030100087596883858), (4226, 0.013109593826763652), (4227, 0.0), (4228, 0.0028328520352359603), (4229, 0.0), (4230, 0.003674037468540205), (4231, 0.0030587665087348542), (4232, 0.0024928169032151165), (4233, 0.0), (4234, 0.0), (4235, 0.0), (4236, 0.006868400373056499), (4237, 0.0), (4238, 0.0), (4239, 0.0), (4240, 0.0049831700641771726), (4241, 0.02847726449745075), (4242, 0.009233208407332431), (4243, 0.003264327319289555), (4244, 0.003284967119730296), (4245, 0.06381952540490322), (4246, 0.0027149554195775084), (4247, 0.0025202387455406827), (4248, 0.0), (4249, 0.002958574069234479), (4250, 0.0), (4251, 0.0), (4252, 0.004391917899390181), (4253, 0.0), (4254, 0.00269236881623118), (4255, 0.010435411367838569), (4256, 0.0), (4257, 0.04975456124054412), (4258, 0.0), (4259, 0.003185036552661208), (4260, 0.0), (4261, 0.0), (4262, 0.007716053376774671), (4263, 0.0031581985082896847), (4264, 0.0), (4265, 0.009661916225435852), (4266, 0.0028934201284372724), (4267, 0.013775760366577076), (4268, 0.002855834267198232), (4269, 0.007972020847788773), (4270, 0.0), (4271, 0.005648357015718369), (4272, 0.10779420392306527), (4273, 0.0029342669053003733), (4274, 0.0), (4275, 0.0), (4276, 0.0), (4277, 0.002626423831907672), (4278, 0.0), (4279, 0.004365201079645108), (4280, 0.003398276230131265), (4281, 0.005275823439147318), (4282, 0.015245209744885512), (4283, 0.02513226465139328), (4284, 0.007292361715096991), (4285, 0.03292310055422449), (4286, 0.003031634736800319), (4287, 0.020756047869800585), (4288, 0.005834589426815541), (4289, 0.0), (4290, 0.008239896760532993), (4291, 0.0), (4292, 0.004300836917314609), (4293, 0.0031996853184635657), (4294, 0.0), (4295, 0.003273828775091541), (4296, 0.0024976404279411024), (4297, 0.008366071703152239), (4298, 0.0035177858788960027), (4299, 0.002799202586636551), (4300, 0.0), (4301, 0.002127397470676704), (4302, 0.0), (4303, 0.007131642391336339), (4304, 0.0025735279523769086), (4305, 0.0), (4306, 0.07336199292271388), (4307, 0.0), (4308, 0.003144526747776938), (4309, 0.0027986819558229632), (4310, 0.0), (4311, 0.0023296198653724757), (4312, 0.009808656427993846), (4313, 0.0), (4314, 0.0), (4315, 0.0), (4316, 0.06533366778798622), (4317, 0.0), (4318, 0.003029963520626104), (4319, 0.0), (4320, 0.07642808340582534), (4321, 0.002729904789150125), (4322, 0.0), (4323, 0.0), (4324, 0.0), (4325, 0.0), (4326, 0.002628906712417992), (4327, 0.0), (4328, 0.162707725283066), (4329, 0.0), (4330, 0.007436334622001613), (4331, 0.0), (4332, 0.009904680315869947), (4333, 0.0032265559754443294), (4334, 0.0029636243883031945), (4335, 0.0), (4336, 0.009943267362417504), (4337, 0.008246259237515116), (4338, 0.004985858974179), (4339, 0.0041697641503824715), (4340, 0.020778758556302273), (4341, 0.0), (4342, 0.049248360690243735), (4343, 0.0025362756766350546), (4344, 0.016603673446636186), (4345, 0.002719870452151259), (4346, 0.0), (4347, 0.0), (4348, 0.006834811032788799), (4349, 0.0028195618647090985), (4350, 0.002584525297351891), (4351, 0.012859662042773782), (4352, 0.0), (4353, 0.0039641782931534985), (4354, 0.021016863149709446), (4355, 0.0030547629624486042), (4356, 0.028758128242487704), (4357, 0.0030565497761106857), (4358, 0.0), (4359, 0.002617864133888402), (4360, 0.0), (4361, 0.0029832477342752735), (4362, 0.0028076408365848324), (4363, 0.007784136446562625), (4364, 0.01723949766339424), (4365, 0.0), (4366, 0.0), (4367, 0.04398020073587434), (4368, 0.008364554813886298), (4369, 0.003298900863872308), (4370, 0.025877285488934972), (4371, 0.011038970141895513), (4372, 0.0), (4373, 0.009027072558064505), (4374, 0.011387981494616993), (4375, 0.0), (4376, 0.029521236114009076), (4377, 0.0), (4378, 0.0), (4379, 0.007700455792280403), (4380, 0.0), (4381, 0.1627801167566168), (4382, 0.019426858001464483), (4383, 0.0), (4384, 0.0), (4385, 0.006464069936745501), (4386, 0.0024730216127114837), (4387, 0.007246936825727086), (4388, 0.012331611039087254), (4389, 0.0), (4390, 0.0), (4391, 0.0028978034146682694), (4392, 0.0), (4393, 0.0), (4394, 0.0073750574851951505), (4395, 0.007230365002018733), (4396, 0.003208086404846227), (4397, 0.003191223082133076), (4398, 0.0033133637571995684), (4399, 0.011337997138148957), (4400, 0.0036553094280869633), (4401, 0.0032036731431349568), (4402, 0.00687231451034432), (4403, 0.0036547397549246546), (4404, 0.05539531443952341), (4405, 0.0), (4406, 0.004828351229377677), (4407, 0.0037506523158098255), (4408, 0.0), (4409, 0.0028504522440659106), (4410, 0.0), (4411, 0.0024565190566684133), (4412, 0.0033589371288634835), (4413, 0.0), (4414, 0.0034595401614614476), (4415, 0.0), (4416, 0.0033752280085865105), (4417, 0.0), (4418, 0.00376594081060814), (4419, 0.002989283468673898), (4420, 0.04304787264597622), (4421, 0.0), (4422, 0.0029631794809351565), (4423, 0.003718248305034638), (4424, 0.0), (4425, 0.0), (4426, 0.0), (4427, 0.002864196669040123), (4428, 0.007057248542225566), (4429, 0.0024896591963253912), (4430, 0.0030021606510116546), (4431, 0.031249135190992768), (4432, 0.002509771748404958), (4433, 0.0), (4434, 0.0), (4435, 0.0028810944787992353), (4436, 0.01293063589116367), (4437, 0.0), (4438, 0.004376342765265195), (4439, 0.0), (4440, 0.009497761930066077), (4441, 0.0043362283326026105), (4442, 0.007208918976610318), (4443, 0.00351264660202497), (4444, 0.009735759746482369), (4445, 0.002152595881982346), (4446, 0.0031455079661323404), (4447, 0.0), (4448, 0.007761699479993176), (4449, 0.00535605519993306), (4450, 0.004046463986143701), (4451, 0.0), (4452, 0.0), (4453, 0.0), (4454, 0.005266299340301519), (4455, 0.0), (4456, 0.0), (4457, 0.0), (4458, 0.003419837557533722), (4459, 0.03249709585044524), (4460, 0.00517430515057098), (4461, 0.0027604267042574274), (4462, 0.005158535167751958), (4463, 0.0), (4464, 0.0), (4465, 0.02302527939617348), (4466, 0.0), (4467, 0.051594853779513616), (4468, 0.0), (4469, 0.003582650903765594), (4470, 0.0029562748704796984), (4471, 0.0030407027340833876), (4472, 0.00718434363906937), (4473, 0.006472952104976413), (4474, 0.003019157047055127), (4475, 0.0025785186020555466), (4476, 0.0024536520513570056), (4477, 0.008682923247617193), (4478, 0.02590437199513805), (4479, 0.0026409269596315544), (4480, 0.034115229233941106), (4481, 0.004361397673401438), (4482, 0.004527438132282445), (4483, 0.0), (4484, 0.0038230758665646607), (4485, 0.024525945964629287), (4486, 0.012429388047657298), (4487, 0.0028250101474370033), (4488, 0.0), (4489, 0.0030411613505066724), (4490, 0.0034005354697243433), (4491, 0.0), (4492, 0.03093162535690685), (4493, 0.0), (4494, 0.0032393412797372197), (4495, 0.0030713222565096694), (4496, 0.0), (4497, 0.0030020469976928506), (4498, 0.0), (4499, 0.0), (4500, 0.0), (4501, 0.02029770570974621), (4502, 0.0026188904699203717), (4503, 0.007495578821492222), (4504, 0.0342504788295915), (4505, 0.003035150600212013), (4506, 0.0), (4507, 0.02307625635352354), (4508, 0.0), (4509, 0.0), (4510, 0.01828064406543528), (4511, 0.03190918352538652), (4512, 0.0), (4513, 0.0), (4514, 0.0), (4515, 0.005079530719829876), (4516, 0.003288064903428853), (4517, 0.002884759438054288), (4518, 0.02090788618847378), (4519, 0.0), (4520, 0.002838556379878147), (4521, 0.003579065939556625), (4522, 0.003124836793851585), (4523, 0.007109688838899931), (4524, 0.014309863191021677), (4525, 0.0), (4526, 0.0), (4527, 0.0), (4528, 0.0031140147605387917), (4529, 0.0038446177273005772), (4530, 0.0028043118885517477), (4531, 0.00823662277359106), (4532, 0.0), (4533, 0.020561582651371656), (4534, 0.0), (4535, 0.0032094108395866587), (4536, 0.056749895424342264), (4537, 0.0), (4538, 0.0), (4539, 0.0), (4540, 0.0030810359933428184), (4541, 0.007455901067649458), (4542, 0.0), (4543, 0.0), (4544, 0.0035770521903431694), (4545, 0.003102990957464879), (4546, 0.0037064322264066655), (4547, 0.0), (4548, 0.004279039820589386), (4549, 0.005063861465325202), (4550, 0.02390185588585919), (4551, 0.013276958944058677), (4552, 0.0), (4553, 0.0), (4554, 0.012236649095122856), (4555, 0.004321610206936251), (4556, 0.025272280712355436), (4557, 0.0), (4558, 0.0), (4559, 0.0), (4560, 0.0), (4561, 0.0), (4562, 0.0), (4563, 0.02060140720275109), (4564, 0.05820531105818263), (4565, 0.0), (4566, 0.0030227296784492014), (4567, 0.0027405042291769725), (4568, 0.008533300377040625), (4569, 0.0), (4570, 0.0), (4571, 0.004556387801818232), (4572, 0.0035191583596362523), (4573, 0.0027797179522215045), (4574, 0.029013173072671157), (4575, 0.0030339239343320536), (4576, 0.018865871853258203), (4577, 0.0), (4578, 0.0), (4579, 0.0030907152590179702), (4580, 0.02703757885164522), (4581, 0.0), (4582, 0.0), (4583, 0.0), (4584, 0.003371063599940971), (4585, 0.0), (4586, 0.0), (4587, 0.0), (4588, 0.0), (4589, 0.05368561263801024), (4590, 0.00665509710962596), (4591, 0.01868530674126519), (4592, 0.0045506396051788415), (4593, 0.003188475436707159), (4594, 0.008754134024510632), (4595, 0.0), (4596, 0.02113795217743224), (4597, 0.0), (4598, 0.002249570762950918), (4599, 0.0), (4600, 0.004177412563738557), (4601, 0.003138513284905168), (4602, 0.022042624245909886), (4603, 0.009602380101953141), (4604, 0.0074723348757961385), (4605, 0.03056572551925689), (4606, 0.0036301400215247785), (4607, 0.004163808217227646), (4608, 0.0025445562806575583), (4609, 0.0), (4610, 0.008639548321218216), (4611, 0.00382202006010669), (4612, 0.00925237444851813), (4613, 0.004832321976702461), (4614, 0.04742580793362945), (4615, 0.0), (4616, 0.002648787665123833), (4617, 0.003921721993603454), (4618, 0.0), (4619, 0.0031637180550868646), (4620, 0.002619915331582196), (4621, 0.004770045919276521), (4622, 0.0), (4623, 0.039443202679265224), (4624, 0.03064065132504694), (4625, 0.0029772747825817856), (4626, 0.002318281417085674), (4627, 0.002460429074648736), (4628, 0.0), (4629, 0.07574848796825444), (4630, 0.0), (4631, 0.0), (4632, 0.0033805211485576523), (4633, 0.023610823829789858), (4634, 0.0069350538739380175), (4635, 0.006492816142551268), (4636, 0.0024180888690412314), (4637, 0.003402475563454937), (4638, 0.018326634908553324), (4639, 0.0), (4640, 0.002872717910263223), (4641, 0.0028011197258320437), (4642, 0.04479463264922393), (4643, 0.0029495138449145454), (4644, 0.0), (4645, 0.0), (4646, 0.005820088536270964), (4647, 0.019701943101630745), (4648, 0.0), (4649, 0.029462901796563787), (4650, 0.003304518672825108), (4651, 0.0), (4652, 0.014846565569896674), (4653, 0.0), (4654, 0.0), (4655, 0.0), (4656, 0.0), (4657, 0.003083912063050587), (4658, 0.03523163261183541), (4659, 0.004925930071881545), (4660, 0.009164795923096733), (4661, 0.0025417192745710577), (4662, 0.0), (4663, 0.0), (4664, 0.0), (4665, 0.0), (4666, 0.0), (4667, 0.0), (4668, 0.002825366533654546), (4669, 0.021881304379633038), (4670, 0.0027467047121737436), (4671, 0.0), (4672, 0.0), (4673, 0.0027772253344035148), (4674, 0.009635588923551017), (4675, 0.0), (4676, 0.0), (4677, 0.002898184310432298), (4678, 0.0), (4679, 0.22433334914697253), (4680, 0.0030658243911455304), (4681, 0.0), (4682, 0.01606509819844496), (4683, 0.0), (4684, 0.0), (4685, 1.0000000000000002), (4686, 0.007477500937035844), (4687, 0.007267173296544652), (4688, 0.0), (4689, 0.004165275959000501), (4690, 0.0), (4691, 0.0), (4692, 0.003579314297609498), (4693, 0.0027853252750686015), (4694, 0.0033691296178008567), (4695, 0.030788898558270605), (4696, 0.003756549034026968), (4697, 0.0), (4698, 0.0), (4699, 0.0032352526580946245), (4700, 0.0), (4701, 0.003417486930294467), (4702, 0.0), (4703, 0.0), (4704, 0.003917240295352318), (4705, 0.004099660001628153), (4706, 0.0031856681262122065), (4707, 0.0), (4708, 0.0), (4709, 0.0), (4710, 0.003624479369114554), (4711, 0.0), (4712, 0.0025830777246802317), (4713, 0.003319361585088492), (4714, 0.02773951142495484), (4715, 0.1683410487843939), (4716, 0.0), (4717, 0.0033857956759841728), (4718, 0.0032158979701772837), (4719, 0.038910947478382904), (4720, 0.0), (4721, 0.03015580322296964), (4722, 0.0031085813451616658), (4723, 0.003505894745999697), (4724, 0.00353468000667469), (4725, 0.0), (4726, 0.00605716535525734), (4727, 0.01850218606931828), (4728, 0.0), (4729, 0.002754303671133643), (4730, 0.0), (4731, 0.003246517977353572), (4732, 0.008106339922639535), (4733, 0.016763305463378023), (4734, 0.003098791142077856), (4735, 0.003393103123412255), (4736, 0.0), (4737, 0.0), (4738, 0.007423368712099792), (4739, 0.020991933962072093), (4740, 0.0), (4741, 0.0), (4742, 0.031146060094260436), (4743, 0.002797794447304016), (4744, 0.0023244820410933953), (4745, 0.0), (4746, 0.0), (4747, 0.0), (4748, 0.012868831510595199), (4749, 0.003848173005014061), (4750, 0.04504009409421597), (4751, 0.0), (4752, 0.005323727506594889), (4753, 0.003269646857194704), (4754, 0.023857993544089313), (4755, 0.0045924687037021015), (4756, 0.0029762691629680754), (4757, 0.003011204817598613), (4758, 0.0), (4759, 0.0)]\n"
          ]
        }
      ]
    },
    {
      "cell_type": "code",
      "source": [
        "len(Recommendation_Score)"
      ],
      "metadata": {
        "colab": {
          "base_uri": "https://localhost:8080/"
        },
        "id": "s0nUwuoGukJQ",
        "outputId": "e2fd662f-95d6-4b50-c833-39b4eebf9705"
      },
      "execution_count": null,
      "outputs": [
        {
          "output_type": "execute_result",
          "data": {
            "text/plain": [
              "4760"
            ]
          },
          "metadata": {},
          "execution_count": 64
        }
      ]
    },
    {
      "cell_type": "markdown",
      "source": [
        "**Get all movies sort based on recommendation**"
      ],
      "metadata": {
        "id": "ik2JTFuMuoNb"
      }
    },
    {
      "cell_type": "code",
      "source": [
        "#sort based on similarity score\n",
        "Sorted_Similar_Movies = sorted(Recommendation_Score,key = lambda x:x[1], reverse = True)"
      ],
      "metadata": {
        "id": "32jJt5H1uzBX"
      },
      "execution_count": null,
      "outputs": []
    },
    {
      "cell_type": "code",
      "source": [
        "print(Sorted_Similar_Movies)"
      ],
      "metadata": {
        "colab": {
          "base_uri": "https://localhost:8080/"
        },
        "id": "lnXtPQr4zvqb",
        "outputId": "60090c44-4db6-4719-f697-9c258c5c1da7"
      },
      "execution_count": null,
      "outputs": [
        {
          "output_type": "stream",
          "name": "stdout",
          "text": [
            "[(2692, 1.0000000000000002), (3276, 0.11904275527845871), (3779, 0.10185805797079382), (62, 0.10153560702418994), (2903, 0.10063787314386034), (1647, 0.09397055536069451), (4614, 0.09362226751043302), (4375, 0.09117512301489193), (45, 0.08999324643162435), (1383, 0.08425242441722802), (110, 0.08361784775029485), (628, 0.08334515876919323), (1994, 0.08287835345252216), (2558, 0.08267633224298852), (1070, 0.08104448918225104), (4378, 0.07894345402700793), (1341, 0.07732693809361939), (1977, 0.07510309168081497), (3465, 0.07411089841255805), (3053, 0.0732438108456325), (4116, 0.07264153003988619), (1982, 0.07246569778553744), (2538, 0.06802035746289192), (3248, 0.06683400770968473), (3946, 0.06577120166835922), (3480, 0.06560363079666712), (254, 0.06351452702158421), (590, 0.06275727122098754), (3450, 0.06274272831079739), (1886, 0.06267985852941994), (4594, 0.0624699521049894), (2112, 0.06218435141221765), (84, 0.0618237599684129), (675, 0.06176991517572303), (3854, 0.06161566270378365), (1134, 0.06151448371353247), (3463, 0.060706045656025415), (4252, 0.06059815508412411), (4137, 0.06047703709769184), (1118, 0.05998954734066491), (4389, 0.059627372790876695), (3385, 0.05898328865604495), (4062, 0.05895899420588936), (282, 0.05879285017883316), (4398, 0.05848106495843603), (424, 0.05839654732699123), (2358, 0.05826769637272555), (3462, 0.057434079728437545), (2985, 0.05717355295839895), (2318, 0.05698746413620388), (1021, 0.05671999964768967), (3728, 0.0563257370437377), (3334, 0.0558349254710491), (1243, 0.05520158300072489), (1970, 0.05299390678023471), (2026, 0.05264268750759823), (4123, 0.05255262820554276), (137, 0.052487743978234754), (3360, 0.05160066999995516), (877, 0.0512230973907653), (292, 0.05110461872364794), (761, 0.050844325355354554), (873, 0.05064812913191185), (1030, 0.050582789674035046), (2191, 0.050557727650637894), (2944, 0.050454430002777675), (3655, 0.0503792210482988), (1148, 0.05022542698748972), (4503, 0.05019632180888005), (1102, 0.05016977076463526), (479, 0.04998855981862962), (3203, 0.0498349227897459), (1809, 0.049588147032597375), (213, 0.049335863613711506), (227, 0.049272711641777656), (519, 0.04913582561387614), (4268, 0.04898548881218139), (2630, 0.04898534827274639), (2417, 0.048975289561833585), (2133, 0.04895833694100604), (384, 0.048561612573761986), (2214, 0.04836649295986437), (2550, 0.04836540834452215), (2579, 0.048167961252127585), (3395, 0.048164788157745886), (1878, 0.048053795166414184), (2294, 0.04801663260090347), (3010, 0.0475919192650606), (4682, 0.047558303125179786), (2374, 0.047351480752962534), (4724, 0.0470198964390734), (2653, 0.04697351928240422), (3374, 0.04659258370787397), (3294, 0.04624323347380142), (1023, 0.04614573925419343), (3974, 0.04564920918028945), (67, 0.04506617878405939), (412, 0.04506044778254056), (904, 0.045049265599229504), (3091, 0.04501840790205196), (2151, 0.04489615902161054), (4456, 0.04486868834608456), (2530, 0.04481510146028207), (4104, 0.044651126235844864), (1257, 0.04460086738980612), (1261, 0.044570869220417475), (1302, 0.044531189691413835), (3023, 0.04447257244459566), (3793, 0.044287917473408704), (3753, 0.04423112263249478), (637, 0.044214370060605246), (2971, 0.044168735616715235), (3408, 0.044040544320449265), (328, 0.043787258882396256), (2694, 0.04368554902472678), (1292, 0.04367380160992527), (615, 0.043627287472934005), (1821, 0.04361028830378264), (161, 0.04350231968158566), (1203, 0.043288373397248), (2745, 0.04326153862816202), (3518, 0.04319570152119698), (2893, 0.043187343639666156), (1248, 0.04316322790320628), (438, 0.04307224044369871), (277, 0.04305955678902839), (682, 0.043040904339148985), (3552, 0.04302665477519422), (2012, 0.04293853193777039), (4689, 0.04291454282972678), (673, 0.04277602512082654), (408, 0.04269519176334115), (1506, 0.042282530621225375), (455, 0.04213396440391408), (3559, 0.04212369037310277), (3973, 0.04191108684498302), (1358, 0.0418305667382064), (1393, 0.041789154386127465), (172, 0.041690425384126525), (4023, 0.04164010241839035), (3427, 0.041535867684028956), (1850, 0.04146507077720888), (2248, 0.04144905622988321), (360, 0.04140490881144238), (1871, 0.04119734499545335), (1713, 0.041056464531435785), (3249, 0.04101786522213684), (2321, 0.04096332211047457), (2869, 0.040554179176207086), (3209, 0.0404720498947614), (1675, 0.040396587516422805), (2846, 0.04034937166874806), (1369, 0.04027355663153479), (89, 0.04014807769109404), (4588, 0.040074741901526274), (3867, 0.04005546355863066), (2155, 0.04005254584556308), (4488, 0.039874200750535285), (2295, 0.03982190635490875), (185, 0.03981648215324947), (1320, 0.0397552488399696), (44, 0.03961780430399104), (3955, 0.0394911087324386), (1527, 0.03945167296049171), (3373, 0.038926472514427574), (2859, 0.03892062672772363), (210, 0.038872494075225), (1652, 0.03875069306724735), (3947, 0.0387498132259521), (108, 0.03871190052571693), (632, 0.03852152259053765), (109, 0.038488255428289986), (3409, 0.0380955187008168), (126, 0.03803411394029396), (2308, 0.03786870914432212), (4403, 0.037695251803000804), (2187, 0.03763919382653321), (2622, 0.03748821698202329), (3486, 0.03732961088277607), (2540, 0.037262447116274064), (3511, 0.037115909966507155), (1024, 0.037086309751285476), (3652, 0.037051038799886256), (4452, 0.037013130597535505), (788, 0.036775782506030336), (1676, 0.03676900030404152), (4396, 0.036691969771720574), (4362, 0.03662915792058017), (3127, 0.036590721490267514), (3362, 0.03655333120186724), (774, 0.03653446982082753), (3280, 0.03633050021075282), (4064, 0.03630173900756346), (1085, 0.036238762035520095), (3498, 0.036163887622597285), (2212, 0.036114079291876294), (2316, 0.03605001327712352), (4005, 0.03604246095974137), (2716, 0.03603309472599682), (2375, 0.036029161296792664), (911, 0.03585824955577745), (710, 0.03578166731017038), (2018, 0.03563383095352764), (4443, 0.035517277554201775), (4721, 0.03551125010985394), (874, 0.03549031987804057), (2371, 0.03544860769227722), (1991, 0.035376604288887115), (4165, 0.03529172143254559), (1241, 0.035270697376675486), (694, 0.035178367818131856), (3470, 0.03501442704271948), (3045, 0.03500487119962276), (1272, 0.034794423140693004), (2908, 0.03473069779062641), (2868, 0.03471057850484338), (3102, 0.03452469488743669), (830, 0.03447452468561071), (540, 0.03445972856479224), (1389, 0.03445912028134007), (4641, 0.03444472756108918), (2981, 0.03442583219886153), (818, 0.03439755809850987), (2109, 0.03435264766714195), (3731, 0.03430420032682721), (3351, 0.03422817266939724), (1568, 0.03407235441443471), (1379, 0.03405703604165394), (1702, 0.03401178055455821), (1311, 0.03394663995212679), (2123, 0.03394554340436231), (3255, 0.033861184392018406), (3556, 0.03384264898810406), (4209, 0.03371052248760336), (3315, 0.03368318725728786), (4152, 0.03364084318782468), (3330, 0.033615999671213884), (3983, 0.0334519178853037), (4703, 0.03343412394967265), (721, 0.03336245332783653), (1236, 0.03334196963686731), (1752, 0.03333938657742233), (578, 0.03327816265992636), (2122, 0.03310797958980469), (334, 0.033097160057045466), (3430, 0.03306988583370248), (1367, 0.03305734622286169), (4739, 0.032994541915988086), (3656, 0.03288836579668991), (4663, 0.03279450213536398), (3137, 0.03279268523839364), (1770, 0.03278254752073779), (4195, 0.03270387798303688), (3961, 0.03264324220881137), (3004, 0.032584681512207773), (387, 0.032522091160063736), (2365, 0.03251802786423902), (2476, 0.03244347050543419), (1464, 0.03242600299745582), (1837, 0.03240258300693197), (1063, 0.0323986861553641), (166, 0.03236744328857419), (462, 0.03225758483924034), (138, 0.032196594696629596), (2147, 0.032118367696370734), (3466, 0.032114814160377606), (935, 0.0320740971372626), (547, 0.03205811100816747), (4602, 0.03194663943884777), (1146, 0.03193270995829649), (2751, 0.03186976241331189), (864, 0.031860195855372704), (4533, 0.03179699053985203), (4096, 0.03176234276628577), (823, 0.03170971693957012), (65, 0.031680929113056686), (3377, 0.0316397347518423), (1195, 0.03160288863475456), (2517, 0.031513234738017475), (2100, 0.031466640098441356), (2621, 0.031445444080265395), (2082, 0.03137256966163152), (812, 0.03134464238097974), (3376, 0.031092236059193583), (1068, 0.031080086209754408), (4727, 0.031066252344282376), (1885, 0.0309975246079396), (1499, 0.030795662279307377), (3157, 0.030753179174541134), (179, 0.030707903325990372), (1868, 0.030647250708224397), (174, 0.030569480499441422), (3850, 0.030492114933685623), (1173, 0.030413463227986912), (1750, 0.030273505619146518), (3328, 0.03025804121512122), (787, 0.030234382676036564), (4590, 0.030204049246894422), (1043, 0.03019341492590413), (3597, 0.03019147046334423), (2023, 0.030168509278277092), (2807, 0.030117994968785384), (3720, 0.030103653738207493), (2014, 0.030095920732595108), (4004, 0.029992838221305277), (2413, 0.029928886003016544), (4272, 0.02992436166111102), (2710, 0.02988730591823796), (2037, 0.0298193260783485), (2443, 0.029803434615890047), (618, 0.029763727969072954), (530, 0.02974102103303271), (3880, 0.02973200671246554), (250, 0.029605156266211453), (3146, 0.02959142995417388), (1795, 0.029589075994988966), (1648, 0.029561843201275848), (1976, 0.029555193895324648), (2114, 0.029513454653019616), (2887, 0.029503613070800693), (2782, 0.029448976097656177), (3572, 0.029429181493142356), (2706, 0.029422744288845587), (3420, 0.02931512179853009), (4175, 0.029293305955632627), (2614, 0.029225820521244943), (193, 0.029212491040047014), (1973, 0.02915657413264359), (3326, 0.02913698815940024), (3814, 0.029102136897891283), (1788, 0.029045998553708444), (952, 0.029031084004495476), (629, 0.0290204466032395), (4035, 0.028844313228595903), (3313, 0.028787092659189734), (1046, 0.028771864585929827), (1405, 0.028769066044756323), (4402, 0.02872814853482014), (1363, 0.028717455504198453), (4538, 0.028714680514426775), (4668, 0.028690496767730313), (766, 0.02863597006015581), (1482, 0.028603312957890946), (976, 0.028498609827027066), (2481, 0.02847926123774087), (430, 0.028474447896110415), (112, 0.028472602360715568), (2198, 0.028466562898500053), (2102, 0.028465544090018308), (241, 0.02846230566947309), (2221, 0.028430482696010374), (3767, 0.02842946435184831), (1990, 0.0284201409286951), (2723, 0.02837260039695167), (693, 0.028339830117329528), (4645, 0.02833924807672003), (465, 0.02832340194230098), (371, 0.028251554740421535), (1398, 0.028222452550706812), (4177, 0.02821768382122208), (3701, 0.02820311888611831), (2487, 0.0281679357752627), (836, 0.028164079074357654), (1560, 0.028142719658602232), (428, 0.027941476362352217), (2876, 0.02775849524463103), (3871, 0.02774365781683594), (670, 0.027728288572825423), (2791, 0.027708494673946583), (2343, 0.02760157045044117), (4684, 0.027592473887778385), (3488, 0.02758212253280522), (1137, 0.027530878040813937), (421, 0.02749177219642947), (3174, 0.02743679517966769), (3344, 0.02738273881182292), (4160, 0.027334340235441686), (3574, 0.027301137102037586), (1500, 0.02729943310930179), (903, 0.0272937967913948), (3605, 0.02727626839240265), (1845, 0.02726613451399632), (1634, 0.027265975858920755), (1095, 0.027246132772978986), (284, 0.027210766517313724), (176, 0.027183803724459624), (3852, 0.02718070172661722), (3751, 0.02714324643460423), (1162, 0.027084968030862168), (3447, 0.026998497642944902), (593, 0.0269834518549629), (2802, 0.02690014016428078), (3959, 0.02683911116641474), (4701, 0.026815904466972303), (4450, 0.026782449810039397), (4548, 0.026746394406841196), (522, 0.026704190546478417), (2920, 0.02664140279351682), (2912, 0.026637958351887214), (2154, 0.026634248456284985), (1314, 0.026598285558358734), (4141, 0.026591237443928675), (3028, 0.026584450169584505), (167, 0.026576509643169363), (1205, 0.026572826699719294), (1430, 0.02653057804103264), (3688, 0.026503326352086173), (1720, 0.026475090126577592), (4242, 0.026461169972595094), (1847, 0.026430755901808753), (240, 0.02640964525511218), (852, 0.026315624754250793), (2013, 0.02631318545102932), (3684, 0.02622063222790281), (1059, 0.026187328256908955), (4283, 0.026170776624460865), (832, 0.02610503660845372), (381, 0.02609320340969504), (3904, 0.026076749500281174), (3167, 0.026076234240691325), (3154, 0.02606963846967903), (459, 0.026041390263338297), (2687, 0.026027725036469426), (2276, 0.02602103823289531), (2762, 0.025980223803704138), (3260, 0.025956117613509078), (3017, 0.025952831108870544), (2972, 0.025931096430882088), (2394, 0.02568905521652685), (25, 0.025600660315408176), (4294, 0.02557831459377292), (3573, 0.02554701781763867), (1721, 0.025534461225381583), (1060, 0.025524774616417), (2467, 0.02552401265792079), (4354, 0.025503853369116335), (3156, 0.025482070893600085), (4731, 0.025474366897877264), (2011, 0.025123628978433857), (2094, 0.02510748187337649), (2048, 0.025093016553148453), (2761, 0.025056785877878327), (3285, 0.024986270155456007), (124, 0.024984856011144883), (1763, 0.024934636005999537), (3711, 0.02491200660691427), (1181, 0.02490892907408937), (1351, 0.024875575685802023), (967, 0.02484089246980712), (1749, 0.024814387662836442), (345, 0.024810895755894055), (3963, 0.024787115409651922), (1572, 0.02474448545068361), (2408, 0.024729842506337994), (269, 0.024722211015322175), (4554, 0.02471715878629297), (3428, 0.024711329986341776), (1999, 0.024674542916240657), (3746, 0.024584595760600812), (1544, 0.02457419064673378), (824, 0.02455387204481398), (657, 0.02453562880347747), (2689, 0.024527497165292594), (3801, 0.024514707385656417), (2020, 0.024235620690403414), (116, 0.02423134884513523), (1530, 0.02423044829538496), (3692, 0.024225522273777434), (2560, 0.024171741903165515), (3872, 0.024065588995849797), (942, 0.02404326236955836), (2173, 0.02400710912107853), (3835, 0.023973543229311105), (2484, 0.02391517705724991), (3446, 0.02376250738391038), (2950, 0.023732959516752646), (885, 0.02372906869332012), (1412, 0.023629897886256662), (2638, 0.023625589296039667), (3810, 0.023577201281668243), (4659, 0.0235718202463927), (2649, 0.0235700589676888), (155, 0.023537765450918877), (1057, 0.02343832337120043), (2713, 0.023432161916103617), (3773, 0.023394028419571652), (1283, 0.023375973429109315), (175, 0.023330531483932517), (3868, 0.02332731372109037), (2699, 0.02329919140759537), (1865, 0.0232913893449777), (29, 0.023288277583204436), (1186, 0.023229264871711574), (2718, 0.02319674459478677), (3153, 0.023168777515517318), (1997, 0.023141379590983783), (4281, 0.023073171694226444), (2040, 0.022971868335819254), (1585, 0.02294775132215635), (706, 0.02288398192631816), (2647, 0.02278830310814006), (1935, 0.022777338759990606), (3891, 0.022651115487781825), (4053, 0.022649732315453208), (68, 0.022589410734540884), (3839, 0.022556611534142262), (15, 0.022556564866386044), (3913, 0.02250739185219301), (4534, 0.022503792380745714), (515, 0.022499833096115873), (1362, 0.022486463991498958), (1015, 0.022477148208897783), (691, 0.022330801569338962), (3095, 0.02232378376646734), (261, 0.02232369294417245), (88, 0.022301178722772527), (2157, 0.02224516374878037), (1996, 0.0222321859914211), (1141, 0.022221388090035325), (2096, 0.022163124512581702), (641, 0.022162243129839825), (613, 0.02210391733671185), (1515, 0.022061747166271108), (4050, 0.022052871866018453), (3483, 0.022015857129812924), (398, 0.02199549736073778), (2449, 0.021985066932388473), (1505, 0.021982373147284715), (3778, 0.021876216116220825), (917, 0.021822162443509208), (257, 0.021804620814370096), (4128, 0.021763835526702892), (4288, 0.021746012783557665), (672, 0.021739478274217176), (1492, 0.02171558070297426), (2210, 0.021656005592106047), (4608, 0.02163472384787619), (3345, 0.021626760319634532), (1707, 0.021603149809261358), (2822, 0.0215532629683982), (1757, 0.021518240078453512), (2777, 0.02151782398151878), (1629, 0.021463985617207366), (3384, 0.021404263877822273), (2668, 0.021394926823283075), (2646, 0.021358135818460758), (1861, 0.02132668519986058), (1033, 0.02132016719433776), (442, 0.021288297567688543), (2598, 0.021287142760911603), (3916, 0.02128040043462383), (4189, 0.02126938217959492), (3068, 0.021254290997707096), (1270, 0.021212009876187383), (3433, 0.021185525106043747), (1942, 0.02115515210916598), (1397, 0.021082777924745753), (3492, 0.021034828753309146), (1985, 0.021011193896198634), (3665, 0.021010623387236353), (4016, 0.02100276004932242), (3629, 0.020937690266942786), (3222, 0.02092202862294061), (1385, 0.020819608375770078), (4466, 0.020787788619053546), (1817, 0.020764535380750283), (3469, 0.020745192410467787), (2440, 0.020740361118753315), (763, 0.02069291081637438), (4176, 0.020688748123160124), (1678, 0.020674657614782856), (1671, 0.020621715808903353), (2055, 0.020617915628473392), (2174, 0.02061080199928024), (3553, 0.020608214844184295), (4395, 0.02048882844913981), (1510, 0.020480695787819872), (3319, 0.02042323292226775), (3471, 0.020413598846250346), (1003, 0.02040558863047458), (4382, 0.020364996372131905), (3927, 0.020355178227915702), (2301, 0.020346391053315458), (870, 0.020332227193004895), (3978, 0.02031608323873614), (3083, 0.020305822398005775), (1471, 0.020290800155578558), (3352, 0.020253205328728124), (1132, 0.020242473075204687), (2768, 0.02022019513311771), (1017, 0.020210828878643068), (643, 0.02014941724072286), (2808, 0.020148475915238922), (2582, 0.020104138588029275), (3923, 0.020070827841297587), (2501, 0.020059505094761957), (2524, 0.020004759477924062), (4658, 0.0199904648539231), (2995, 0.01996032958314584), (1838, 0.019939936935035117), (3254, 0.019934000066389027), (3504, 0.019916439697188655), (330, 0.01990757698892509), (4492, 0.019899656515150924), (3508, 0.019891763683695312), (1098, 0.01988028147728714), (3857, 0.019866204573821197), (779, 0.019778519028090427), (1657, 0.019728179313836136), (2841, 0.01969468096073799), (4436, 0.019687104256688303), (329, 0.019680187212331626), (3934, 0.019671452130892175), (1927, 0.019666945381093325), (2867, 0.019569346792707398), (1052, 0.01949757886898508), (4156, 0.01949743389303669), (383, 0.019467817150654654), (4007, 0.019400521420680113), (2362, 0.019305653311181028), (463, 0.019270774055312006), (142, 0.01924033807026037), (4088, 0.019228802670990836), (947, 0.01918803569573748), (2469, 0.019146859249126912), (669, 0.01913232163764439), (145, 0.019128060100674707), (4465, 0.019123743707399048), (4380, 0.01909520187198896), (566, 0.019085435302379772), (1202, 0.019084727907330734), (2767, 0.019020439331965698), (2618, 0.01901317620959763), (2736, 0.01900887034546454), (199, 0.018959792932713843), (768, 0.01889780127429161), (3853, 0.01885012676492403), (3111, 0.018849760702424365), (1386, 0.01883315792718334), (2932, 0.018807248735502158), (4203, 0.01875506443394477), (4149, 0.01872831087468419), (4679, 0.018725799861996212), (2760, 0.018712458702392774), (204, 0.018686269670332167), (553, 0.018685764365025583), (3144, 0.01868398340994474), (3403, 0.018660913660548617), (4028, 0.01865704422020719), (2607, 0.01863811941695475), (33, 0.018612326068635436), (2650, 0.018583354119550942), (3284, 0.018580379689813888), (46, 0.01855499596172605), (83, 0.018501078945740605), (2237, 0.018480469432030938), (1937, 0.01843060245413057), (3097, 0.018399578507274313), (968, 0.018377219999664365), (1443, 0.01831419707001223), (1074, 0.018313355636506795), (3000, 0.018313196560767752), (2645, 0.01830642082683205), (160, 0.018298437262288456), (2368, 0.018295323351875652), (2513, 0.018276897871510427), (123, 0.018256088885426403), (3416, 0.01824018993361663), (689, 0.01823124484931015), (757, 0.018171478905814088), (364, 0.018118667495208754), (1872, 0.01809054728158338), (4722, 0.0180897110972239), (3875, 0.018078943775698533), (1226, 0.018073460855467367), (1175, 0.01805082944164325), (3828, 0.017989862890400707), (147, 0.01798970888682872), (4081, 0.017985275912985554), (2795, 0.017963854794401393), (4640, 0.017919357514542884), (808, 0.01788485830207994), (858, 0.01786248303974472), (222, 0.017856013028360415), (2035, 0.017841694875906363), (1112, 0.017814761595896286), (2167, 0.01780073194851991), (2070, 0.017785602537673223), (1365, 0.017784588946112626), (1843, 0.01777743540800436), (1384, 0.017767725898371563), (1129, 0.017757748873229732), (61, 0.017658795452635247), (342, 0.017625924860547256), (1274, 0.01759247947637767), (4349, 0.01758778225581641), (2823, 0.01753869196282759), (106, 0.017511756601740806), (796, 0.01748508210449308), (4012, 0.017483243197010997), (4440, 0.01744862397356858), (3085, 0.017441414767477733), (2553, 0.01743749009788074), (1579, 0.017412512530218235), (2093, 0.017353497854371687), (144, 0.017350164505517556), (1245, 0.01733780597970789), (4504, 0.017262945955099827), (1064, 0.01723362178999547), (3129, 0.01715175212683575), (1493, 0.017113614659723917), (3279, 0.01710645888961131), (1403, 0.017089358343226592), (3528, 0.017064378305444217), (409, 0.017054864370849368), (4321, 0.017028521917406638), (3036, 0.01700523802225701), (3766, 0.01696331878300543), (2207, 0.016959411662291247), (173, 0.01695754465504918), (3675, 0.016956370936491695), (2742, 0.0169510462112069), (794, 0.016938690601848962), (2119, 0.016936626721809577), (203, 0.01692391575379628), (916, 0.016917139639294917), (776, 0.016907533747342923), (4399, 0.01690382353828356), (1759, 0.016900019192624616), (2654, 0.016882448039672114), (4637, 0.01687894953209105), (4735, 0.016832454872681257), (3098, 0.01682852088519415), (677, 0.01682247009934885), (1377, 0.016773445546711195), (2110, 0.01675128583620694), (3226, 0.016748323767747708), (2712, 0.016746711251381167), (279, 0.01674439634537899), (212, 0.01673880855230024), (3213, 0.016734398067455605), (795, 0.016724564291810132), (2149, 0.016711990529519685), (2406, 0.016708556127859726), (3228, 0.01664828857203829), (3976, 0.016645328263089863), (2258, 0.016645098924895147), (3275, 0.016625701732328566), (937, 0.01661899895760169), (433, 0.016594829303328437), (3019, 0.016559249698570755), (2161, 0.01649460634120045), (638, 0.01648509407336536), (860, 0.016481212100768684), (2347, 0.016442297909857247), (1275, 0.016413131014958164), (1609, 0.01638052278217861), (218, 0.016329345660994338), (209, 0.016326637209159098), (4244, 0.01629601541420167), (551, 0.016277960178301926), (876, 0.016236183953495645), (1417, 0.016231265772845838), (1184, 0.016227879133609922), (1216, 0.016219260534941972), (3883, 0.01621442671515648), (511, 0.016166552419491664), (280, 0.016137762281668154), (3043, 0.016102860661864705), (853, 0.01607702326648414), (1254, 0.016063876077209334), (1445, 0.01603828875201241), (533, 0.015999131525746606), (586, 0.015989792128490082), (2917, 0.01597938404955991), (1716, 0.015952807160996087), (3012, 0.015947957006243817), (1018, 0.015920831393077692), (4709, 0.015887549483793922), (701, 0.015878620948365185), (1774, 0.015876691830685904), (458, 0.015871922723417135), (3640, 0.015863756083686856), (2275, 0.015828663325572444), (1523, 0.015826030293870766), (2353, 0.015804215693918204), (4246, 0.015799090880616876), (343, 0.015792700017701194), (692, 0.01577967045091189), (3541, 0.015766542718863782), (888, 0.015765180129318643), (4531, 0.01576425025629922), (1045, 0.01574002225933099), (48, 0.015673410180680997), (2290, 0.015664174994228695), (3895, 0.01565752388060252), (2996, 0.01565414109129707), (3661, 0.01564577425342385), (450, 0.015608519656568696), (1361, 0.015592555033603862), (3299, 0.015574789122903308), (85, 0.015565415762667165), (2229, 0.015545140188962478), (896, 0.015539368002936158), (2885, 0.01553066265467311), (4583, 0.0155091381014043), (4669, 0.015492525466058645), (1741, 0.015474293874286435), (481, 0.015469390328392467), (374, 0.015464220140309494), (1512, 0.015450085039927697), (867, 0.015447275691157163), (3642, 0.015425038196230128), (1325, 0.015417810296419088), (1906, 0.015402172315287378), (3694, 0.015394318681617917), (762, 0.015386234332469932), (2376, 0.015381706835274796), (3086, 0.01536640033114927), (4627, 0.015347594022472875), (4134, 0.015345894727775013), (40, 0.015305064222782005), (3306, 0.0152976874344642), (2254, 0.015264388099765314), (358, 0.01524391279622352), (4482, 0.015224543828703422), (3713, 0.015221954853509276), (21, 0.015211614027840471), (296, 0.015204844606541184), (929, 0.015192476876984534), (3407, 0.015189768722261746), (1119, 0.015187159155518683), (287, 0.015182057023698533), (3797, 0.01518071341031898), (4231, 0.015173882829877295), (2522, 0.015160218557647749), (2298, 0.01514742367875594), (2027, 0.0151191157039422), (622, 0.015114877441477752), (1687, 0.015081911122046706), (1115, 0.015076849560100525), (2639, 0.015060665745970907), (1853, 0.015056577491359779), (620, 0.015054170784840127), (2196, 0.015042495092810679), (3580, 0.015039135519098676), (3777, 0.015029275746340404), (4474, 0.014977388808916114), (1880, 0.014966021703830552), (51, 0.014965979411782002), (3253, 0.014939900433374384), (4178, 0.014936139212549819), (429, 0.014907793983901895), (502, 0.014891603243137274), (3437, 0.014891313208532216), (3375, 0.014880736050025874), (1897, 0.01487409258896271), (437, 0.014872318949017253), (3862, 0.014856134944777388), (43, 0.014851289474516489), (1224, 0.014848645936442455), (879, 0.014840329123637929), (543, 0.01481514022208621), (1983, 0.014814705291966625), (4314, 0.01480113606160618), (1290, 0.014782895037111703), (447, 0.01477043861892446), (4379, 0.014738068688333519), (1919, 0.014720185971196648), (584, 0.014718536886619442), (1682, 0.014708572688973999), (2919, 0.014694787924982376), (1278, 0.01469011827176545), (2053, 0.01468579094084932), (2334, 0.014641018727413668), (2931, 0.014636190656546155), (2644, 0.014605903574472971), (1779, 0.014605505493867625), (895, 0.014602672301442823), (3421, 0.014570533357246243), (208, 0.014564317291621241), (2939, 0.014557655967115493), (652, 0.01454961180007468), (2784, 0.01453920272142293), (3699, 0.014528971303086509), (1337, 0.01451632001440457), (1740, 0.014510564426729732), (3558, 0.014470291425645933), (470, 0.014468577429467194), (1895, 0.014460083088388845), (1116, 0.014454249635706785), (4068, 0.014451184354152647), (899, 0.01444837727674443), (1114, 0.014436591435942683), (1192, 0.0143731268998252), (1335, 0.01436626555567386), (3210, 0.01434822359640147), (3670, 0.014346236810449033), (1232, 0.0143343580423758), (1058, 0.014326445616965337), (482, 0.014318865406517198), (957, 0.014312073755375083), (2284, 0.014301377390974099), (510, 0.014297192125796505), (842, 0.014292048885850284), (934, 0.014284810246050515), (2695, 0.014242176019135196), (2815, 0.014233614635509399), (1152, 0.014231082791516454), (986, 0.014213770613722879), (1509, 0.014205028339216105), (370, 0.014201587388961134), (3807, 0.01415004543026814), (2988, 0.014148959205037389), (4486, 0.014142096503967723), (988, 0.014128718827695012), (1483, 0.014114297878227612), (4000, 0.014109337523178098), (1252, 0.014093237016036804), (1331, 0.014069567805799925), (2727, 0.014058481372388208), (181, 0.014055923457905324), (534, 0.01404914416124758), (1621, 0.014022952914941237), (2961, 0.014001569133349953), (406, 0.013996421309263717), (989, 0.013990992406489752), (3356, 0.013971822886881381), (3295, 0.01396915092951471), (2045, 0.013941721469670178), (2216, 0.01394089992970633), (1413, 0.01392252167553847), (2910, 0.013917633478282367), (4255, 0.013906645140043448), (1343, 0.013894810017357654), (252, 0.013883632146620802), (1401, 0.01387271954476124), (4387, 0.013870068941198363), (251, 0.013867966455367267), (799, 0.013866844082999446), (3535, 0.01384066315171278), (1035, 0.01381887453098141), (1967, 0.013818817488233139), (3370, 0.01380740008929319), (1876, 0.013797207843950315), (1461, 0.013796549363393393), (676, 0.013790445822426273), (4673, 0.013777217612414589), (231, 0.013776482994224605), (1481, 0.01376749105730235), (1945, 0.0137474566656582), (87, 0.013731711116033066), (317, 0.01372437577101817), (3660, 0.013717303640745986), (2468, 0.013656866052808383), (18, 0.013639824714195078), (1478, 0.013621453691624496), (2024, 0.01362143661567416), (2366, 0.013612976268805008), (52, 0.013600804094978335), (3861, 0.013592128894296429), (1465, 0.013588900862715182), (775, 0.013580167832495795), (4610, 0.013579403390591703), (3741, 0.013577240544232178), (3312, 0.013575887940800117), (753, 0.013549278832237003), (1591, 0.013536957187268665), (1815, 0.013530410151107168), (905, 0.013521019557386164), (4374, 0.013502565967730251), (2224, 0.013497855033642384), (814, 0.013495540125448381), (3708, 0.013495528700764465), (1986, 0.01349344967712845), (545, 0.013484509510887666), (4124, 0.01345966408865568), (4747, 0.013451885684782254), (878, 0.013435345188327827), (3819, 0.013430728987528886), (2805, 0.013422971549413958), (276, 0.013412243036761688), (760, 0.013408755868769412), (2632, 0.013395941670378386), (496, 0.013381535196328247), (2460, 0.013377406312830293), (1128, 0.01336917289326851), (236, 0.013361417399169878), (2486, 0.013345114807622599), (4524, 0.013344104735653138), (2008, 0.013341066428520627), (4576, 0.013324419282033591), (1665, 0.01331864452408986), (4121, 0.013294058510116134), (332, 0.013291392972049707), (3630, 0.013248693386756738), (1107, 0.013234704742594436), (866, 0.013223819809213744), (1183, 0.013203290150111818), (207, 0.013202287890523336), (2177, 0.013196531145282497), (1864, 0.013194620422679212), (3119, 0.013176467645873434), (3958, 0.013163592055294058), (2066, 0.013148930864670519), (3110, 0.013148818620795283), (4617, 0.013145152122535166), (1667, 0.01310952332403104), (1317, 0.013109511838372383), (4512, 0.013096663788746788), (356, 0.01308537921357196), (906, 0.013082769368796992), (604, 0.013082263186631318), (1802, 0.013074188414515001), (829, 0.013067152965588674), (2121, 0.013060128472127269), (1255, 0.013034577088155506), (1239, 0.013018313167508913), (2969, 0.012999702326476783), (2383, 0.012996311044988591), (1796, 0.012978653060000052), (1360, 0.012946114937554584), (1680, 0.012918757443092243), (1237, 0.01291252967933191), (13, 0.012904730427356216), (4227, 0.012903133125254936), (742, 0.012895262349341564), (75, 0.012892746449532828), (1595, 0.012872864495596305), (7, 0.012848827437220958), (1681, 0.012832438035811508), (875, 0.012828620175361183), (900, 0.01282649488429427), (963, 0.01282335978690511), (3318, 0.012820183098572135), (1342, 0.012818109313890115), (125, 0.012801531158627047), (1000, 0.012794194783292075), (4475, 0.012791476247212132), (1739, 0.012790065058483045), (70, 0.012784303893544423), (3325, 0.012773806745111468), (833, 0.012768979339293338), (678, 0.01274236717803005), (3659, 0.012739067427470985), (537, 0.012728576163409102), (2978, 0.012709399900374011), (1519, 0.012685818153036854), (2874, 0.01266304370471334), (1293, 0.012627559394743807), (2252, 0.012593659017289198), (3076, 0.012578428563124638), (407, 0.012576162839507807), (3768, 0.01255985800340293), (844, 0.012547501024285897), (2617, 0.012541240022816237), (1654, 0.012540361812405912), (3750, 0.012526912155733273), (2000, 0.012490298103748571), (2803, 0.012484307978364386), (2963, 0.012480046815579984), (1376, 0.012474930782576379), (1988, 0.012449725425893047), (1787, 0.01244311834937289), (3637, 0.01243969337920028), (609, 0.012436169884984381), (4337, 0.012416145648083689), (527, 0.012408426657113936), (4510, 0.012406120488644513), (1220, 0.012381759539653547), (653, 0.012376187134664488), (4265, 0.012370029362516657), (1005, 0.01236719175457826), (1436, 0.012367187829493916), (418, 0.012363494963790644), (1567, 0.012359315313796792), (2412, 0.012351300951143736), (3387, 0.012348352343140651), (936, 0.012343388786512692), (800, 0.012330546240660194), (654, 0.012319247296879221), (1185, 0.012314336497917706), (3108, 0.012312576591772555), (733, 0.01230753482660447), (1104, 0.012302637341744903), (667, 0.012288709705708509), (648, 0.012277887423853677), (2052, 0.01225214405332025), (1934, 0.012249159605660146), (1799, 0.012247251568054), (732, 0.01224641375041674), (664, 0.012230253012714354), (635, 0.012208498691708229), (2447, 0.012200094819470354), (928, 0.012197504397565779), (201, 0.012194922563079247), (1047, 0.012178017913835978), (1432, 0.012175283212771795), (1009, 0.012169952798027534), (3849, 0.012140140403992342), (190, 0.012138750265674795), (1949, 0.012117653116043525), (3507, 0.012116777808516594), (2780, 0.012102460227641368), (1542, 0.012101632206248939), (918, 0.012096049309795825), (4095, 0.012071832731641165), (2771, 0.012070015475522526), (1157, 0.012054222172340505), (341, 0.012040276910772649), (2474, 0.012025234810505206), (1714, 0.012011453185764855), (2235, 0.012010628945253024), (4469, 0.012008625600884141), (1812, 0.011945304239266106), (1832, 0.011937535410330451), (1958, 0.011930646176003007), (130, 0.011926867676679177), (1194, 0.011920690598639651), (2788, 0.011899567306988528), (82, 0.011894144332662657), (1407, 0.011883388438677927), (684, 0.01187270882417908), (1310, 0.011857401788079414), (1099, 0.011857342491158735), (3999, 0.011834468356820938), (2005, 0.011813232567949578), (3747, 0.011810499294329865), (452, 0.011805040282430304), (2602, 0.011802879057726746), (4695, 0.011784777485543659), (523, 0.01175475224186366), (149, 0.011746502833415905), (1215, 0.011742448125855624), (1870, 0.011742165690093414), (86, 0.011733847489721559), (4344, 0.011726694019006622), (560, 0.011723796536706639), (1419, 0.011702375166221541), (1396, 0.01169412559915647), (931, 0.011680378019562551), (1455, 0.01167424438890572), (2145, 0.011667846006835805), (3065, 0.011652341121195921), (3317, 0.011650735201311341), (4623, 0.01164624107645406), (2697, 0.011645129052455468), (4148, 0.011642710729146653), (3756, 0.011635471912017534), (2336, 0.011622841866254629), (2913, 0.01160626617783045), (313, 0.011588694147227201), (4596, 0.011579153357762677), (2280, 0.011578581065887973), (1264, 0.011577457331668603), (1090, 0.011525766979697764), (2306, 0.011519597561857308), (809, 0.011480022502538125), (1303, 0.011468723368048096), (244, 0.011434438545935371), (1761, 0.011427305445703435), (1989, 0.011425033991382281), (1406, 0.01142356735170328), (2925, 0.01142089851991689), (1266, 0.01140830004039545), (500, 0.01139692902865105), (2421, 0.011393352490635826), (1249, 0.011389854850356616), (2178, 0.011369102235506752), (825, 0.011336234973378517), (72, 0.011335815706635272), (2057, 0.011335341988602587), (790, 0.011328819098868296), (3957, 0.01130737537328342), (1053, 0.01130468493347921), (4216, 0.01129574202665622), (2688, 0.011271200116927366), (2918, 0.01126091009960449), (3582, 0.011260065662471546), (4543, 0.011258339788766714), (3240, 0.011249340870596558), (915, 0.011247273022572186), (4477, 0.011228675186954683), (1230, 0.011218996224828769), (1873, 0.011193286227882262), (2206, 0.011172300569001004), (4481, 0.011167684757927798), (1262, 0.011152412806465565), (1420, 0.011136701240334801), (2568, 0.011135731584107677), (402, 0.011099556911853728), (1630, 0.011090579239151285), (827, 0.011088505143461765), (2480, 0.011086109421716206), (1012, 0.011077486485627775), (1655, 0.011075509113125723), (3794, 0.011070808538151015), (1019, 0.011046732439510036), (2625, 0.011042436956048845), (1957, 0.01103713744728498), (1054, 0.01103699944625331), (274, 0.011035641459288753), (1852, 0.011027128083942172), (719, 0.011021069857465697), (2555, 0.011014281773315506), (322, 0.011011274215599966), (1551, 0.010990327322037603), (1696, 0.010965269002219375), (1773, 0.010955897824683977), (2346, 0.01092789141982469), (1992, 0.010919745889197363), (4187, 0.010905512014133225), (2759, 0.010896125543937797), (3992, 0.01086432393823145), (417, 0.010857053144102818), (532, 0.010853692109028056), (321, 0.010853546219663456), (273, 0.010851325289581416), (683, 0.010850382331213299), (281, 0.010850110374057989), (3775, 0.010846868308484497), (3118, 0.010846767325738211), (4325, 0.01084142860251558), (538, 0.010837176004175735), (57, 0.010835008478228547), (2429, 0.010834879177906962), (949, 0.01083005059414121), (2062, 0.010827602309256912), (555, 0.010805867563405055), (3993, 0.010799299812975914), (1789, 0.010793270926753161), (304, 0.010776123342338816), (695, 0.010765812704594108), (1858, 0.010754515078436713), (2769, 0.01074689549252221), (4293, 0.01072496987906045), (2680, 0.010718798803295179), (3524, 0.010712545862383618), (4235, 0.010709589001293521), (801, 0.010706865530756116), (1259, 0.010683260447850177), (4164, 0.010674454149190896), (1923, 0.010674188244428695), (291, 0.010654114070260626), (3094, 0.010653611691713995), (4551, 0.010636691906109849), (4032, 0.01062426291591163), (3951, 0.010623974779247279), (148, 0.010606847740924956), (4619, 0.01060441183101697), (3860, 0.010597587690882967), (170, 0.010590419372720969), (1754, 0.010587649198346934), (3924, 0.010565245191918267), (266, 0.010555380119079246), (2739, 0.010547486722511865), (2464, 0.010540963361888974), (1061, 0.010522732972754849), (4048, 0.010521792466705355), (271, 0.010513499130038398), (4366, 0.010509642903648503), (1723, 0.010497387610157081), (501, 0.010495925548300913), (2403, 0.010494032014463658), (468, 0.010463913523735657), (2097, 0.01045894025071592), (847, 0.01044101072550268), (3070, 0.01044100980493831), (3903, 0.010429036686855615), (2992, 0.010426386435022177), (1662, 0.010422019588148998), (3423, 0.010418173494331847), (3426, 0.010402151809410325), (333, 0.010396647172797039), (3099, 0.010396584806118781), (2871, 0.010392979560845669), (1874, 0.010386980241245819), (1694, 0.010377739186490313), (47, 0.010374759033888029), (2051, 0.010344755637093042), (2162, 0.010321303045312511), (2936, 0.010306943195722024), (485, 0.010299890463609936), (737, 0.01026948217402053), (2740, 0.01025165340770671), (354, 0.01023318036745526), (792, 0.010223739969146536), (3822, 0.010223324228813488), (4553, 0.010220370619708468), (3232, 0.010219438024982971), (1339, 0.01021596486720332), (3297, 0.010212639038269283), (206, 0.010195436607244203), (1348, 0.010181205524417283), (1234, 0.010177649958305484), (2436, 0.0101763666679201), (2849, 0.010160919483403277), (483, 0.010147870988533602), (4033, 0.010139571461229513), (2209, 0.010136547687141511), (4605, 0.010113684386539628), (2505, 0.010111741990795405), (99, 0.01010872536394476), (3984, 0.010107881608489588), (1418, 0.010098426231237303), (1658, 0.0100804736714881), (1736, 0.01006161503112795), (270, 0.010051806221174025), (715, 0.010047304304865666), (2049, 0.010037773592981785), (327, 0.010031091446491825), (3382, 0.01002898874098722), (1513, 0.010012053684440077), (4106, 0.010011298899255085), (2546, 0.010005453203518996), (1727, 0.009993058828174554), (2016, 0.009977672051937518), (542, 0.009974966884476081), (2929, 0.00997316401811581), (216, 0.009964319549763758), (1781, 0.00994528192793031), (806, 0.009918568722061226), (120, 0.009912331765059942), (2126, 0.009911946717288973), (2915, 0.009901438303503266), (621, 0.0098894425959586), (979, 0.009887972165231157), (1300, 0.009883442651908877), (2074, 0.00987182120936709), (3674, 0.009866519236776755), (1334, 0.009866451708928596), (2116, 0.009826879593775987), (2494, 0.009816473373279778), (0, 0.009805093506053453), (2489, 0.009794792049552446), (1359, 0.009783798724744835), (3142, 0.009781933944899053), (2820, 0.009780711952702378), (1708, 0.00977923271618291), (1798, 0.009774556470432893), (994, 0.009767338355605823), (4371, 0.009763787259413185), (1440, 0.009759613744201243), (544, 0.009753397860988314), (1092, 0.009742359298906326), (1712, 0.009732335194850533), (2964, 0.00972958693050268), (3949, 0.009725553805078438), (3218, 0.00970686767527964), (1619, 0.009703084106321473), (1922, 0.009702305857966465), (3679, 0.009695639399177612), (2934, 0.009681263395234521), (3155, 0.009676985323238005), (3635, 0.009666279084388135), (1951, 0.009660200117561584), (2565, 0.00965865847843089), (243, 0.009658171853199466), (4435, 0.009657090753751577), (2418, 0.009651250070554153), (5, 0.009639835665946627), (1685, 0.009633240613946496), (4052, 0.009622904531408717), (3612, 0.009614913459816828), (3264, 0.009614029034340891), (4158, 0.009601381761401219), (1075, 0.009591487522932454), (2250, 0.009590492035507887), (1442, 0.0095890271815945), (2633, 0.009558772985519754), (4060, 0.009548933425246275), (2512, 0.009542271470272569), (105, 0.009532098755129267), (2640, 0.009526668488920899), (894, 0.009520951455559387), (1438, 0.009518400966834185), (3919, 0.009518026688365582), (1006, 0.00951241049788545), (3888, 0.009509824437820174), (3599, 0.009506751045859305), (288, 0.009496377944736414), (2601, 0.009495593230104763), (1475, 0.009491808199921726), (2545, 0.00948600870856867), (435, 0.009477836158719864), (2655, 0.009474781634864609), (1048, 0.009461601719983486), (2197, 0.009457720469104737), (1338, 0.009453093408532395), (970, 0.009447726677397602), (3536, 0.009447284878491278), (4025, 0.009445947734436947), (1124, 0.009439593845048234), (2744, 0.009436372522052039), (3689, 0.00941773693384183), (1279, 0.009414733311017304), (78, 0.009399606571884909), (1382, 0.009398048957401735), (2029, 0.009383399674635615), (1494, 0.009379897367766055), (472, 0.00937363469527576), (2075, 0.009368083693250751), (4444, 0.009365545280548903), (2279, 0.009364676134641814), (1860, 0.00936372403435563), (631, 0.009361669401453363), (3215, 0.009351852172126342), (2977, 0.009322674076250256), (4442, 0.009322506640795744), (4192, 0.00930711991890133), (1936, 0.009305710762007566), (1077, 0.00930179774986171), (2789, 0.009294840803167722), (1182, 0.009289577849239705), (2080, 0.009286183430238319), (1688, 0.00928447679177188), (850, 0.009269227266584062), (1087, 0.009256627090253322), (3643, 0.009249751025514882), (353, 0.009247286364833024), (668, 0.009247180014652573), (2798, 0.00924585532579227), (4546, 0.009241565345370469), (396, 0.009236073372609652), (2277, 0.009229634965057291), (1582, 0.009227189264785263), (3386, 0.009225598651981193), (2255, 0.009224149251331642), (2948, 0.009213541283917926), (2752, 0.009192679728709074), (2193, 0.009187834696774063), (2144, 0.009184136725802351), (182, 0.009177613098031678), (1854, 0.009176487834003655), (897, 0.009174254862381888), (2886, 0.009169658422198456), (104, 0.00916249023695782), (2228, 0.009156965667265397), (697, 0.009143071449328686), (3171, 0.009142617878024973), (1160, 0.00912265594299187), (2831, 0.00911547050081377), (3293, 0.009096992545310073), (434, 0.00909271578475179), (3346, 0.009080805971871126), (828, 0.009079231893502364), (79, 0.009076618790839581), (1612, 0.009066688687457697), (939, 0.00906544737876302), (4511, 0.009055944146683143), (346, 0.00904732990567095), (4710, 0.00903722525774957), (3596, 0.009010933192656957), (3941, 0.009006728347892528), (1948, 0.00900217093487605), (464, 0.008999856286562488), (3067, 0.008994762392335234), (3237, 0.008993087333431068), (1620, 0.008987057234226398), (2463, 0.00894983822573773), (4685, 0.008939084683528015), (119, 0.008932839836200659), (1807, 0.008930900977394138), (3046, 0.008930165950430557), (2980, 0.00892969508928226), (111, 0.00892830755196627), (2600, 0.008926105435859566), (3638, 0.008913892551018446), (948, 0.008908360175058827), (2087, 0.00890534030263058), (4612, 0.008900541314353928), (3667, 0.008900171105382566), (3120, 0.008898319654514026), (96, 0.008895438584707134), (1900, 0.008883222611181612), (446, 0.00888200665157438), (2698, 0.008871041588029817), (2103, 0.008865792807943298), (558, 0.008862695499612721), (1096, 0.008857925187504443), (2581, 0.008841135380210335), (1701, 0.008829989975010642), (4660, 0.008816293072121558), (817, 0.008811076124523943), (3521, 0.008807933706918614), (4336, 0.008794656199100885), (651, 0.008790443518269624), (4122, 0.008786711827347365), (19, 0.008784739948684396), (4502, 0.008778213671318655), (3826, 0.00875332692435902), (2363, 0.008743311125802651), (782, 0.008737001055913084), (1020, 0.008735245570264399), (3246, 0.008728646467293667), (2188, 0.00872547504917266), (1446, 0.008725319988941804), (3418, 0.008722324977241057), (3267, 0.00872099401762529), (3123, 0.008720722046885655), (1276, 0.008718177494154983), (2879, 0.008707067714400177), (2143, 0.00870524190616186), (285, 0.008704678727235576), (2459, 0.0087021962221496), (2309, 0.00869760131422764), (1387, 0.008676472959391519), (3151, 0.008673167385631366), (3733, 0.008671664222620296), (2473, 0.008671326295738156), (3784, 0.008666453071715974), (164, 0.0086637829941784), (2778, 0.00864507950538454), (2065, 0.008634933847474484), (962, 0.008633517179123244), (2077, 0.008628455950862961), (2572, 0.008624926760274992), (1710, 0.00862480157860797), (3901, 0.008622386333348418), (197, 0.00859704253241558), (966, 0.008596738901221878), (1429, 0.008595043377298776), (3954, 0.008593121833034324), (2303, 0.008587247057459328), (2812, 0.00858075314838778), (4257, 0.008577179765386033), (3956, 0.00856647521911965), (307, 0.008540452172185265), (2264, 0.00853872494735178), (1793, 0.008533810434469269), (734, 0.008527107655238415), (4664, 0.008516099300011862), (1206, 0.008511491354820998), (3399, 0.008506480833147213), (4603, 0.008493147032227942), (368, 0.00849246998822155), (4490, 0.00847884672726767), (921, 0.008473884306744563), (838, 0.00846638251021233), (1776, 0.008464441636809431), (3829, 0.008463648801411847), (1650, 0.008442906417332422), (1514, 0.008426393019628341), (851, 0.008419793419722108), (1920, 0.008418614385203606), (2089, 0.00840106321112749), (1477, 0.008398088250305705), (1968, 0.008396226262273387), (461, 0.008378393185575846), (4412, 0.008375126016394905), (3389, 0.008373948421723199), (4649, 0.00836168035627167), (1875, 0.008361119199879558), (4232, 0.008355629863574444), (1308, 0.008353487600809638), (183, 0.008350342502147893), (3329, 0.008323855378347707), (2427, 0.008304726949703233), (1730, 0.008300929366563799), (2635, 0.008290017471095085), (4163, 0.00828909244186234), (443, 0.00826944426866319), (2265, 0.008265713268684284), (1540, 0.008264873545767479), (1538, 0.00826452714849783), (2236, 0.008262153855153739), (2158, 0.008249182115915604), (449, 0.00823467413153059), (1690, 0.008203297599856187), (2285, 0.008192880614420481), (1050, 0.008188052484759224), (597, 0.008184692697223068), (1924, 0.008167974470972303), (1971, 0.008146467998911179), (4205, 0.00813259415956046), (1762, 0.008122600557858468), (1539, 0.008118828372420506), (107, 0.00810878589263473), (2076, 0.008106110318529727), (3960, 0.008105392582227868), (1507, 0.008102011472032189), (2881, 0.008097352464452926), (4092, 0.008090895367233297), (38, 0.008085428274959462), (3680, 0.008084768946688057), (2587, 0.00808003809866371), (4494, 0.008076927428852684), (4699, 0.008066732917858166), (705, 0.008060671056134337), (4335, 0.008058701805706186), (1553, 0.008035712147274676), (1489, 0.008033719451971282), (3196, 0.008017179405249625), (3, 0.00800429043895183), (1078, 0.008004074147420881), (3032, 0.008002698145813185), (436, 0.007999143568905942), (2975, 0.00799910472417184), (32, 0.007984548069367697), (1136, 0.007982223371637606), (2840, 0.007974038146102615), (729, 0.007972578233613352), (4593, 0.00795009926001135), (1498, 0.007948536519158821), (4105, 0.00794159514227583), (2854, 0.007940287278032943), (139, 0.00793805341964405), (924, 0.007930889582430515), (4707, 0.007924309197114073), (688, 0.007920082561582203), (1960, 0.00791594458958931), (3096, 0.00791471142124377), (2304, 0.007905045081506133), (1764, 0.007892329915581534), (1260, 0.007892175187202838), (2428, 0.007890164359013144), (4748, 0.007885550521461237), (242, 0.007883152373824122), (2942, 0.00787876782175488), (1371, 0.007859168909794434), (1454, 0.00785287184664528), (4046, 0.007837863472015384), (385, 0.007832134714130213), (1790, 0.007830652807786428), (4601, 0.007825524342012363), (816, 0.007822688625960025), (3192, 0.007816038194544937), (1866, 0.007806781469902531), (1833, 0.0077965095169583885), (4133, 0.0077958126868276235), (445, 0.007794521839692808), (4522, 0.00779142357392963), (60, 0.007788672977779784), (4013, 0.007783966541683047), (350, 0.007783455522120415), (3453, 0.007781907770548946), (3516, 0.007775657982650567), (3579, 0.007771852322868443), (162, 0.007770799696963449), (1743, 0.007750090589066046), (3771, 0.007743879506289292), (582, 0.007738614071243571), (2933, 0.007732280496939367), (3704, 0.007726207293318316), (2477, 0.007724564644052247), (1806, 0.007724060987961749), (1674, 0.007717885024911842), (403, 0.007717320665807713), (728, 0.007711282099805773), (4579, 0.007706345424758964), (3899, 0.007704160140244185), (3634, 0.007698238156314156), (3112, 0.007688011853815088), (1312, 0.007683696684100865), (991, 0.007674540016661659), (3256, 0.0076572783933819), (1140, 0.007655221232160154), (1537, 0.0076545522894884395), (2603, 0.007647101042214018), (4431, 0.007646034470317188), (4038, 0.007643493182656478), (2949, 0.007639155147339895), (3456, 0.007637110780276211), (3821, 0.007635870656724133), (2104, 0.0076355178680262425), (3780, 0.007633761812979329), (1071, 0.0076296938801074105), (4118, 0.007629579528410197), (4656, 0.007629219763180771), (2211, 0.007629219619822573), (3586, 0.007614155228395089), (1014, 0.007610412264289004), (493, 0.007590992590773915), (930, 0.007588642360831522), (616, 0.007587604885805269), (4094, 0.007582355866076667), (3618, 0.007578451625313122), (1705, 0.007576217404227394), (2714, 0.007566646462252822), (1282, 0.0075637968823544744), (1484, 0.007562813857263789), (180, 0.007560424083753987), (1918, 0.007551945563332286), (1225, 0.007542388898273974), (10, 0.007539724639541887), (1400, 0.007536440370065782), (4289, 0.007530304372005355), (2563, 0.007530270288055348), (2510, 0.007529972715630197), (1571, 0.007527686704103847), (441, 0.007524058999258837), (2844, 0.007519917586582681), (1902, 0.007514941436228623), (4757, 0.00750809522210286), (1643, 0.00750602651388331), (4557, 0.0075049104273801175), (1188, 0.007504203984202115), (3464, 0.00749830788075648), (716, 0.00749730430513755), (4624, 0.007497150714487852), (4233, 0.007493601501957861), (2088, 0.007490653097136644), (843, 0.007487678947366412), (113, 0.007487310843562389), (255, 0.007486787644460759), (4430, 0.007485544625895459), (845, 0.0074849403670845475), (3905, 0.0074838650684981665), (4045, 0.007474521320913149), (580, 0.007471013806577874), (660, 0.007468299121380835), (1229, 0.007464115927586654), (3514, 0.007463910276476754), (3259, 0.007461484276829566), (2873, 0.007460728637960147), (2339, 0.0074607042887312154), (4629, 0.007458366306468024), (4089, 0.007444294164478699), (34, 0.007439622267479848), (1083, 0.007438831750066306), (1950, 0.007437122534097678), (474, 0.007434113526945559), (3039, 0.007433241299459784), (3666, 0.007423488483315582), (143, 0.0074218727251426225), (3349, 0.007417544683405595), (1037, 0.007406593398245866), (156, 0.007396517906534802), (980, 0.0073892674550401615), (3018, 0.007388671328103669), (3945, 0.007385100505287984), (606, 0.00738281553042624), (4249, 0.007376866463428255), (3623, 0.007375385289240741), (4470, 0.007371133673986452), (1536, 0.007357200882370105), (3233, 0.007355187520740297), (224, 0.007353548211987467), (4390, 0.00735207097581671), (1069, 0.007349470531851638), (743, 0.007346838592574463), (3008, 0.007343589760949153), (509, 0.00733202705436811), (4098, 0.007328628147016927), (3410, 0.007326878072907434), (3571, 0.007310855744198967), (1174, 0.0073090099747231945), (1931, 0.007304840964451408), (2519, 0.007297888997678442), (1735, 0.007296268013052199), (2843, 0.007294454990914622), (238, 0.007292058096564207), (3653, 0.007288033329822759), (750, 0.007283807541207738), (3303, 0.0072756740838892334), (3501, 0.007267483112732892), (1144, 0.007259122310498271), (869, 0.007254016902358079), (2091, 0.00724908335407164), (63, 0.00724637379048299), (3645, 0.00724440879850767), (309, 0.007241873038964715), (2061, 0.007241444441148378), (4077, 0.007237935229267639), (4093, 0.0072372475745065045), (42, 0.007236825272071698), (1486, 0.007234166049300601), (1472, 0.007232693801577943), (1138, 0.007232291199342742), (908, 0.007227807872197648), (4677, 0.007226291498591362), (2244, 0.007224478463281346), (636, 0.007220498423054623), (2444, 0.007216822945365926), (3227, 0.00720882098845807), (2606, 0.007198949096365795), (1583, 0.007196604196620224), (696, 0.007196443040031081), (3436, 0.00719553939447874), (4517, 0.007192818112932041), (2101, 0.007188361400101866), (3125, 0.0071848861424403995), (4226, 0.0071813010126941775), (256, 0.007180422705514563), (363, 0.007177918653319793), (1191, 0.007177768471697236), (1223, 0.00717722505421251), (4061, 0.007175096904403546), (4715, 0.007168016491301172), (1488, 0.007167547433373899), (2344, 0.007164432520815709), (4196, 0.007152503548435217), (1179, 0.007148580085663995), (3245, 0.007148416664097887), (3515, 0.007141768857087135), (4581, 0.007140956745791369), (159, 0.007126037020866246), (2994, 0.0071209261581707105), (494, 0.007107534761405225), (1388, 0.007105864043348033), (3152, 0.007105099502527769), (4184, 0.007103928823641512), (1811, 0.007092076580957013), (3727, 0.007088736271485593), (1747, 0.007085757718312184), (3624, 0.00708332047076107), (3435, 0.007080080814085195), (232, 0.007072494943779912), (340, 0.0070577890082476336), (769, 0.0070559764342692744), (880, 0.007046905349603812), (4351, 0.007044390945365722), (3195, 0.007035857525779765), (3570, 0.007030792303727618), (2069, 0.007024574301463462), (727, 0.007024317991323226), (3499, 0.007023650271851442), (4284, 0.007015060521553908), (413, 0.007014363525749394), (81, 0.007009943535800456), (1504, 0.007007295859807677), (1737, 0.007007001454081945), (3316, 0.007003850870270371), (3457, 0.007003019585887427), (3185, 0.007000170786572425), (2825, 0.00698930913622386), (50, 0.006986992676753986), (4299, 0.006979491877667861), (4309, 0.00697819374420941), (1653, 0.0069720422336954115), (748, 0.0069703375048933616), (4652, 0.006959441062191511), (301, 0.0069485776645648555), (1330, 0.006945237124300198), (1044, 0.006925941771792754), (539, 0.006923300446519886), (600, 0.006911988221385433), (4182, 0.006907818896450108), (217, 0.006895954353204596), (3696, 0.006894880242524032), (1421, 0.006892431195663454), (1718, 0.006885352976791461), (923, 0.0068851967951298505), (503, 0.006882371442124131), (3487, 0.0068740778119156035), (752, 0.006874003656088703), (3531, 0.006862294924219214), (4670, 0.006848594424887118), (386, 0.006839997396687533), (4523, 0.006839334010413386), (2691, 0.006834099053790853), (1841, 0.006832081872064486), (3149, 0.0068243582803357815), (1911, 0.0068215375429680905), (3122, 0.0068204751632027355), (1076, 0.006819943767270469), (4008, 0.006817202182472819), (1001, 0.0068140912017435416), (3035, 0.00680633588123159), (1125, 0.0067987645178981225), (2816, 0.006796760437225053), (3648, 0.0067966355837907584), (1375, 0.006795276578803917), (1123, 0.006794885124020777), (644, 0.006791787033115819), (4467, 0.006785277754309836), (671, 0.0067828701196653), (2726, 0.006782846187248172), (1231, 0.006779688354393065), (367, 0.006777740856868494), (3265, 0.006769470229076111), (778, 0.006760120126778052), (2897, 0.0067578748204000574), (4388, 0.006755130022591245), (3734, 0.006743290499240995), (1177, 0.0067349171277387735), (2348, 0.00673431186581514), (2962, 0.006732649301460031), (31, 0.006723965537835127), (2899, 0.006720886243817159), (1738, 0.006716538657576399), (3632, 0.006714251426310356), (1111, 0.0067125880140789735), (1041, 0.006711122649795384), (2732, 0.006699254917744875), (2708, 0.006695604248962895), (1250, 0.006695136066226618), (56, 0.006687995450791239), (2496, 0.006686100058633569), (422, 0.006684770214378324), (1425, 0.006682409645770868), (3452, 0.006666829518739313), (283, 0.006663066484764481), (4210, 0.00666279625006107), (1819, 0.006660823685789856), (1555, 0.006655728045330869), (131, 0.006655142039509908), (1433, 0.006651536462062502), (4591, 0.006649489713339693), (2184, 0.0066460697561804795), (311, 0.006640720103355573), (3342, 0.006638970720780707), (868, 0.0066380990252306385), (1306, 0.0066374175223380336), (2335, 0.006626868445508635), (758, 0.006619783688263925), (744, 0.0066118215152692235), (1760, 0.006610240515573115), (1448, 0.006606255011892964), (1908, 0.0066037384583795015), (4282, 0.006581235977916588), (4001, 0.0065798866522937954), (3926, 0.006579383573264013), (1172, 0.006576811496944065), (3460, 0.006574404057633163), (1374, 0.0065735766582562015), (4099, 0.006567093402415353), (4738, 0.0065658473500210725), (3033, 0.006565105720620909), (3876, 0.006562838398218208), (1644, 0.006561402643121727), (1501, 0.006560512948820128), (1462, 0.006557735573350133), (1345, 0.006554266558119459), (910, 0.006544699287657487), (2324, 0.006544521660283181), (3594, 0.006542877340613763), (745, 0.006541447895988961), (863, 0.0065353030348067245), (1065, 0.0065346759690377235), (1238, 0.006524049508288304), (22, 0.006522322352622825), (122, 0.006517403480064114), (834, 0.006515346842433373), (2503, 0.006513803988319437), (996, 0.00650992907297042), (1692, 0.006499365798951296), (3474, 0.00649658195092293), (1987, 0.006494419384748071), (1892, 0.006492138216479109), (1867, 0.006487323100488623), (1913, 0.0064824046591955295), (1329, 0.0064822128175896394), (608, 0.006480886036499979), (3705, 0.006469532567629695), (1849, 0.006466697460137597), (1964, 0.006462905219506746), (4154, 0.006460444818820417), (2031, 0.006451642626205173), (563, 0.006446918984242734), (581, 0.0064429088076600515), (3842, 0.006439580046008823), (981, 0.006436594763438926), (804, 0.006430481765266979), (1094, 0.006428490781993139), (3288, 0.006427108303657308), (3066, 0.006417860970259336), (2424, 0.006412851568886809), (3841, 0.006411621947297271), (2239, 0.006407566328685134), (230, 0.00639704758425901), (2580, 0.0063848130308622525), (1414, 0.006378299226169405), (1816, 0.006377671673092274), (940, 0.006372201502734289), (4367, 0.00636561455566984), (2724, 0.00635309231256632), (1267, 0.006350083320400627), (4217, 0.006344514387184781), (2095, 0.00634399459508417), (4661, 0.006337486653117293), (2056, 0.006329973382063176), (3998, 0.0063284474489425134), (4564, 0.006324868664687002), (521, 0.006324471633262136), (4459, 0.006319462824825345), (200, 0.006317406038489515), (1608, 0.00631080660484277), (4303, 0.006307820224547157), (2833, 0.006306426535276037), (497, 0.00629601813997159), (1552, 0.0062804575791378355), (1526, 0.006277220093134095), (3910, 0.006276866044991001), (3309, 0.006272591746028671), (300, 0.006258139455269685), (4432, 0.006257829146207155), (4691, 0.006248887308908626), (1327, 0.006246469827302094), (4666, 0.00624575032328202), (3458, 0.006237886369444205), (2388, 0.006227393088748629), (1818, 0.006224779631552357), (1664, 0.006221292918029591), (263, 0.006216251561942655), (1213, 0.006215002337363142), (835, 0.006210819751878022), (1797, 0.006202669692847393), (3864, 0.006198950838403933), (2202, 0.006188384803965121), (1307, 0.006181668255159588), (2160, 0.006181185621205105), (642, 0.00617554124475728), (3566, 0.006170320282172521), (862, 0.006163646870521245), (861, 0.006156676188760678), (2205, 0.006148708939289658), (1903, 0.006144808322546005), (1746, 0.006130600381762394), (3909, 0.006128669375239794), (1939, 0.006122496770723247), (3721, 0.006120051103397477), (1627, 0.006111510124918706), (568, 0.0060923938011236784), (9, 0.00607882290416431), (248, 0.006076898456420151), (4236, 0.00607498699543385), (3114, 0.006072588491821387), (4009, 0.0060694965649699005), (2175, 0.006065790209232859), (35, 0.0060612328203774185), (4342, 0.006053130571462052), (1356, 0.00605131280670182), (617, 0.006036313815003582), (3244, 0.006017414560259967), (821, 0.0060159760666970525), (3975, 0.006013273983329386), (2203, 0.006010749392625514), (4537, 0.006005299509575737), (958, 0.006004028909589244), (4733, 0.005965512302462513), (2355, 0.005960565575827434), (3331, 0.005959816487740433), (16, 0.005959078936688496), (583, 0.005955003048448513), (3715, 0.0059530536022729275), (3658, 0.005945222312437101), (1214, 0.005932567568348967), (3825, 0.005930841255515678), (4219, 0.0059307558518514976), (2058, 0.005927826803031612), (4055, 0.005924818293621736), (2426, 0.005920751565415964), (1316, 0.005910781285140436), (1981, 0.005908455371472134), (2185, 0.00588469360959802), (1715, 0.005883156475360245), (4646, 0.005882073074407983), (4464, 0.005865917370922849), (3865, 0.005858147278425384), (2156, 0.005849206467237161), (4057, 0.005838723038181404), (2935, 0.005833966818310372), (4047, 0.0058310531983781005), (4110, 0.005829926434041166), (3598, 0.0058148858738907615), (3844, 0.005781129296899576), (4208, 0.005772631262084199), (953, 0.005756518916356405), (1684, 0.005754002436817411), (4674, 0.005742313437079809), (3049, 0.00572814392853459), (1344, 0.005721039864961347), (4385, 0.005717363384544328), (3509, 0.005699119019090606), (3748, 0.005683490190282457), (1863, 0.005673121301952915), (3588, 0.005668212447753092), (2328, 0.005662324030417309), (3391, 0.005654239730508646), (4653, 0.005640484385845355), (2291, 0.005627749684426434), (3942, 0.005627567292449441), (2098, 0.005618888882314847), (3744, 0.005614568383030678), (4518, 0.0056003864349854155), (177, 0.005599808753936733), (3448, 0.00559647446856459), (3502, 0.0055839873596376976), (3752, 0.00558054137277933), (4514, 0.00558021931038109), (4698, 0.005566055076203875), (3164, 0.0055627503744931995), (1941, 0.005521670047666052), (571, 0.00551243089187356), (512, 0.005483270579141841), (2567, 0.005474566349004076), (2273, 0.005445167150185859), (4642, 0.005444385938077968), (562, 0.005424022281125922), (3940, 0.00541580878603716), (369, 0.0054147171174585024), (4285, 0.00541390337248493), (2665, 0.005408896703823956), (2439, 0.005393098007991499), (1940, 0.005391940370749308), (3022, 0.005367062238452818), (3440, 0.005360191089565495), (4726, 0.005357462984646266), (2809, 0.005339089482851617), (1695, 0.005316808464005938), (4331, 0.005314131386390756), (4162, 0.005309960252153657), (4527, 0.005304592026024582), (380, 0.0052998836952428295), (1381, 0.0052941344423078724), (3117, 0.005288750302616192), (1453, 0.005285281631882958), (855, 0.005267649046133167), (4261, 0.005249130933861092), (2774, 0.005249022144044434), (477, 0.005239784974437232), (2181, 0.005236538353974075), (425, 0.005233653978455374), (4746, 0.00523258618884702), (2576, 0.0052191298618978746), (4462, 0.005213474094856588), (2022, 0.005209538508579561), (3168, 0.0051948318476039), (666, 0.005191363840721598), (2700, 0.005182671029789315), (4307, 0.005179565875975142), (4630, 0.005173595112168345), (3158, 0.005170714049097465), (2683, 0.0051675037568785385), (168, 0.005162629015437511), (1158, 0.005154276117296022), (1391, 0.005146892045916608), (4120, 0.005142394346497135), (4043, 0.005142156064116709), (2113, 0.005140329245801168), (1332, 0.005140102469137354), (1962, 0.005139410447659317), (4515, 0.005133628241484277), (3180, 0.005132573372863185), (4119, 0.005127533389383312), (2733, 0.005124706672572313), (687, 0.00511838964431733), (128, 0.005117957196142506), (2231, 0.00509809890783702), (550, 0.005095713449789213), (1554, 0.005079354545010316), (2314, 0.005075043982713094), (595, 0.005073766918951453), (4091, 0.005069099168848594), (3604, 0.005067139324779593), (69, 0.00506551508596364), (2626, 0.00506321164286469), (1167, 0.005054247756466491), (3802, 0.005051573170028611), (3787, 0.005050684028750155), (802, 0.00504790855259478), (831, 0.00504729347668347), (102, 0.0050401893607578485), (4240, 0.005036241334993982), (3263, 0.005025888185502877), (1829, 0.005021692709172187), (3163, 0.005021375235815922), (513, 0.005015028264463551), (303, 0.0050061679094136795), (514, 0.005003024616850094), (3938, 0.005002076654805726), (2136, 0.004999931651805338), (4595, 0.004991963728483643), (2599, 0.004986212320267052), (2084, 0.00497883099639507), (1150, 0.004975946962821241), (3468, 0.004972065267270442), (4090, 0.00497122442224054), (4076, 0.004970043121679035), (1661, 0.004967986400080027), (1952, 0.004967831528029215), (1724, 0.004967362630089575), (6, 0.0049636657561850026), (420, 0.004960790573790974), (4312, 0.004956559811046084), (3584, 0.00495460907849746), (4373, 0.004944937742506397), (3451, 0.0049447961135720125), (3782, 0.004941626446775452), (3774, 0.0049401024395021535), (1575, 0.00493962475567439), (3131, 0.004935719359181448), (992, 0.004935502243441057), (1614, 0.004935318091384703), (414, 0.00493284652771533), (1732, 0.004930749603787047), (3438, 0.004925075352046846), (1659, 0.004917338400093204), (2283, 0.004916374937626596), (1280, 0.004912549776270106), (4719, 0.004912020457018882), (1791, 0.004911393510206823), (3997, 0.00491138185917065), (3710, 0.004904565905805378), (2044, 0.004900368156440432), (239, 0.004893411026998544), (3897, 0.004891332365552052), (2208, 0.0048896326651322545), (1426, 0.004887726304196335), (2819, 0.004887152493105063), (4384, 0.0048863605224429355), (3205, 0.004886156117287779), (1904, 0.004878866675051578), (2330, 0.004877726866423949), (220, 0.004877383327231498), (1452, 0.004876297175437618), (765, 0.004875714723265432), (1531, 0.00487448226189164), (1502, 0.004871803904837503), (1380, 0.004865433624290717), (1859, 0.004864612361744439), (891, 0.004859604317280072), (1975, 0.004859271928670793), (4392, 0.0048578911171751425), (1449, 0.004856782191775572), (2959, 0.004856626562989746), (2790, 0.004850603519905103), (561, 0.004843879649288874), (2064, 0.0048383411344764616), (320, 0.004836468342738552), (3513, 0.004833569400596494), (4639, 0.004827393660535323), (1881, 0.004825322882698362), (3769, 0.004823654473202804), (4621, 0.004820847396153738), (1588, 0.004820371979478831), (2015, 0.004817274786074442), (3134, 0.004815055879995134), (4586, 0.0048038743900341956), (27, 0.0047922703978129), (793, 0.0047911708785747225), (3124, 0.0047897235355676224), (3907, 0.004786368378027254), (4275, 0.004783375335158279), (3995, 0.004783012688872665), (4552, 0.004781914462610898), (189, 0.004777355844485406), (1469, 0.004775977068505571), (3398, 0.00475799272399742), (3191, 0.004749484075312184), (95, 0.004745609331166691), (685, 0.004739140064506008), (3179, 0.004737186136549798), (4377, 0.00473449738414215), (118, 0.0047336369622742935), (902, 0.004732429780589892), (4376, 0.00472987449563689), (4251, 0.004729825034580443), (2947, 0.004728489945670273), (1901, 0.004728085067675583), (1431, 0.004724038283531271), (1435, 0.004716569576995678), (4678, 0.004715176978610753), (336, 0.0047110789913987), (2960, 0.004705331125110952), (3815, 0.004703487539245398), (1587, 0.004696037086649698), (3404, 0.00469377408637166), (919, 0.004688274887806511), (3576, 0.0046855570241939055), (3833, 0.004685092741441777), (2278, 0.004680281026963687), (3932, 0.004678398488262888), (811, 0.004677175365825214), (2991, 0.0046748260207572076), (3908, 0.004674093092431092), (3520, 0.00467025158615055), (1998, 0.004669056138259162), (1930, 0.0046636733428292625), (2130, 0.004663428752584404), (3005, 0.004662843276282043), (30, 0.004648836119227042), (4103, 0.004638354930990023), (4360, 0.004638002055274865), (451, 0.004633317948990186), (39, 0.0046323263203813065), (4383, 0.00462950343379809), (347, 0.004629011445466316), (2506, 0.004628370144810393), (315, 0.0046275791609617966), (3367, 0.004620646774560632), (4310, 0.004618064119380746), (1566, 0.004617094549750663), (849, 0.0046103472537448245), (135, 0.004609422560900165), (305, 0.004608912986979318), (2246, 0.004604721551112668), (389, 0.0045928926555422215), (619, 0.004592008813534647), (460, 0.004591946474043866), (4248, 0.004586070327996085), (3432, 0.00457959570783518), (4708, 0.004578152801117167), (4665, 0.004575605255719265), (375, 0.004559317565774011), (2847, 0.004554869102789387), (233, 0.004553254985288596), (3161, 0.004551187168761801), (3443, 0.004550394474658327), (467, 0.0045476787092075905), (4264, 0.00454624722656051), (1573, 0.004544910721244759), (1857, 0.004541703501595063), (1127, 0.004540712375358485), (3602, 0.004536165102704674), (1622, 0.004534966118457996), (634, 0.004532017668175815), (1082, 0.004530923132656162), (4211, 0.004528622817440264), (927, 0.004525247754470468), (1635, 0.0045244140400680045), (633, 0.0045195689450570255), (90, 0.004511298820312949), (2232, 0.0045071342704136605), (4039, 0.004497181173511471), (1933, 0.004496946860875293), (1846, 0.004494151496336112), (1953, 0.004482532871190866), (152, 0.004480162377431886), (3583, 0.004479553777020868), (3555, 0.004471280542747129), (1347, 0.004456071224498093), (2245, 0.0044559238644446015), (3011, 0.004454894047740582), (2432, 0.004446831956179276), (3664, 0.004434450523125298), (310, 0.0044324607065052745), (3886, 0.0044305555437740545), (1632, 0.004423258499538447), (4438, 0.004422951263287813), (93, 0.004418656840322172), (3126, 0.004418094007533676), (3970, 0.00441235901817224), (1633, 0.004408178160738385), (1207, 0.004407380155076317), (1993, 0.004404753943201429), (3824, 0.004403203520833348), (3881, 0.004399498239922743), (4587, 0.004396915493480532), (2711, 0.004389725240886559), (2787, 0.004386794249015826), (4441, 0.004382409607814833), (1631, 0.004376975220158413), (260, 0.004375759434559263), (1428, 0.0043732088719860346), (1211, 0.004371438026142519), (3361, 0.004367134773433362), (4071, 0.004365080839408345), (4151, 0.004357507674573638), (3723, 0.004353829586358225), (4292, 0.004346641270334503), (3823, 0.004337632521968427), (3133, 0.004336292620515619), (1914, 0.0043357717271408636), (1451, 0.004333419161392226), (2139, 0.004329829930682734), (661, 0.004327776691481764), (3135, 0.004320968927313894), (974, 0.00431872120142841), (4585, 0.004316825219797294), (426, 0.004315083525299143), (3788, 0.004312418804018253), (810, 0.00431024470610246), (4328, 0.004309779076309047), (3100, 0.0043093976297925605), (2682, 0.00430424398851454), (3136, 0.004302789301984928), (3966, 0.004302620439293622), (3338, 0.004298076523995532), (690, 0.004292327916105059), (2442, 0.004290553298955562), (2660, 0.004289301064415874), (4697, 0.004288320125964997), (1480, 0.004288052651907407), (3143, 0.004284662611376249), (316, 0.004275668536878031), (1562, 0.0042731699418304), (1623, 0.0042720073056617385), (3079, 0.004251719719739137), (306, 0.004250577618359522), (1197, 0.004241742454974192), (94, 0.004236585948952706), (2984, 0.004235521067904496), (4274, 0.004230225814165784), (80, 0.004227109798982706), (4322, 0.004224059410919858), (397, 0.004218130295350773), (4339, 0.004214172565029606), (1281, 0.004210757877745523), (1840, 0.004197512097260954), (4193, 0.004195492760646212), (1784, 0.004189175005907085), (3534, 0.004188386236756716), (4044, 0.004185917988001526), (3247, 0.004172448145238135), (4290, 0.004163826251867192), (893, 0.004160011744378803), (898, 0.004155926036290059), (997, 0.004149127110904068), (2678, 0.004130445306673907), (323, 0.004126702166598835), (932, 0.0041240318599223), (803, 0.004123319018849689), (191, 0.00411617790201361), (4582, 0.004115089528140448), (1154, 0.004112052748094562), (559, 0.004110087166529763), (3495, 0.004102292524056775), (611, 0.00407474121950208), (4365, 0.004063496237183203), (2299, 0.004055627755214389), (3160, 0.004052363978554839), (756, 0.0040510836090402675), (3619, 0.004047587780381726), (187, 0.004046624716605281), (4571, 0.00403004995905347), (4468, 0.004028035082793067), (1925, 0.00402731300929992), (1590, 0.004022298707395246), (3178, 0.004009837888876761), (1772, 0.004003333399430373), (1559, 0.003992703732862145), (1699, 0.003991474843652324), (4426, 0.003980631223261024), (234, 0.003970509617032526), (3339, 0.003970201087966742), (625, 0.0039700919528630274), (1546, 0.0039687964989061015), (1753, 0.003965524253339128), (2801, 0.003957482166523577), (3776, 0.00395109019216415), (1309, 0.003948380480033668), (1120, 0.003933222812334196), (3405, 0.003921088336881911), (2541, 0.003914935281133384), (723, 0.003905451704110582), (1458, 0.003904651594659914), (1910, 0.003897392208484155), (639, 0.003895629946806929), (3806, 0.003891967785171729), (3512, 0.003889013171202378), (2757, 0.0038818149563784156), (314, 0.00386727864603967), (640, 0.003862120234585781), (3484, 0.003836623982975266), (4555, 0.003822393043576866), (4513, 0.003816259526860173), (469, 0.0038125681688557884), (2998, 0.003807469070934451), (738, 0.00380050542824053), (2573, 0.0037816412403020687), (3925, 0.0037750382833963), (290, 0.0037646025269972177), (76, 0.0037642771162936252), (295, 0.0037622811700992434), (1164, 0.0037512621307350573), (3944, 0.003718810489424915), (3989, 0.0037165667421229062), (1395, 0.0037135203999899623), (289, 0.003702706209227987), (1576, 0.0036952051361189295), (4607, 0.003682819782953627), (2529, 0.0036815468729244245), (294, 0.0036732829549063557), (2078, 0.0036690612024628845), (2379, 0.0036601865946633357), (2490, 0.003655433841287204), (2937, 0.0036418513127225525), (3523, 0.003635675158808224), (4705, 0.0036260817428888804), (2326, 0.0036225713051403125), (3051, 0.003617701658361142), (2764, 0.003613273940570898), (3672, 0.003603859110894286), (2858, 0.003594793230747527), (2137, 0.0035945925620135804), (3139, 0.0035907551640025526), (4082, 0.00358280122205307), (2722, 0.0035603643441040962), (2189, 0.0035601273816176465), (4202, 0.003546305715914872), (3040, 0.003541823977779952), (2989, 0.003533948201952056), (2251, 0.003528765524922965), (3166, 0.0035179839931373026), (2349, 0.003511569740426779), (1145, 0.0035070545267648348), (2407, 0.003505785923314623), (3990, 0.003500660434369241), (2889, 0.003491315543824116), (2537, 0.0034791458040229705), (77, 0.003476980872095499), (4704, 0.003464734517458659), (3052, 0.003464159943233294), (735, 0.003463159634339838), (3055, 0.0034510966937722886), (2404, 0.0034495650395905005), (2775, 0.003443022569045042), (4017, 0.0034416299225726275), (2870, 0.0034381012735800014), (3561, 0.003438052370675986), (3042, 0.0034363661000082163), (3030, 0.0034357627126280015), (627, 0.0034341999825618446), (2883, 0.003432062958059232), (2923, 0.003417166947221909), (3291, 0.0034081886534521894), (2731, 0.003404339062511265), (4749, 0.0034036456368132157), (4222, 0.0034013828055934094), (4529, 0.0034005010522372646), (2310, 0.0033909407420161346), (4221, 0.003390872397994604), (3479, 0.0033870072429741257), (4484, 0.0033814476312483683), (4611, 0.0033805137878272673), (3939, 0.0033779025927503665), (2673, 0.0033738107663759957), (2861, 0.003361654585292839), (1210, 0.0033546679070800924), (4172, 0.0033528725699006785), (2559, 0.0033339816446641937), (3878, 0.0033333249663985306), (4418, 0.003330912615368857), (2832, 0.003328358371392943), (4696, 0.0033226057436817526), (2628, 0.0033200750239033732), (4407, 0.003317390193547925), (3219, 0.003314404248274218), (2448, 0.003312180628444434), (2392, 0.0033114422157635385), (3292, 0.0033107771042186927), (3762, 0.00330411757499818), (2199, 0.003301396132983232), (3892, 0.0032969468162486887), (3282, 0.0032890614008540533), (4423, 0.003288729379767851), (4019, 0.0032877144876280353), (2425, 0.003286983090237742), (2643, 0.003280052907901832), (2257, 0.003265288941763766), (3322, 0.0032640971868044587), (889, 0.003263982140942741), (3262, 0.0032633245940029516), (2350, 0.00325898047079926), (2901, 0.003256227513237159), (4230, 0.003249625623118119), (4142, 0.0032425169740557275), (2838, 0.0032411818306879335), (2286, 0.0032411344327654677), (1153, 0.0032346284116908913), (1208, 0.003233402541827205), (4400, 0.00323306097982072), (4102, 0.0032201764133058803), (3848, 0.0032176256582615117), (3015, 0.0032138288529427426), (4606, 0.0032107990543004962), (3239, 0.0031975367271760966), (3128, 0.003197007951514602), (2423, 0.003196216137743943), (3354, 0.0031930841877435712), (3140, 0.003191775106003641), (526, 0.0031892059612266465), (475, 0.003183017020864471), (1711, 0.003180428719665651), (1121, 0.0031774370506779245), (3687, 0.0031677160464612685), (4692, 0.0031658445386857584), (4521, 0.0031656248700788828), (4544, 0.003163843742069543), (3363, 0.003163022311998248), (3616, 0.003153843318530539), (3357, 0.0031524982659526623), (2834, 0.00314646446990567), (3537, 0.0031457463849610887), (2557, 0.003145443106586993), (2438, 0.003141434949500873), (3159, 0.003138905401171387), (3429, 0.0031366553343255815), (4306, 0.0031355357755684875), (3577, 0.003134300423040642), (4107, 0.0031316484334973902), (3922, 0.0031308493874409268), (2857, 0.0031306293625923613), (3613, 0.0031282114428502436), (2266, 0.0031228492472702065), (4572, 0.0031126376024216505), (3074, 0.0031116199020941445), (4298, 0.0031114236658140513), (326, 0.003105938774714085), (2797, 0.003104258374734227), (2957, 0.0031027576887766853), (3874, 0.0031013363262410347), (4723, 0.00310090615463497), (2488, 0.0030994924411226936), (3031, 0.003098080340964135), (3832, 0.003096146879951484), (2848, 0.0030957310537843), (3302, 0.003090102959529381), (3620, 0.0030882893020226327), (4147, 0.0030881294441047137), (3544, 0.0030871824814445417), (2966, 0.003083110206798772), (3358, 0.0030790201365820634), (3020, 0.0030788992114505528), (2415, 0.0030774782113262584), (1593, 0.003073536197767713), (3206, 0.003068521345130194), (2454, 0.0030625130786813577), (2993, 0.003059036294957494), (3257, 0.003055972375457137), (2619, 0.0030541950397158135), (777, 0.003048206537715965), (3413, 0.0030462569383745484), (1168, 0.0030455201632660664), (2895, 0.003035734397694937), (489, 0.003033907649847658), (2434, 0.0030319578792125535), (3911, 0.00303052451245541), (4458, 0.003024789988948817), (1049, 0.0030073286045681187), (4280, 0.0030057193500140156), (2772, 0.003004298617678023), (3308, 0.0030025452049455338), (2986, 0.0029999075948067633), (4717, 0.0029946805054474088), (2738, 0.002992961118255661), (431, 0.0029909808972183064), (4632, 0.0029900152728193187), (3763, 0.002988962008197595), (3935, 0.0029885096547979943), (2613, 0.002987833615753465), (4416, 0.0029853335777020916), (2570, 0.002985006527074178), (3081, 0.002984739096348554), (2378, 0.002984702466710939), (3621, 0.0029843451284689345), (3745, 0.002983416534820059), (4584, 0.0029816502268501864), (4633, 0.0029805712061734815), (1792, 0.002980454256720252), (4694, 0.0029799396515033144), (1187, 0.002979770691711471), (4145, 0.0029791881546168577), (2707, 0.0029766094818745683), (518, 0.0029732402429394856), (2720, 0.0029724638078420245), (1748, 0.002969346654113988), (4030, 0.0029685098507899778), (4589, 0.002968495055423245), (1169, 0.002968248475121234), (4075, 0.002959310749705171), (3540, 0.0029580551139992647), (2142, 0.002957911816921575), (1547, 0.0029538683671561368), (3359, 0.0029515322197334465), (4126, 0.0029512048892630515), (2544, 0.002950977553805173), (3884, 0.0029508011050974983), (2320, 0.0029483683178666044), (2696, 0.0029482119642483444), (3072, 0.0029477207530535492), (3307, 0.0029460254497445243), (4002, 0.0029453637825473953), (1947, 0.002944168345871454), (2269, 0.0029435278244624215), (2924, 0.002941313927795408), (3754, 0.00294123732407041), (3729, 0.002939207932414357), (3425, 0.002938660148668835), (4713, 0.0029359206463355366), (3230, 0.0029279919041756575), (2987, 0.0029279224859267345), (3364, 0.0029277933783362665), (2884, 0.002927723897692589), (448, 0.0029273791170721856), (3419, 0.002926833737465544), (3337, 0.002926360855104773), (3396, 0.002925354196686554), (3506, 0.002925090773173954), (3866, 0.0029234354102327348), (4650, 0.0029227923349272288), (2872, 0.002919385177617543), (4369, 0.0029178234754435894), (3355, 0.0029177922097563735), (925, 0.002916183387409237), (508, 0.0029161753848960135), (4507, 0.002913088748170219), (3165, 0.0029129982157773643), (4267, 0.0029122220382451474), (2478, 0.002911461177243871), (614, 0.00290989792253315), (3952, 0.002908452739992948), (4516, 0.0029082392469185234), (1656, 0.0029077079992601354), (3639, 0.0029025843465260875), (2796, 0.002902421975777824), (3651, 0.002901290672648267), (985, 0.002901203439820041), (2702, 0.0028986752398810866), (4295, 0.0028956476258980364), (4117, 0.0028951057091739976), (1497, 0.00289446576555683), (739, 0.002894012255446743), (4753, 0.0028919487884017663), (4243, 0.0028872437447467303), (3772, 0.0028861665077737704), (3296, 0.0028845687282931273), (2223, 0.002883657739557414), (3611, 0.002881671319418458), (2302, 0.0028806560860410685), (2629, 0.0028789827889471042), (2437, 0.0028786888060857926), (1909, 0.0028786576539522103), (3186, 0.002875686598671847), (998, 0.002875096610449085), (1887, 0.0028740961062598642), (999, 0.0028727435442566034), (2411, 0.0028718128480025207), (3148, 0.0028715022964075974), (2623, 0.0028711452225422974), (478, 0.0028703090546665397), (2400, 0.0028685555016257766), (2914, 0.002868252351944781), (235, 0.0028626037655011655), (3013, 0.0028610165731193576), (576, 0.002858999118369583), (1349, 0.00285762811025138), (3274, 0.0028575753057830207), (3587, 0.0028569324986325506), (419, 0.0028564076731825015), (4368, 0.002854344086319595), (4333, 0.0028538356132755452), (3560, 0.0028496344498493186), (813, 0.0028484923414636154), (3962, 0.002848391112204595), (2974, 0.002847448826702877), (922, 0.00284543190818928), (4718, 0.002844408783172781), (596, 0.002841667503161745), (2916, 0.0028408048332358568), (1862, 0.0028404195325150506), (1594, 0.002839568084275876), (3414, 0.0028389857733314592), (4535, 0.0028386710230197294), (2134, 0.0028368228829513896), (308, 0.002836039428752784), (2356, 0.002835167909469329), (4401, 0.002833596125018068), (3737, 0.0028319594615577055), (3593, 0.0028311413543016003), (4051, 0.0028294868139303216), (3804, 0.002829137270933287), (1474, 0.0028283790706451106), (444, 0.002825858774682473), (3877, 0.002823766391590152), (3273, 0.00282353327570058), (2585, 0.002823318914999516), (2830, 0.0028226149209496683), (4397, 0.0028225842511361253), (41, 0.0028220612513682524), (4706, 0.00281767098412393), (3003, 0.002817373993822036), (4259, 0.0028171123677211895), (4113, 0.0028169590729902245), (2108, 0.0028149681631918447), (1890, 0.002814173123132308), (1109, 0.002812253640075932), (3062, 0.0028117656637352906), (4138, 0.002811175665091937), (2535, 0.0028109713012137647), (2592, 0.0028077159504372807), (3967, 0.0028036445992062004), (3026, 0.002802065432959627), (3101, 0.002801975252648181), (4042, 0.0028011681307968453), (857, 0.0028006579787448836), (2176, 0.002799738652446759), (1580, 0.0027985796143798237), (2890, 0.0027985606578063223), (2159, 0.002796642519650155), (4263, 0.0027933745595439814), (3417, 0.0027933086614350885), (587, 0.002789246217675594), (3116, 0.0027869581898004835), (476, 0.0027839829553150115), (3677, 0.0027839214224453152), (2410, 0.0027822668653526748), (4446, 0.002782149984041176), (1479, 0.0027816518653624054), (4308, 0.0027812821125682), (1733, 0.00278081968063316), (2390, 0.00278029308266928), (3183, 0.002777237875199438), (2624, 0.002775130272788046), (253, 0.0027728619056607952), (3234, 0.002772188328120311), (3714, 0.002772130097690375), (4130, 0.0027720301380200125), (318, 0.0027716213992394355), (4140, 0.002771074176592469), (3497, 0.0027710447255302117), (4101, 0.0027681114618960017), (3813, 0.002767235426300998), (4732, 0.0027662301144192277), (3749, 0.002765280753409115), (1905, 0.002765022738371266), (3044, 0.002764551763558158), (2293, 0.0027644911596349914), (1805, 0.0027632161822077734), (499, 0.002760042990982669), (3064, 0.0027596699778360194), (2748, 0.0027578844179992276), (3258, 0.0027578268313340052), (887, 0.0027576749224545974), (4087, 0.002757014892292607), (2882, 0.0027559720055843886), (2507, 0.002755050857258632), (3915, 0.0027547260209605175), (8, 0.0027543335470164663), (4528, 0.0027542947624417113), (2595, 0.0027508174308408452), (3889, 0.0027505286173344057), (2888, 0.0027472806692475423), (2705, 0.0027461280207631174), (4545, 0.0027445443902041006), (1959, 0.0027434360138272663), (3269, 0.0027434131677741983), (192, 0.0027430559563033185), (4734, 0.0027408297226725643), (3449, 0.00274058636453638), (3271, 0.0027403415978842337), (3893, 0.0027398348303490174), (4024, 0.002738817823037397), (3757, 0.0027358120658869957), (2190, 0.0027337675859246567), (2776, 0.0027315257028121924), (1518, 0.0027314707555649094), (1848, 0.0027301751429851424), (1907, 0.0027299453987985325), (4132, 0.002729915146874504), (4161, 0.0027284295702252356), (4657, 0.00272766942235733), (2475, 0.0027274386737216644), (1995, 0.0027271106496794184), (4540, 0.0027251255860746932), (4245, 0.0027249016733194827), (791, 0.0027245490827624776), (3184, 0.002724037993344761), (2661, 0.0027225967815229855), (3496, 0.002722348105245073), (395, 0.00272106521247246), (1637, 0.002720463657139302), (4269, 0.0027203946975308474), (3781, 0.0027174020257633258), (4495, 0.002716533945847962), (2786, 0.002715966686361918), (4574, 0.002715543513395254), (872, 0.0027151279537172817), (4111, 0.0027150310497208023), (1683, 0.0027139443671448764), (1409, 0.0027132641602936663), (2260, 0.002713062173204411), (2725, 0.002712359055125161), (3873, 0.0027118935084019494), (4680, 0.0027116711744928136), (2940, 0.002710772343352202), (3007, 0.002709427775494519), (2391, 0.0027087775163753196), (12, 0.002708340354961457), (2393, 0.0027065538121768627), (1324, 0.002705358234925375), (2609, 0.0027051460174360585), (826, 0.002704815148187846), (3601, 0.002704796924602712), (2664, 0.002703826942826442), (3235, 0.002703665113092289), (4357, 0.0027034679302635803), (2970, 0.0027032949511497564), (4355, 0.0027018875230114072), (4169, 0.0027015747367255603), (3987, 0.0027012118924889077), (2105, 0.0027006582225229704), (3434, 0.0026981585993175548), (3678, 0.0026980940701351206), (74, 0.002697321222497816), (680, 0.0026971854142241744), (246, 0.002697163563809614), (3590, 0.0026940584214214624), (623, 0.0026936257054534724), (612, 0.0026927305201672825), (2821, 0.002692429842320299), (1896, 0.002690520691747851), (2361, 0.0026901282387533547), (3084, 0.0026899001407307507), (4489, 0.0026898571212910427), (3314, 0.0026898098056917486), (4471, 0.002689451482618859), (4054, 0.002689240504457996), (456, 0.002687049016489072), (2792, 0.0026869471767721692), (4505, 0.0026845407116629577), (2953, 0.002684490889512162), (4575, 0.002683455745897461), (2288, 0.002682616857696323), (2755, 0.0026817901026760537), (4286, 0.0026814309883877183), (2610, 0.0026802854429516182), (4318, 0.00267995282520947), (1822, 0.002677246887881095), (3037, 0.0026770809629725915), (3406, 0.0026765700485092483), (4, 0.0026759665928032302), (1893, 0.002674980291477653), (4420, 0.002674280774418094), (4566, 0.0026735546109579985), (2878, 0.0026734722698293838), (1916, 0.0026726151622681773), (3388, 0.002672146305255844), (783, 0.002671657768184265), (2385, 0.0026712362062835497), (1007, 0.0026699680308093048), (1670, 0.0026693561451880065), (3882, 0.002669225472758663), (3187, 0.0026688975569496218), (178, 0.002667965049488923), (3654, 0.002667297611504451), (1570, 0.0026672319410395466), (2419, 0.002664517725272706), (262, 0.0026643359555147046), (3372, 0.002663590840347564), (3242, 0.0026627240239371097), (4225, 0.002662303167849778), (1402, 0.002659466738009274), (564, 0.002657027849458249), (4363, 0.002656280498809686), (1439, 0.0026554823490857376), (4497, 0.0026552611205088346), (3493, 0.0026545144823408597), (2083, 0.0026541513520933206), (3150, 0.0026535302094216734), (20, 0.0026527570934446066), (2926, 0.0026523761741113687), (3770, 0.0026521310442793435), (211, 0.0026509436265181466), (1660, 0.0026498822019617014), (4448, 0.0026486240455653193), (4083, 0.002647802731253027), (2561, 0.0026459399529272696), (3241, 0.0026458927031980622), (3845, 0.00264536067742802), (890, 0.0026450709873933557), (717, 0.0026448136161407753), (4419, 0.0026439719893291574), (2531, 0.0026431568888262663), (23, 0.0026429172195160193), (2370, 0.002642265734795532), (4136, 0.002642025728427912), (3224, 0.002640477416532266), (1851, 0.0026403793617911795), (2911, 0.002639526247691848), (3902, 0.0026388324543919197), (884, 0.0026386594931607945), (4361, 0.0026386334816726476), (2904, 0.002637905178614227), (2405, 0.0026377860013835812), (3353, 0.0026367027726778495), (588, 0.0026354138296516643), (2319, 0.0026346960439084625), (1364, 0.002633462452635989), (4625, 0.0026333505042846904), (4262, 0.0026330476415983117), (4756, 0.002632461050300673), (987, 0.002630563204847358), (4079, 0.002629117011058859), (2148, 0.0026287367207624723), (2072, 0.0026280155284696), (3920, 0.0026269850198830523), (11, 0.0026263170118314906), (3517, 0.0026259815785324952), (1703, 0.002624080641588584), (1765, 0.002623080121500158), (4340, 0.0026230583862476183), (3527, 0.0026216332494819416), (4334, 0.0026212769553910806), (4422, 0.0026208834421524514), (4287, 0.0026201914461210334), (3198, 0.002619974529864259), (2863, 0.002614997779838141), (3636, 0.002613638129283211), (377, 0.002613134236024629), (1717, 0.002611987036217893), (1516, 0.0026119169121049377), (3290, 0.0026100030058059252), (4643, 0.0026087964121890832), (1768, 0.0026075507565416424), (1946, 0.002606154682344158), (871, 0.002605879108742159), (2466, 0.0026046209947012903), (2230, 0.0026046209600846023), (865, 0.0026041473034027975), (3016, 0.0026036229481642107), (1294, 0.00260356810870273), (2894, 0.0026026276553647375), (4563, 0.0026006699960084098), (3289, 0.002599146485402696), (3225, 0.002598945361261664), (3809, 0.002598493390633651), (71, 0.002598233031967091), (3445, 0.002597374923532215), (1355, 0.0025971791308945563), (3526, 0.002595503472085825), (4273, 0.0025953107452440383), (3542, 0.002594891823392815), (115, 0.002593300200593264), (2386, 0.00259294748990694), (933, 0.0025901424197287393), (1176, 0.0025888535739499907), (969, 0.002588635847946133), (3113, 0.0025867747290768866), (3606, 0.002585895851771812), (4197, 0.0025854969931686654), (2073, 0.002584790940607842), (3182, 0.0025835580046934636), (3283, 0.0025832882921760798), (2292, 0.0025830825071317524), (1122, 0.0025820607421187945), (3707, 0.0025812562026774188), (2397, 0.002579374719519521), (3792, 0.0025791715630782298), (2746, 0.0025787071567579885), (2313, 0.0025749114546800315), (4049, 0.002573949972108381), (198, 0.002573256321933336), (1204, 0.002573206584190331), (2430, 0.002573152120809181), (1533, 0.0025726575647058076), (4135, 0.0025721544003564083), (579, 0.002570927431235828), (1476, 0.002569492630955095), (4014, 0.0025661071943593977), (3739, 0.0025640637911042356), (2652, 0.002563989720311715), (1410, 0.0025632853630778354), (4391, 0.002563059388397236), (3335, 0.0025624988480590443), (4501, 0.0025623314809338042), (1722, 0.0025610950655021386), (3551, 0.0025597255630833856), (1574, 0.0025593435180176335), (1706, 0.002559280265609513), (2396, 0.0025592317330554275), (4266, 0.002559182443926289), (2554, 0.002558519538702846), (848, 0.002557744428375922), (993, 0.002554833899416498), (2192, 0.0025540715080322415), (2169, 0.0025525752827928266), (2783, 0.002552340094267794), (2492, 0.0025520544443002457), (4686, 0.002551643339660422), (504, 0.002551508415229109), (2067, 0.0025514295143559346), (2533, 0.0025508245122476576), (4604, 0.0025498804584698246), (2826, 0.002549723716021327), (378, 0.002547043242925245), (3491, 0.002546138032500976), (3564, 0.0025460210758847046), (1131, 0.002544645217036425), (3341, 0.0025432834702508117), (2340, 0.002542464113880335), (1170, 0.002539030797647179), (2354, 0.002538709830463113), (114, 0.002538593432573124), (749, 0.002537705888891391), (4330, 0.00253759563114658), (1304, 0.0025370239986737347), (3478, 0.0025361871902406415), (2495, 0.0025359570773834284), (226, 0.0025358335946023417), (1378, 0.0025340273053027075), (4427, 0.002533334775450861), (1163, 0.0025317112602762436), (66, 0.0025312341363153924), (2387, 0.002530666096103633), (4320, 0.0025297404552931534), (2195, 0.0025294940131200027), (2900, 0.002528116234955642), (2943, 0.0025270661897384182), (3673, 0.0025259098893481075), (3216, 0.002523810162634958), (2853, 0.0025234742839204257), (4056, 0.0025224767280474544), (1298, 0.0025221305830124743), (2999, 0.0025217999584430033), (4409, 0.0025211780579558235), (2289, 0.0025186187714120985), (4394, 0.002516685249546862), (3441, 0.0025153505923608713), (3477, 0.002514868609303398), (1891, 0.0025141756377858905), (400, 0.00251289546460505), (1072, 0.002511969113336023), (490, 0.0025114046023391725), (4520, 0.00251065636202738), (348, 0.0025106049309844727), (2060, 0.0025104283919120114), (3565, 0.002509988657408572), (1831, 0.0025076495173526085), (247, 0.002507649315273456), (466, 0.002507384990996102), (1411, 0.0025061728502699713), (2569, 0.0025060501697395116), (3381, 0.002505897357895813), (4228, 0.002505610963151872), (1598, 0.002503578013704265), (1666, 0.0025010320929579662), (1550, 0.002500843149361938), (2416, 0.0024995988683299913), (1313, 0.0024991701666688348), (973, 0.0024986829749220254), (4487, 0.002498674942563265), (3173, 0.0024976685366919467), (3093, 0.0024959578802307074), (2946, 0.0024959286076673085), (3906, 0.002495287660533279), (3647, 0.0024952762541183417), (1100, 0.002494207439481666), (1110, 0.0024929035561424492), (169, 0.002491783750451106), (215, 0.002491610501274281), (1026, 0.0024886894329191793), (1319, 0.0024882460941023266), (4020, 0.0024881089755816052), (3557, 0.0024870467081049524), (3827, 0.002486666559187951), (3379, 0.0024864932425056924), (1286, 0.0024863444285309457), (1084, 0.0024851270070419744), (1882, 0.002484915947496337), (2111, 0.002484294204794003), (98, 0.00248340938176191), (2945, 0.0024825994654153038), (26, 0.0024815199490618002), (4530, 0.002480367673515684), (2226, 0.0024799385815856712), (4687, 0.0024798705471827), (3220, 0.002478699076060922), (4036, 0.002478077422724702), (3069, 0.0024767080275248632), (1617, 0.0024759756901920225), (3719, 0.0024754549920114216), (3706, 0.0024751333238974306), (4743, 0.002474603104085691), (3412, 0.002473500072167002), (2909, 0.002473493900684701), (3402, 0.0024714558599442256), (1350, 0.002470461927847056), (1408, 0.0024700615971213528), (127, 0.0024694587388694603), (1422, 0.0024693633273359873), (1284, 0.002468849236494781), (2401, 0.002464829336269373), (755, 0.0024647317404651358), (3765, 0.0024636042749015424), (4693, 0.0024635743266324837), (959, 0.0024634028936061187), (3075, 0.002463151112658168), (1813, 0.002462243478839766), (2422, 0.0024618756983894995), (4183, 0.0024598501729012844), (349, 0.0024597751017132285), (2461, 0.0024590433491334033), (4381, 0.002458728622652153), (4550, 0.0024586748500938596), (4573, 0.002458614741936614), (4129, 0.0024548456995279735), (3348, 0.002454413673103588), (3890, 0.0024536526556442157), (541, 0.0024531262551875303), (488, 0.002453124966462652), (4472, 0.0024516055231321734), (2571, 0.0024503212988856386), (1645, 0.0024501016352676042), (3298, 0.002449889141972864), (4069, 0.0024496794215734174), (1247, 0.002449604610534502), (2612, 0.0024494145037263775), (2268, 0.002449391524423003), (3641, 0.0024493907161684263), (4139, 0.0024490787046745617), (1969, 0.0024475444749093773), (1463, 0.0024452807156080236), (2642, 0.0024435014093075946), (1597, 0.0024430773578123536), (4461, 0.0024415519508728914), (3917, 0.0024396790123713268), (646, 0.0024389251045113143), (3900, 0.002438771217157476), (1117, 0.0024363948721887476), (2131, 0.0024363566535109513), (4729, 0.0024361362289319404), (2117, 0.002432738926313127), (3503, 0.0024319481504375285), (1034, 0.0024287885484453667), (487, 0.0024278315922302163), (2367, 0.0024277017381169885), (731, 0.002426041885645131), (1027, 0.002425178530119394), (2141, 0.00242412156867798), (4567, 0.0024239308498221444), (1416, 0.0024236082196454393), (4536, 0.0024230497488252263), (4155, 0.0024229225872662036), (883, 0.002422689099820759), (3214, 0.0024212685427485426), (2779, 0.0024210805376161204), (3268, 0.0024206147492601745), (854, 0.0024204130433707048), (798, 0.002420279154987218), (1877, 0.002420130506591283), (1744, 0.002419466647815223), (1929, 0.0024177987312427804), (1002, 0.0024164625079969525), (3390, 0.0024164444715753866), (157, 0.002415439486141447), (4085, 0.002413872752453439), (1273, 0.00241372964489964), (3691, 0.0024132941512466618), (3170, 0.0024127694654795177), (984, 0.0024124304913493468), (4213, 0.002411633257182007), (221, 0.002411361490287575), (2765, 0.0024107410707284744), (2242, 0.0024106327127107344), (2068, 0.0024099656054347002), (505, 0.002409323202911005), (2965, 0.0024091872105101776), (4206, 0.0024090792775228152), (4428, 0.0024082352367095087), (2892, 0.0024074500325428775), (3898, 0.0024067454994173855), (767, 0.002405830891505593), (4345, 0.0024056806139171995), (3799, 0.0024040976357289317), (373, 0.0024035937816996485), (2679, 0.002399906962190324), (698, 0.002399544762154424), (2651, 0.002399527090955675), (3646, 0.002398125884687227), (1742, 0.002398036686183952), (1404, 0.0023973664832842947), (2997, 0.0023971601065590838), (325, 0.002396607136979531), (2800, 0.002396136918108817), (1032, 0.002395440149663579), (3014, 0.0023942259924392586), (388, 0.0023942044323020653), (3194, 0.002393826048162591), (1036, 0.002391995314691645), (3811, 0.0023908909837663888), (1663, 0.0023892673771611765), (2166, 0.002388531571930009), (3615, 0.002388296766524122), (2525, 0.0023881792409710723), (2004, 0.0023836845211184176), (3300, 0.0023833694605941173), (4011, 0.0023818585917991975), (507, 0.0023814032611240723), (4254, 0.002381355869945804), (1693, 0.00238125826288348), (154, 0.002380610004741567), (3057, 0.0023791981149129493), (1372, 0.002379092284915241), (886, 0.002377685816062925), (140, 0.0023757143815839364), (3071, 0.0023755248561706534), (941, 0.0023753858347316313), (3243, 0.0023753766953138553), (975, 0.002374254485406639), (4059, 0.0023717520410445306), (2552, 0.0023711683412701526), (2099, 0.002370514864288073), (1884, 0.0023704895535816193), (2634, 0.0023697651035010894), (471, 0.002368427181806095), (655, 0.0023683578516378546), (4634, 0.002366537186237376), (229, 0.002364464894441411), (2862, 0.00236358722606658), (372, 0.0023630726175345187), (598, 0.002363017019179979), (944, 0.002362909437140335), (659, 0.0023624315239011303), (3725, 0.0023614834077740256), (3147, 0.0023610495805435113), (410, 0.0023595146802160606), (2201, 0.002359272840430378), (4356, 0.002358670992777147), (1558, 0.0023575804558839345), (2446, 0.0023555939250982988), (2528, 0.0023552329351234197), (1456, 0.0023540541645859295), (3500, 0.002352966728399302), (2907, 0.0023521461999904784), (1641, 0.0023518531695646367), (2556, 0.0023516975035823683), (589, 0.0023504596104199846), (2129, 0.002350041367477206), (399, 0.0023500375059201137), (1642, 0.002347271044462082), (2317, 0.002346650633681952), (3627, 0.002346613265148603), (805, 0.0023452728300887567), (4616, 0.0023428090596489324), (136, 0.002342053663543897), (2735, 0.002341654335424115), (2399, 0.0023410933373043154), (2593, 0.002339930796183013), (3369, 0.0023393798748198896), (355, 0.002338600461277963), (2482, 0.0023377306593093767), (324, 0.0023375564513999506), (1357, 0.0023372106844995522), (1543, 0.0023366207244844292), (4479, 0.0023358563951205434), (1814, 0.002335195713558715), (2674, 0.002334618638576613), (4174, 0.0023343493902812707), (2845, 0.0023343307734320145), (4348, 0.0023323300386728536), (907, 0.002332300601765917), (1079, 0.0023322559654003526), (2453, 0.002330973019391161), (121, 0.0023309647694089563), (3455, 0.0023287089983759627), (457, 0.002327732812904547), (359, 0.0023274681266520665), (524, 0.002326628494390853), (4326, 0.0023252246844545858), (416, 0.002324088327746965), (3050, 0.002323618032452493), (4277, 0.0023230286175405803), (1672, 0.002321722396026475), (1628, 0.0023205936685129582), (624, 0.0023197786136598814), (1782, 0.0023196197449962324), (4620, 0.00231727195620905), (3742, 0.002316604456287793), (2954, 0.002315748814608356), (1434, 0.0023155273672975777), (4359, 0.002315457705635693), (4638, 0.0023135084446129625), (3563, 0.0023114996233486447), (759, 0.002309117906857392), (2728, 0.0023085003156347404), (3953, 0.0023075672917894073), (3278, 0.002306109060903631), (1528, 0.002303568038250878), (1503, 0.00229947342488938), (2402, 0.002296822088102547), (3304, 0.0022964795595691884), (1869, 0.0022962581361569956), (3614, 0.002295596338649645), (473, 0.0022945038896853643), (3311, 0.0022941875363447282), (1827, 0.002293422535226092), (1826, 0.0022933726714825576), (2338, 0.0022913946207671343), (1605, 0.0022912512467324424), (1161, 0.002289389845898506), (1719, 0.002288890438865886), (2323, 0.002288710033556969), (1366, 0.002287746831385266), (4350, 0.0022859700538679396), (4712, 0.0022846896996839036), (2741, 0.0022835488818161043), (1080, 0.002283153078480931), (3336, 0.0022827623066486316), (4074, 0.0022823850645029334), (3027, 0.0022822077528129765), (3986, 0.0022819497828374434), (2457, 0.002281400117753307), (1625, 0.0022805657073798956), (4143, 0.0022797552107130963), (3863, 0.0022790086794717717), (722, 0.0022788621644894975), (4304, 0.0022762430833830217), (2591, 0.002275344532719518), (1219, 0.002275219115804935), (158, 0.002274967685727569), (3327, 0.0022748666683518074), (1980, 0.00227477464899649), (1808, 0.002274528278954003), (4080, 0.0022740107861656984), (1004, 0.0022732257076968914), (2976, 0.0022719244680200154), (3795, 0.0022686851808269076), (594, 0.0022668822325154735), (1921, 0.00226658677711873), (815, 0.002265810207528326), (856, 0.002263834787264893), (2163, 0.0022629965639827504), (268, 0.0022620244651643815), (1318, 0.0022618699066821774), (2213, 0.0022616680757847943), (1392, 0.0022549171667648254), (703, 0.002252830558764676), (3380, 0.0022513613222782006), (1423, 0.002250838550875257), (132, 0.0022485035909542398), (1830, 0.002247218249834534), (1394, 0.0022470021552231235), (1954, 0.0022466176603640644), (1251, 0.0022442547715836978), (4343, 0.002243294059099312), (495, 0.0022431563403783133), (3755, 0.002241461077547312), (2047, 0.0022411341263223567), (712, 0.0022406993971376544), (2502, 0.00223764903510972), (4220, 0.0022373580615292327), (1199, 0.002237279405744827), (2753, 0.0022342808694140515), (184, 0.0022333195719391554), (92, 0.002231938202318901), (605, 0.0022316315763223366), (4247, 0.0022291096577025686), (1616, 0.0022287724411460983), (4066, 0.002227252098130379), (97, 0.002225672039651193), (2240, 0.0022256256462686403), (480, 0.0022254937857947676), (647, 0.002225248093371474), (3894, 0.0022242858410916593), (249, 0.0022242181571218047), (1301, 0.002215732627951938), (4296, 0.0022091218180194483), (4473, 0.0022088482857684994), (1943, 0.0022075058990114116), (2721, 0.0022037253425713542), (4429, 0.002202062550120158), (1217, 0.0022018181096331805), (2520, 0.0021985696707984234), (2747, 0.0021975775185931763), (103, 0.002196696924815654), (3211, 0.0021958742889033934), (165, 0.002192430843204887), (2270, 0.00219130592332667), (357, 0.0021885661052920605), (1828, 0.0021883753970884136), (4386, 0.00218734688146368), (1370, 0.002186813531333692), (1450, 0.0021855787670099175), (278, 0.0021843202599993133), (3238, 0.0021825937843072797), (2527, 0.0021813091911791218), (3393, 0.0021812533691201504), (286, 0.0021763451606793822), (2611, 0.0021758158812791722), (3569, 0.002174456030263495), (2743, 0.002174428378375937), (4411, 0.002172750642469467), (2382, 0.002172550292225871), (4476, 0.0021702148234961057), (1088, 0.002168028396331156), (1565, 0.0021678323941890097), (2146, 0.0021674057808973805), (1691, 0.002164018010334086), (432, 0.002157573346153142), (3200, 0.0021549128346638855), (1352, 0.0021543285954857753), (2758, 0.002153957079075249), (1340, 0.002153835131845671), (3855, 0.002151981507583706), (626, 0.0021492988165263674), (3669, 0.00214929577871008), (267, 0.0021492676003019005), (3668, 0.0021466768089874176), (951, 0.002141013818313958), (3657, 0.0021402453501994092), (4636, 0.0021387597745254486), (2039, 0.0021333513682361693), (707, 0.002133185976689703), (195, 0.0021317422811621754), (196, 0.002130241788619929), (1801, 0.002129912236167644), (2127, 0.0021291085789020394), (3347, 0.0021286521604270314), (2132, 0.002118807318914566), (3928, 0.002118505549736894), (1042, 0.0021181778347175257), (2359, 0.0021168368849086407), (2287, 0.002115909997010881), (1209, 0.0021134636228278113), (3252, 0.002113286442481704), (3056, 0.002101035489155866), (901, 0.0021006570803087372), (3024, 0.002098006477285881), (4200, 0.0020968865998536737), (1305, 0.0020966909382619018), (4015, 0.002092105915652035), (2034, 0.002089491496826586), (3548, 0.0020856240241655002), (2509, 0.0020841748846264375), (1427, 0.0020790061804810836), (1415, 0.002077914644244706), (2526, 0.0020750832006275386), (645, 0.0020714050466539096), (1624, 0.0020638114682631757), (4311, 0.00206051039801924), (4744, 0.002055966077073321), (2441, 0.002053736643431966), (4626, 0.002050481727273585), (3575, 0.0020489254243474405), (3431, 0.0020366287014385314), (194, 0.002034839745506438), (3538, 0.0020222667751278976), (2766, 0.0020124065471371724), (2010, 0.0020028590070789534), (1677, 0.001995311917545588), (4598, 0.001989708285475718), (3301, 0.0019860420011163526), (1040, 0.0019808664673990114), (3199, 0.0019640006274080314), (607, 0.00195429012036482), (3626, 0.0019457778288461563), (453, 0.0019393347333000763), (351, 0.001934949810470641), (228, 0.0019207863172057056), (2636, 0.0019040719219632182), (4445, 0.001903935600604458), (1277, 0.0018965691925550338), (3546, 0.0018921856768456724), (4301, 0.001881648020866405), (2902, 0.0018652926953995987), (4752, 0.0018166836686154622), (293, 0.0018032932320903585), (4171, 0.0017924201375203218), (3365, 0.0017885245766340776), (129, 0.0017710145837505121), (740, 0.0017013738490800241), (3392, 0.001685166142478692), (202, 0.0016641723699352556), (24, 0.0016564482636435309), (1780, 0.001654444868067222), (3608, 0.0016519407502508059), (2534, 0.0011313649045941105), (1, 0.0), (2, 0.0), (14, 0.0), (17, 0.0), (28, 0.0), (36, 0.0), (37, 0.0), (49, 0.0), (53, 0.0), (54, 0.0), (55, 0.0), (58, 0.0), (59, 0.0), (64, 0.0), (73, 0.0), (91, 0.0), (100, 0.0), (101, 0.0), (117, 0.0), (133, 0.0), (134, 0.0), (141, 0.0), (146, 0.0), (150, 0.0), (151, 0.0), (153, 0.0), (163, 0.0), (171, 0.0), (186, 0.0), (188, 0.0), (205, 0.0), (214, 0.0), (219, 0.0), (223, 0.0), (225, 0.0), (237, 0.0), (245, 0.0), (258, 0.0), (259, 0.0), (264, 0.0), (265, 0.0), (272, 0.0), (275, 0.0), (297, 0.0), (298, 0.0), (299, 0.0), (302, 0.0), (312, 0.0), (319, 0.0), (331, 0.0), (335, 0.0), (337, 0.0), (338, 0.0), (339, 0.0), (344, 0.0), (352, 0.0), (361, 0.0), (362, 0.0), (365, 0.0), (366, 0.0), (376, 0.0), (379, 0.0), (382, 0.0), (390, 0.0), (391, 0.0), (392, 0.0), (393, 0.0), (394, 0.0), (401, 0.0), (404, 0.0), (405, 0.0), (411, 0.0), (415, 0.0), (423, 0.0), (427, 0.0), (439, 0.0), (440, 0.0), (454, 0.0), (484, 0.0), (486, 0.0), (491, 0.0), (492, 0.0), (498, 0.0), (506, 0.0), (516, 0.0), (517, 0.0), (520, 0.0), (525, 0.0), (528, 0.0), (529, 0.0), (531, 0.0), (535, 0.0), (536, 0.0), (546, 0.0), (548, 0.0), (549, 0.0), (552, 0.0), (554, 0.0), (556, 0.0), (557, 0.0), (565, 0.0), (567, 0.0), (569, 0.0), (570, 0.0), (572, 0.0), (573, 0.0), (574, 0.0), (575, 0.0), (577, 0.0), (585, 0.0), (591, 0.0), (592, 0.0), (599, 0.0), (601, 0.0), (602, 0.0), (603, 0.0), (610, 0.0), (630, 0.0), (649, 0.0), (650, 0.0), (656, 0.0), (658, 0.0), (662, 0.0), (663, 0.0), (665, 0.0), (674, 0.0), (679, 0.0), (681, 0.0), (686, 0.0), (699, 0.0), (700, 0.0), (702, 0.0), (704, 0.0), (708, 0.0), (709, 0.0), (711, 0.0), (713, 0.0), (714, 0.0), (718, 0.0), (720, 0.0), (724, 0.0), (725, 0.0), (726, 0.0), (730, 0.0), (736, 0.0), (741, 0.0), (746, 0.0), (747, 0.0), (751, 0.0), (754, 0.0), (764, 0.0), (770, 0.0), (771, 0.0), (772, 0.0), (773, 0.0), (780, 0.0), (781, 0.0), (784, 0.0), (785, 0.0), (786, 0.0), (789, 0.0), (797, 0.0), (807, 0.0), (819, 0.0), (820, 0.0), (822, 0.0), (837, 0.0), (839, 0.0), (840, 0.0), (841, 0.0), (846, 0.0), (859, 0.0), (881, 0.0), (882, 0.0), (892, 0.0), (909, 0.0), (912, 0.0), (913, 0.0), (914, 0.0), (920, 0.0), (926, 0.0), (938, 0.0), (943, 0.0), (945, 0.0), (946, 0.0), (950, 0.0), (954, 0.0), (955, 0.0), (956, 0.0), (960, 0.0), (961, 0.0), (964, 0.0), (965, 0.0), (971, 0.0), (972, 0.0), (977, 0.0), (978, 0.0), (982, 0.0), (983, 0.0), (990, 0.0), (995, 0.0), (1008, 0.0), (1010, 0.0), (1011, 0.0), (1013, 0.0), (1016, 0.0), (1022, 0.0), (1025, 0.0), (1028, 0.0), (1029, 0.0), (1031, 0.0), (1038, 0.0), (1039, 0.0), (1051, 0.0), (1055, 0.0), (1056, 0.0), (1062, 0.0), (1066, 0.0), (1067, 0.0), (1073, 0.0), (1081, 0.0), (1086, 0.0), (1089, 0.0), (1091, 0.0), (1093, 0.0), (1097, 0.0), (1101, 0.0), (1103, 0.0), (1105, 0.0), (1106, 0.0), (1108, 0.0), (1113, 0.0), (1126, 0.0), (1130, 0.0), (1133, 0.0), (1135, 0.0), (1139, 0.0), (1142, 0.0), (1143, 0.0), (1147, 0.0), (1149, 0.0), (1151, 0.0), (1155, 0.0), (1156, 0.0), (1159, 0.0), (1165, 0.0), (1166, 0.0), (1171, 0.0), (1178, 0.0), (1180, 0.0), (1189, 0.0), (1190, 0.0), (1193, 0.0), (1196, 0.0), (1198, 0.0), (1200, 0.0), (1201, 0.0), (1212, 0.0), (1218, 0.0), (1221, 0.0), (1222, 0.0), (1227, 0.0), (1228, 0.0), (1233, 0.0), (1235, 0.0), (1240, 0.0), (1242, 0.0), (1244, 0.0), (1246, 0.0), (1253, 0.0), (1256, 0.0), (1258, 0.0), (1263, 0.0), (1265, 0.0), (1268, 0.0), (1269, 0.0), (1271, 0.0), (1285, 0.0), (1287, 0.0), (1288, 0.0), (1289, 0.0), (1291, 0.0), (1295, 0.0), (1296, 0.0), (1297, 0.0), (1299, 0.0), (1315, 0.0), (1321, 0.0), (1322, 0.0), (1323, 0.0), (1326, 0.0), (1328, 0.0), (1333, 0.0), (1336, 0.0), (1346, 0.0), (1353, 0.0), (1354, 0.0), (1368, 0.0), (1373, 0.0), (1390, 0.0), (1399, 0.0), (1424, 0.0), (1437, 0.0), (1441, 0.0), (1444, 0.0), (1447, 0.0), (1457, 0.0), (1459, 0.0), (1460, 0.0), (1466, 0.0), (1467, 0.0), (1468, 0.0), (1470, 0.0), (1473, 0.0), (1485, 0.0), (1487, 0.0), (1490, 0.0), (1491, 0.0), (1495, 0.0), (1496, 0.0), (1508, 0.0), (1511, 0.0), (1517, 0.0), (1520, 0.0), (1521, 0.0), (1522, 0.0), (1524, 0.0), (1525, 0.0), (1529, 0.0), (1532, 0.0), (1534, 0.0), (1535, 0.0), (1541, 0.0), (1545, 0.0), (1548, 0.0), (1549, 0.0), (1556, 0.0), (1557, 0.0), (1561, 0.0), (1563, 0.0), (1564, 0.0), (1569, 0.0), (1577, 0.0), (1578, 0.0), (1581, 0.0), (1584, 0.0), (1586, 0.0), (1589, 0.0), (1592, 0.0), (1596, 0.0), (1599, 0.0), (1600, 0.0), (1601, 0.0), (1602, 0.0), (1603, 0.0), (1604, 0.0), (1606, 0.0), (1607, 0.0), (1610, 0.0), (1611, 0.0), (1613, 0.0), (1615, 0.0), (1618, 0.0), (1626, 0.0), (1636, 0.0), (1638, 0.0), (1639, 0.0), (1640, 0.0), (1646, 0.0), (1649, 0.0), (1651, 0.0), (1668, 0.0), (1669, 0.0), (1673, 0.0), (1679, 0.0), (1686, 0.0), (1689, 0.0), (1697, 0.0), (1698, 0.0), (1700, 0.0), (1704, 0.0), (1709, 0.0), (1725, 0.0), (1726, 0.0), (1728, 0.0), (1729, 0.0), (1731, 0.0), (1734, 0.0), (1745, 0.0), (1751, 0.0), (1755, 0.0), (1756, 0.0), (1758, 0.0), (1766, 0.0), (1767, 0.0), (1769, 0.0), (1771, 0.0), (1775, 0.0), (1777, 0.0), (1778, 0.0), (1783, 0.0), (1785, 0.0), (1786, 0.0), (1794, 0.0), (1800, 0.0), (1803, 0.0), (1804, 0.0), (1810, 0.0), (1820, 0.0), (1823, 0.0), (1824, 0.0), (1825, 0.0), (1834, 0.0), (1835, 0.0), (1836, 0.0), (1839, 0.0), (1842, 0.0), (1844, 0.0), (1855, 0.0), (1856, 0.0), (1879, 0.0), (1883, 0.0), (1888, 0.0), (1889, 0.0), (1894, 0.0), (1898, 0.0), (1899, 0.0), (1912, 0.0), (1915, 0.0), (1917, 0.0), (1926, 0.0), (1928, 0.0), (1932, 0.0), (1938, 0.0), (1944, 0.0), (1955, 0.0), (1956, 0.0), (1961, 0.0), (1963, 0.0), (1965, 0.0), (1966, 0.0), (1972, 0.0), (1974, 0.0), (1978, 0.0), (1979, 0.0), (1984, 0.0), (2001, 0.0), (2002, 0.0), (2003, 0.0), (2006, 0.0), (2007, 0.0), (2009, 0.0), (2017, 0.0), (2019, 0.0), (2021, 0.0), (2025, 0.0), (2028, 0.0), (2030, 0.0), (2032, 0.0), (2033, 0.0), (2036, 0.0), (2038, 0.0), (2041, 0.0), (2042, 0.0), (2043, 0.0), (2046, 0.0), (2050, 0.0), (2054, 0.0), (2059, 0.0), (2063, 0.0), (2071, 0.0), (2079, 0.0), (2081, 0.0), (2085, 0.0), (2086, 0.0), (2090, 0.0), (2092, 0.0), (2106, 0.0), (2107, 0.0), (2115, 0.0), (2118, 0.0), (2120, 0.0), (2124, 0.0), (2125, 0.0), (2128, 0.0), (2135, 0.0), (2138, 0.0), (2140, 0.0), (2150, 0.0), (2152, 0.0), (2153, 0.0), (2164, 0.0), (2165, 0.0), (2168, 0.0), (2170, 0.0), (2171, 0.0), (2172, 0.0), (2179, 0.0), (2180, 0.0), (2182, 0.0), (2183, 0.0), (2186, 0.0), (2194, 0.0), (2200, 0.0), (2204, 0.0), (2215, 0.0), (2217, 0.0), (2218, 0.0), (2219, 0.0), (2220, 0.0), (2222, 0.0), (2225, 0.0), (2227, 0.0), (2233, 0.0), (2234, 0.0), (2238, 0.0), (2241, 0.0), (2243, 0.0), (2247, 0.0), (2249, 0.0), (2253, 0.0), (2256, 0.0), (2259, 0.0), (2261, 0.0), (2262, 0.0), (2263, 0.0), (2267, 0.0), (2271, 0.0), (2272, 0.0), (2274, 0.0), (2281, 0.0), (2282, 0.0), (2296, 0.0), (2297, 0.0), (2300, 0.0), (2305, 0.0), (2307, 0.0), (2311, 0.0), (2312, 0.0), (2315, 0.0), (2322, 0.0), (2325, 0.0), (2327, 0.0), (2329, 0.0), (2331, 0.0), (2332, 0.0), (2333, 0.0), (2337, 0.0), (2341, 0.0), (2342, 0.0), (2345, 0.0), (2351, 0.0), (2352, 0.0), (2357, 0.0), (2360, 0.0), (2364, 0.0), (2369, 0.0), (2372, 0.0), (2373, 0.0), (2377, 0.0), (2380, 0.0), (2381, 0.0), (2384, 0.0), (2389, 0.0), (2395, 0.0), (2398, 0.0), (2409, 0.0), (2414, 0.0), (2420, 0.0), (2431, 0.0), (2433, 0.0), (2435, 0.0), (2445, 0.0), (2450, 0.0), (2451, 0.0), (2452, 0.0), (2455, 0.0), (2456, 0.0), (2458, 0.0), (2462, 0.0), (2465, 0.0), (2470, 0.0), (2471, 0.0), (2472, 0.0), (2479, 0.0), (2483, 0.0), (2485, 0.0), (2491, 0.0), (2493, 0.0), (2497, 0.0), (2498, 0.0), (2499, 0.0), (2500, 0.0), (2504, 0.0), (2508, 0.0), (2511, 0.0), (2514, 0.0), (2515, 0.0), (2516, 0.0), (2518, 0.0), (2521, 0.0), (2523, 0.0), (2532, 0.0), (2536, 0.0), (2539, 0.0), (2542, 0.0), (2543, 0.0), (2547, 0.0), (2548, 0.0), (2549, 0.0), (2551, 0.0), (2562, 0.0), (2564, 0.0), (2566, 0.0), (2574, 0.0), (2575, 0.0), (2577, 0.0), (2578, 0.0), (2583, 0.0), (2584, 0.0), (2586, 0.0), (2588, 0.0), (2589, 0.0), (2590, 0.0), (2594, 0.0), (2596, 0.0), (2597, 0.0), (2604, 0.0), (2605, 0.0), (2608, 0.0), (2615, 0.0), (2616, 0.0), (2620, 0.0), (2627, 0.0), (2631, 0.0), (2637, 0.0), (2641, 0.0), (2648, 0.0), (2656, 0.0), (2657, 0.0), (2658, 0.0), (2659, 0.0), (2662, 0.0), (2663, 0.0), (2666, 0.0), (2667, 0.0), (2669, 0.0), (2670, 0.0), (2671, 0.0), (2672, 0.0), (2675, 0.0), (2676, 0.0), (2677, 0.0), (2681, 0.0), (2684, 0.0), (2685, 0.0), (2686, 0.0), (2690, 0.0), (2693, 0.0), (2701, 0.0), (2703, 0.0), (2704, 0.0), (2709, 0.0), (2715, 0.0), (2717, 0.0), (2719, 0.0), (2729, 0.0), (2730, 0.0), (2734, 0.0), (2737, 0.0), (2749, 0.0), (2750, 0.0), (2754, 0.0), (2756, 0.0), (2763, 0.0), (2770, 0.0), (2773, 0.0), (2781, 0.0), (2785, 0.0), (2793, 0.0), (2794, 0.0), (2799, 0.0), (2804, 0.0), (2806, 0.0), (2810, 0.0), (2811, 0.0), (2813, 0.0), (2814, 0.0), (2817, 0.0), (2818, 0.0), (2824, 0.0), (2827, 0.0), (2828, 0.0), (2829, 0.0), (2835, 0.0), (2836, 0.0), (2837, 0.0), (2839, 0.0), (2842, 0.0), (2850, 0.0), (2851, 0.0), (2852, 0.0), (2855, 0.0), (2856, 0.0), (2860, 0.0), (2864, 0.0), (2865, 0.0), (2866, 0.0), (2875, 0.0), (2877, 0.0), (2880, 0.0), (2891, 0.0), (2896, 0.0), (2898, 0.0), (2905, 0.0), (2906, 0.0), (2921, 0.0), (2922, 0.0), (2927, 0.0), (2928, 0.0), (2930, 0.0), (2938, 0.0), (2941, 0.0), (2951, 0.0), (2952, 0.0), (2955, 0.0), (2956, 0.0), (2958, 0.0), (2967, 0.0), (2968, 0.0), (2973, 0.0), (2979, 0.0), (2982, 0.0), (2983, 0.0), (2990, 0.0), (3001, 0.0), (3002, 0.0), (3006, 0.0), (3009, 0.0), (3021, 0.0), (3025, 0.0), (3029, 0.0), (3034, 0.0), (3038, 0.0), (3041, 0.0), (3047, 0.0), (3048, 0.0), (3054, 0.0), (3058, 0.0), (3059, 0.0), (3060, 0.0), (3061, 0.0), (3063, 0.0), (3073, 0.0), (3077, 0.0), (3078, 0.0), (3080, 0.0), (3082, 0.0), (3087, 0.0), (3088, 0.0), (3089, 0.0), (3090, 0.0), (3092, 0.0), (3103, 0.0), (3104, 0.0), (3105, 0.0), (3106, 0.0), (3107, 0.0), (3109, 0.0), (3115, 0.0), (3121, 0.0), (3130, 0.0), (3132, 0.0), (3138, 0.0), (3141, 0.0), (3145, 0.0), (3162, 0.0), (3169, 0.0), (3172, 0.0), (3175, 0.0), (3176, 0.0), (3177, 0.0), (3181, 0.0), (3188, 0.0), (3189, 0.0), (3190, 0.0), (3193, 0.0), (3197, 0.0), (3201, 0.0), (3202, 0.0), (3204, 0.0), (3207, 0.0), (3208, 0.0), (3212, 0.0), (3217, 0.0), (3221, 0.0), (3223, 0.0), (3229, 0.0), (3231, 0.0), (3236, 0.0), (3250, 0.0), (3251, 0.0), (3261, 0.0), (3266, 0.0), (3270, 0.0), (3272, 0.0), (3277, 0.0), (3281, 0.0), (3286, 0.0), (3287, 0.0), (3305, 0.0), (3310, 0.0), (3320, 0.0), (3321, 0.0), (3323, 0.0), (3324, 0.0), (3332, 0.0), (3333, 0.0), (3340, 0.0), (3343, 0.0), (3350, 0.0), (3366, 0.0), (3368, 0.0), (3371, 0.0), (3378, 0.0), (3383, 0.0), (3394, 0.0), (3397, 0.0), (3400, 0.0), (3401, 0.0), (3411, 0.0), (3415, 0.0), (3422, 0.0), (3424, 0.0), (3439, 0.0), (3442, 0.0), (3444, 0.0), (3454, 0.0), (3459, 0.0), (3461, 0.0), (3467, 0.0), (3472, 0.0), (3473, 0.0), (3475, 0.0), (3476, 0.0), (3481, 0.0), (3482, 0.0), (3485, 0.0), (3489, 0.0), (3490, 0.0), (3494, 0.0), (3505, 0.0), (3510, 0.0), (3519, 0.0), (3522, 0.0), (3525, 0.0), (3529, 0.0), (3530, 0.0), (3532, 0.0), (3533, 0.0), (3539, 0.0), (3543, 0.0), (3545, 0.0), (3547, 0.0), (3549, 0.0), (3550, 0.0), (3554, 0.0), (3562, 0.0), (3567, 0.0), (3568, 0.0), (3578, 0.0), (3581, 0.0), (3585, 0.0), (3589, 0.0), (3591, 0.0), (3592, 0.0), (3595, 0.0), (3600, 0.0), (3603, 0.0), (3607, 0.0), (3609, 0.0), (3610, 0.0), (3617, 0.0), (3622, 0.0), (3625, 0.0), (3628, 0.0), (3631, 0.0), (3633, 0.0), (3644, 0.0), (3649, 0.0), (3650, 0.0), (3662, 0.0), (3663, 0.0), (3671, 0.0), (3676, 0.0), (3681, 0.0), (3682, 0.0), (3683, 0.0), (3685, 0.0), (3686, 0.0), (3690, 0.0), (3693, 0.0), (3695, 0.0), (3697, 0.0), (3698, 0.0), (3700, 0.0), (3702, 0.0), (3703, 0.0), (3709, 0.0), (3712, 0.0), (3716, 0.0), (3717, 0.0), (3718, 0.0), (3722, 0.0), (3724, 0.0), (3726, 0.0), (3730, 0.0), (3732, 0.0), (3735, 0.0), (3736, 0.0), (3738, 0.0), (3740, 0.0), (3743, 0.0), (3758, 0.0), (3759, 0.0), (3760, 0.0), (3761, 0.0), (3764, 0.0), (3783, 0.0), (3785, 0.0), (3786, 0.0), (3789, 0.0), (3790, 0.0), (3791, 0.0), (3796, 0.0), (3798, 0.0), (3800, 0.0), (3803, 0.0), (3805, 0.0), (3808, 0.0), (3812, 0.0), (3816, 0.0), (3817, 0.0), (3818, 0.0), (3820, 0.0), (3830, 0.0), (3831, 0.0), (3834, 0.0), (3836, 0.0), (3837, 0.0), (3838, 0.0), (3840, 0.0), (3843, 0.0), (3846, 0.0), (3847, 0.0), (3851, 0.0), (3856, 0.0), (3858, 0.0), (3859, 0.0), (3869, 0.0), (3870, 0.0), (3879, 0.0), (3885, 0.0), (3887, 0.0), (3896, 0.0), (3912, 0.0), (3914, 0.0), (3918, 0.0), (3921, 0.0), (3929, 0.0), (3930, 0.0), (3931, 0.0), (3933, 0.0), (3936, 0.0), (3937, 0.0), (3943, 0.0), (3948, 0.0), (3950, 0.0), (3964, 0.0), (3965, 0.0), (3968, 0.0), (3969, 0.0), (3971, 0.0), (3972, 0.0), (3977, 0.0), (3979, 0.0), (3980, 0.0), (3981, 0.0), (3982, 0.0), (3985, 0.0), (3988, 0.0), (3991, 0.0), (3994, 0.0), (3996, 0.0), (4003, 0.0), (4006, 0.0), (4010, 0.0), (4018, 0.0), (4021, 0.0), (4022, 0.0), (4026, 0.0), (4027, 0.0), (4029, 0.0), (4031, 0.0), (4034, 0.0), (4037, 0.0), (4040, 0.0), (4041, 0.0), (4058, 0.0), (4063, 0.0), (4065, 0.0), (4067, 0.0), (4070, 0.0), (4072, 0.0), (4073, 0.0), (4078, 0.0), (4084, 0.0), (4086, 0.0), (4097, 0.0), (4100, 0.0), (4108, 0.0), (4109, 0.0), (4112, 0.0), (4114, 0.0), (4115, 0.0), (4125, 0.0), (4127, 0.0), (4131, 0.0), (4144, 0.0), (4146, 0.0), (4150, 0.0), (4153, 0.0), (4157, 0.0), (4159, 0.0), (4166, 0.0), (4167, 0.0), (4168, 0.0), (4170, 0.0), (4173, 0.0), (4179, 0.0), (4180, 0.0), (4181, 0.0), (4185, 0.0), (4186, 0.0), (4188, 0.0), (4190, 0.0), (4191, 0.0), (4194, 0.0), (4198, 0.0), (4199, 0.0), (4201, 0.0), (4204, 0.0), (4207, 0.0), (4212, 0.0), (4214, 0.0), (4215, 0.0), (4218, 0.0), (4223, 0.0), (4224, 0.0), (4229, 0.0), (4234, 0.0), (4237, 0.0), (4238, 0.0), (4239, 0.0), (4241, 0.0), (4250, 0.0), (4253, 0.0), (4256, 0.0), (4258, 0.0), (4260, 0.0), (4270, 0.0), (4271, 0.0), (4276, 0.0), (4278, 0.0), (4279, 0.0), (4291, 0.0), (4297, 0.0), (4300, 0.0), (4302, 0.0), (4305, 0.0), (4313, 0.0), (4315, 0.0), (4316, 0.0), (4317, 0.0), (4319, 0.0), (4323, 0.0), (4324, 0.0), (4327, 0.0), (4329, 0.0), (4332, 0.0), (4338, 0.0), (4341, 0.0), (4346, 0.0), (4347, 0.0), (4352, 0.0), (4353, 0.0), (4358, 0.0), (4364, 0.0), (4370, 0.0), (4372, 0.0), (4393, 0.0), (4404, 0.0), (4405, 0.0), (4406, 0.0), (4408, 0.0), (4410, 0.0), (4413, 0.0), (4414, 0.0), (4415, 0.0), (4417, 0.0), (4421, 0.0), (4424, 0.0), (4425, 0.0), (4433, 0.0), (4434, 0.0), (4437, 0.0), (4439, 0.0), (4447, 0.0), (4449, 0.0), (4451, 0.0), (4453, 0.0), (4454, 0.0), (4455, 0.0), (4457, 0.0), (4460, 0.0), (4463, 0.0), (4478, 0.0), (4480, 0.0), (4483, 0.0), (4485, 0.0), (4491, 0.0), (4493, 0.0), (4496, 0.0), (4498, 0.0), (4499, 0.0), (4500, 0.0), (4506, 0.0), (4508, 0.0), (4509, 0.0), (4519, 0.0), (4525, 0.0), (4526, 0.0), (4532, 0.0), (4539, 0.0), (4541, 0.0), (4542, 0.0), (4547, 0.0), (4549, 0.0), (4556, 0.0), (4558, 0.0), (4559, 0.0), (4560, 0.0), (4561, 0.0), (4562, 0.0), (4565, 0.0), (4568, 0.0), (4569, 0.0), (4570, 0.0), (4577, 0.0), (4578, 0.0), (4580, 0.0), (4592, 0.0), (4597, 0.0), (4599, 0.0), (4600, 0.0), (4609, 0.0), (4613, 0.0), (4615, 0.0), (4618, 0.0), (4622, 0.0), (4628, 0.0), (4631, 0.0), (4635, 0.0), (4644, 0.0), (4647, 0.0), (4648, 0.0), (4651, 0.0), (4654, 0.0), (4655, 0.0), (4662, 0.0), (4667, 0.0), (4671, 0.0), (4672, 0.0), (4675, 0.0), (4676, 0.0), (4681, 0.0), (4683, 0.0), (4688, 0.0), (4690, 0.0), (4700, 0.0), (4702, 0.0), (4711, 0.0), (4714, 0.0), (4716, 0.0), (4720, 0.0), (4725, 0.0), (4728, 0.0), (4730, 0.0), (4736, 0.0), (4737, 0.0), (4740, 0.0), (4741, 0.0), (4742, 0.0), (4745, 0.0), (4750, 0.0), (4751, 0.0), (4754, 0.0), (4755, 0.0), (4758, 0.0), (4759, 0.0)]\n"
          ]
        }
      ]
    },
    {
      "cell_type": "code",
      "source": [
        "#name of similar movies based on index\n",
        "\n",
        "print('Top 30 movies Suggested for you : \\n')\n",
        "\n",
        "i = 1\n",
        "\n",
        "for movie in Sorted_Similar_Movies:\n",
        "  index = movie[0]\n",
        "  title_from_index = df[df.index==index]['Movie_Title'].values[0]\n",
        "  if(i < 31):\n",
        "    print(i, '.',title_from_index)\n",
        "    i += 1"
      ],
      "metadata": {
        "colab": {
          "base_uri": "https://localhost:8080/"
        },
        "id": "vv2muvAVz3Hy",
        "outputId": "47896d45-0dcd-4958-f7ab-8040df0cc054"
      },
      "execution_count": null,
      "outputs": [
        {
          "output_type": "stream",
          "name": "stdout",
          "text": [
            "Top 30 movies Suggested for you : \n",
            "\n",
            "1 . Niagara\n",
            "2 . Caravans\n",
            "3 . My Week with Marilyn\n",
            "4 . Brokeback Mountain\n",
            "5 . Harry Brown\n",
            "6 . Night of the Living Dead\n",
            "7 . The Curse of Downers Grove\n",
            "8 . The Boy Next Door\n",
            "9 . Back to the Future\n",
            "10 . The Juror\n",
            "11 . Some Like It Hot\n",
            "12 . Enough\n",
            "13 . The Kentucky Fried Movie\n",
            "14 . Eye for an Eye\n",
            "15 . Welcome to the Sticks\n",
            "16 . Alice Through the Looking Glass\n",
            "17 . Superman III\n",
            "18 . The Misfits\n",
            "19 . Premium Rush\n",
            "20 . Duel in the Sun\n",
            "21 . Sabotage\n",
            "22 . Small Soldiers\n",
            "23 . All That Jazz\n",
            "24 . Camping Sauvage\n",
            "25 . The Raid\n",
            "26 . Beyond the Black Rainbow\n",
            "27 . To Kill a Mockingbird\n",
            "28 . World Trade Center\n",
            "29 . The Dark Knight Rises\n",
            "30 . Tora! Tora! Tora!\n"
          ]
        }
      ]
    },
    {
      "cell_type": "markdown",
      "source": [],
      "metadata": {
        "id": "VefWidDz1w58"
      }
    },
    {
      "cell_type": "code",
      "source": [
        "import difflib\n",
        "\n",
        "Movie_Name = input('Enter your favourite movie name: ')\n",
        "\n",
        "list_of_all_titles = df['Movie_Title'].tolist()\n",
        "\n",
        "Find_Close_Match = difflib.get_close_matches(Movie_Name, list_of_all_titles)\n",
        "\n",
        "if Find_Close_Match:\n",
        "    Close_Match = Find_Close_Match[0]\n",
        "\n",
        "    Index_of_Movie = df[df['Movie_Title'] == Close_Match]['Movie_ID'].values[0]\n",
        "\n",
        "    Recommendation_Score = list(enumerate(Similarity_Score[Index_of_Movie]))\n",
        "\n",
        "    sorted_similar_movies = sorted(Recommendation_Score, key=lambda x: x[1], reverse=True)\n",
        "\n",
        "    print(\"Top 10 Movies suggested for you: \\n\")\n",
        "\n",
        "    i = 1\n",
        "\n",
        "    for movie in sorted_similar_movies:\n",
        "        index = movie[0]\n",
        "        matched_movies = df[df['Movie_ID'] == index]\n",
        "        if not matched_movies.empty:\n",
        "            title_from_index = matched_movies['Movie_Title'].values[0]\n",
        "            if i < 11:\n",
        "                print(f\"{i}. {title_from_index}\")\n",
        "                i += 1\n",
        "else:\n",
        "    print(\"No close match found for the movie name you entered.\")\n"
      ],
      "metadata": {
        "colab": {
          "base_uri": "https://localhost:8080/"
        },
        "id": "MoWxlS4x1xn8",
        "outputId": "d702c0bf-ce33-4a7c-a677-888649f8dca7"
      },
      "execution_count": null,
      "outputs": [
        {
          "output_type": "stream",
          "name": "stdout",
          "text": [
            "Enter your favourite movie name: finding nemo\n",
            "Top 10 Movies suggested for you: \n",
            "\n",
            "1. Finding Nemo\n",
            "2. Borat: Cultural Learnings of America for Make Benefit Glorious Nation of Kazakhstan\n",
            "3. In Cold Blood\n",
            "4. Intolerable Cruelty\n",
            "5. A Nightmare on Elm Street\n",
            "6. What the #$*! Do We (K)now!?\n",
            "7. Hamlet 2\n",
            "8. Ghost Rider\n",
            "9. Chasing Mavericks\n",
            "10. Chocolate: Deep Dark Secrets\n"
          ]
        }
      ]
    }
  ]
}